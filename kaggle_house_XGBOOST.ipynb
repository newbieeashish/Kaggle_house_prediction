{
 "cells": [
  {
   "cell_type": "code",
   "execution_count": 1,
   "metadata": {},
   "outputs": [],
   "source": [
    "import numpy as np\n",
    "import pandas as pd\n",
    "import matplotlib.pyplot as plt\n",
    "import seaborn as sns"
   ]
  },
  {
   "cell_type": "code",
   "execution_count": 2,
   "metadata": {},
   "outputs": [],
   "source": [
    "df = pd.read_csv('train_house.csv')"
   ]
  },
  {
   "cell_type": "code",
   "execution_count": 3,
   "metadata": {},
   "outputs": [
    {
     "data": {
      "text/html": [
       "<div>\n",
       "<style scoped>\n",
       "    .dataframe tbody tr th:only-of-type {\n",
       "        vertical-align: middle;\n",
       "    }\n",
       "\n",
       "    .dataframe tbody tr th {\n",
       "        vertical-align: top;\n",
       "    }\n",
       "\n",
       "    .dataframe thead th {\n",
       "        text-align: right;\n",
       "    }\n",
       "</style>\n",
       "<table border=\"1\" class=\"dataframe\">\n",
       "  <thead>\n",
       "    <tr style=\"text-align: right;\">\n",
       "      <th></th>\n",
       "      <th>Id</th>\n",
       "      <th>MSSubClass</th>\n",
       "      <th>MSZoning</th>\n",
       "      <th>LotFrontage</th>\n",
       "      <th>LotArea</th>\n",
       "      <th>Street</th>\n",
       "      <th>Alley</th>\n",
       "      <th>LotShape</th>\n",
       "      <th>LandContour</th>\n",
       "      <th>Utilities</th>\n",
       "      <th>...</th>\n",
       "      <th>PoolArea</th>\n",
       "      <th>PoolQC</th>\n",
       "      <th>Fence</th>\n",
       "      <th>MiscFeature</th>\n",
       "      <th>MiscVal</th>\n",
       "      <th>MoSold</th>\n",
       "      <th>YrSold</th>\n",
       "      <th>SaleType</th>\n",
       "      <th>SaleCondition</th>\n",
       "      <th>SalePrice</th>\n",
       "    </tr>\n",
       "  </thead>\n",
       "  <tbody>\n",
       "    <tr>\n",
       "      <th>0</th>\n",
       "      <td>1</td>\n",
       "      <td>60</td>\n",
       "      <td>RL</td>\n",
       "      <td>65.0</td>\n",
       "      <td>8450</td>\n",
       "      <td>Pave</td>\n",
       "      <td>NaN</td>\n",
       "      <td>Reg</td>\n",
       "      <td>Lvl</td>\n",
       "      <td>AllPub</td>\n",
       "      <td>...</td>\n",
       "      <td>0</td>\n",
       "      <td>NaN</td>\n",
       "      <td>NaN</td>\n",
       "      <td>NaN</td>\n",
       "      <td>0</td>\n",
       "      <td>2</td>\n",
       "      <td>2008</td>\n",
       "      <td>WD</td>\n",
       "      <td>Normal</td>\n",
       "      <td>208500</td>\n",
       "    </tr>\n",
       "    <tr>\n",
       "      <th>1</th>\n",
       "      <td>2</td>\n",
       "      <td>20</td>\n",
       "      <td>RL</td>\n",
       "      <td>80.0</td>\n",
       "      <td>9600</td>\n",
       "      <td>Pave</td>\n",
       "      <td>NaN</td>\n",
       "      <td>Reg</td>\n",
       "      <td>Lvl</td>\n",
       "      <td>AllPub</td>\n",
       "      <td>...</td>\n",
       "      <td>0</td>\n",
       "      <td>NaN</td>\n",
       "      <td>NaN</td>\n",
       "      <td>NaN</td>\n",
       "      <td>0</td>\n",
       "      <td>5</td>\n",
       "      <td>2007</td>\n",
       "      <td>WD</td>\n",
       "      <td>Normal</td>\n",
       "      <td>181500</td>\n",
       "    </tr>\n",
       "    <tr>\n",
       "      <th>2</th>\n",
       "      <td>3</td>\n",
       "      <td>60</td>\n",
       "      <td>RL</td>\n",
       "      <td>68.0</td>\n",
       "      <td>11250</td>\n",
       "      <td>Pave</td>\n",
       "      <td>NaN</td>\n",
       "      <td>IR1</td>\n",
       "      <td>Lvl</td>\n",
       "      <td>AllPub</td>\n",
       "      <td>...</td>\n",
       "      <td>0</td>\n",
       "      <td>NaN</td>\n",
       "      <td>NaN</td>\n",
       "      <td>NaN</td>\n",
       "      <td>0</td>\n",
       "      <td>9</td>\n",
       "      <td>2008</td>\n",
       "      <td>WD</td>\n",
       "      <td>Normal</td>\n",
       "      <td>223500</td>\n",
       "    </tr>\n",
       "    <tr>\n",
       "      <th>3</th>\n",
       "      <td>4</td>\n",
       "      <td>70</td>\n",
       "      <td>RL</td>\n",
       "      <td>60.0</td>\n",
       "      <td>9550</td>\n",
       "      <td>Pave</td>\n",
       "      <td>NaN</td>\n",
       "      <td>IR1</td>\n",
       "      <td>Lvl</td>\n",
       "      <td>AllPub</td>\n",
       "      <td>...</td>\n",
       "      <td>0</td>\n",
       "      <td>NaN</td>\n",
       "      <td>NaN</td>\n",
       "      <td>NaN</td>\n",
       "      <td>0</td>\n",
       "      <td>2</td>\n",
       "      <td>2006</td>\n",
       "      <td>WD</td>\n",
       "      <td>Abnorml</td>\n",
       "      <td>140000</td>\n",
       "    </tr>\n",
       "    <tr>\n",
       "      <th>4</th>\n",
       "      <td>5</td>\n",
       "      <td>60</td>\n",
       "      <td>RL</td>\n",
       "      <td>84.0</td>\n",
       "      <td>14260</td>\n",
       "      <td>Pave</td>\n",
       "      <td>NaN</td>\n",
       "      <td>IR1</td>\n",
       "      <td>Lvl</td>\n",
       "      <td>AllPub</td>\n",
       "      <td>...</td>\n",
       "      <td>0</td>\n",
       "      <td>NaN</td>\n",
       "      <td>NaN</td>\n",
       "      <td>NaN</td>\n",
       "      <td>0</td>\n",
       "      <td>12</td>\n",
       "      <td>2008</td>\n",
       "      <td>WD</td>\n",
       "      <td>Normal</td>\n",
       "      <td>250000</td>\n",
       "    </tr>\n",
       "  </tbody>\n",
       "</table>\n",
       "<p>5 rows × 81 columns</p>\n",
       "</div>"
      ],
      "text/plain": [
       "   Id  MSSubClass MSZoning  LotFrontage  LotArea Street Alley LotShape  \\\n",
       "0   1          60       RL         65.0     8450   Pave   NaN      Reg   \n",
       "1   2          20       RL         80.0     9600   Pave   NaN      Reg   \n",
       "2   3          60       RL         68.0    11250   Pave   NaN      IR1   \n",
       "3   4          70       RL         60.0     9550   Pave   NaN      IR1   \n",
       "4   5          60       RL         84.0    14260   Pave   NaN      IR1   \n",
       "\n",
       "  LandContour Utilities  ... PoolArea PoolQC Fence MiscFeature MiscVal MoSold  \\\n",
       "0         Lvl    AllPub  ...        0    NaN   NaN         NaN       0      2   \n",
       "1         Lvl    AllPub  ...        0    NaN   NaN         NaN       0      5   \n",
       "2         Lvl    AllPub  ...        0    NaN   NaN         NaN       0      9   \n",
       "3         Lvl    AllPub  ...        0    NaN   NaN         NaN       0      2   \n",
       "4         Lvl    AllPub  ...        0    NaN   NaN         NaN       0     12   \n",
       "\n",
       "  YrSold  SaleType  SaleCondition  SalePrice  \n",
       "0   2008        WD         Normal     208500  \n",
       "1   2007        WD         Normal     181500  \n",
       "2   2008        WD         Normal     223500  \n",
       "3   2006        WD        Abnorml     140000  \n",
       "4   2008        WD         Normal     250000  \n",
       "\n",
       "[5 rows x 81 columns]"
      ]
     },
     "execution_count": 3,
     "metadata": {},
     "output_type": "execute_result"
    }
   ],
   "source": [
    "df.head()"
   ]
  },
  {
   "cell_type": "code",
   "execution_count": 4,
   "metadata": {},
   "outputs": [
    {
     "data": {
      "text/plain": [
       "(1460, 81)"
      ]
     },
     "execution_count": 4,
     "metadata": {},
     "output_type": "execute_result"
    }
   ],
   "source": [
    "df.shape"
   ]
  },
  {
   "cell_type": "code",
   "execution_count": 5,
   "metadata": {},
   "outputs": [
    {
     "data": {
      "text/plain": [
       "Id                 0\n",
       "MSSubClass         0\n",
       "MSZoning           0\n",
       "LotFrontage      259\n",
       "LotArea            0\n",
       "                ... \n",
       "MoSold             0\n",
       "YrSold             0\n",
       "SaleType           0\n",
       "SaleCondition      0\n",
       "SalePrice          0\n",
       "Length: 81, dtype: int64"
      ]
     },
     "execution_count": 5,
     "metadata": {},
     "output_type": "execute_result"
    }
   ],
   "source": [
    "df.isnull().sum()"
   ]
  },
  {
   "cell_type": "code",
   "execution_count": 6,
   "metadata": {
    "scrolled": true
   },
   "outputs": [
    {
     "name": "stdout",
     "output_type": "stream",
     "text": [
      "<class 'pandas.core.frame.DataFrame'>\n",
      "RangeIndex: 1460 entries, 0 to 1459\n",
      "Data columns (total 81 columns):\n",
      " #   Column         Non-Null Count  Dtype  \n",
      "---  ------         --------------  -----  \n",
      " 0   Id             1460 non-null   int64  \n",
      " 1   MSSubClass     1460 non-null   int64  \n",
      " 2   MSZoning       1460 non-null   object \n",
      " 3   LotFrontage    1201 non-null   float64\n",
      " 4   LotArea        1460 non-null   int64  \n",
      " 5   Street         1460 non-null   object \n",
      " 6   Alley          91 non-null     object \n",
      " 7   LotShape       1460 non-null   object \n",
      " 8   LandContour    1460 non-null   object \n",
      " 9   Utilities      1460 non-null   object \n",
      " 10  LotConfig      1460 non-null   object \n",
      " 11  LandSlope      1460 non-null   object \n",
      " 12  Neighborhood   1460 non-null   object \n",
      " 13  Condition1     1460 non-null   object \n",
      " 14  Condition2     1460 non-null   object \n",
      " 15  BldgType       1460 non-null   object \n",
      " 16  HouseStyle     1460 non-null   object \n",
      " 17  OverallQual    1460 non-null   int64  \n",
      " 18  OverallCond    1460 non-null   int64  \n",
      " 19  YearBuilt      1460 non-null   int64  \n",
      " 20  YearRemodAdd   1460 non-null   int64  \n",
      " 21  RoofStyle      1460 non-null   object \n",
      " 22  RoofMatl       1460 non-null   object \n",
      " 23  Exterior1st    1460 non-null   object \n",
      " 24  Exterior2nd    1460 non-null   object \n",
      " 25  MasVnrType     1452 non-null   object \n",
      " 26  MasVnrArea     1452 non-null   float64\n",
      " 27  ExterQual      1460 non-null   object \n",
      " 28  ExterCond      1460 non-null   object \n",
      " 29  Foundation     1460 non-null   object \n",
      " 30  BsmtQual       1423 non-null   object \n",
      " 31  BsmtCond       1423 non-null   object \n",
      " 32  BsmtExposure   1422 non-null   object \n",
      " 33  BsmtFinType1   1423 non-null   object \n",
      " 34  BsmtFinSF1     1460 non-null   int64  \n",
      " 35  BsmtFinType2   1422 non-null   object \n",
      " 36  BsmtFinSF2     1460 non-null   int64  \n",
      " 37  BsmtUnfSF      1460 non-null   int64  \n",
      " 38  TotalBsmtSF    1460 non-null   int64  \n",
      " 39  Heating        1460 non-null   object \n",
      " 40  HeatingQC      1460 non-null   object \n",
      " 41  CentralAir     1460 non-null   object \n",
      " 42  Electrical     1459 non-null   object \n",
      " 43  1stFlrSF       1460 non-null   int64  \n",
      " 44  2ndFlrSF       1460 non-null   int64  \n",
      " 45  LowQualFinSF   1460 non-null   int64  \n",
      " 46  GrLivArea      1460 non-null   int64  \n",
      " 47  BsmtFullBath   1460 non-null   int64  \n",
      " 48  BsmtHalfBath   1460 non-null   int64  \n",
      " 49  FullBath       1460 non-null   int64  \n",
      " 50  HalfBath       1460 non-null   int64  \n",
      " 51  BedroomAbvGr   1460 non-null   int64  \n",
      " 52  KitchenAbvGr   1460 non-null   int64  \n",
      " 53  KitchenQual    1460 non-null   object \n",
      " 54  TotRmsAbvGrd   1460 non-null   int64  \n",
      " 55  Functional     1460 non-null   object \n",
      " 56  Fireplaces     1460 non-null   int64  \n",
      " 57  FireplaceQu    770 non-null    object \n",
      " 58  GarageType     1379 non-null   object \n",
      " 59  GarageYrBlt    1379 non-null   float64\n",
      " 60  GarageFinish   1379 non-null   object \n",
      " 61  GarageCars     1460 non-null   int64  \n",
      " 62  GarageArea     1460 non-null   int64  \n",
      " 63  GarageQual     1379 non-null   object \n",
      " 64  GarageCond     1379 non-null   object \n",
      " 65  PavedDrive     1460 non-null   object \n",
      " 66  WoodDeckSF     1460 non-null   int64  \n",
      " 67  OpenPorchSF    1460 non-null   int64  \n",
      " 68  EnclosedPorch  1460 non-null   int64  \n",
      " 69  3SsnPorch      1460 non-null   int64  \n",
      " 70  ScreenPorch    1460 non-null   int64  \n",
      " 71  PoolArea       1460 non-null   int64  \n",
      " 72  PoolQC         7 non-null      object \n",
      " 73  Fence          281 non-null    object \n",
      " 74  MiscFeature    54 non-null     object \n",
      " 75  MiscVal        1460 non-null   int64  \n",
      " 76  MoSold         1460 non-null   int64  \n",
      " 77  YrSold         1460 non-null   int64  \n",
      " 78  SaleType       1460 non-null   object \n",
      " 79  SaleCondition  1460 non-null   object \n",
      " 80  SalePrice      1460 non-null   int64  \n",
      "dtypes: float64(3), int64(35), object(43)\n",
      "memory usage: 924.0+ KB\n"
     ]
    }
   ],
   "source": [
    "df.info()"
   ]
  },
  {
   "cell_type": "code",
   "execution_count": 7,
   "metadata": {},
   "outputs": [],
   "source": [
    "df['LotFrontage'] = df['LotFrontage'].fillna(df['LotFrontage'].mean())"
   ]
  },
  {
   "cell_type": "code",
   "execution_count": 8,
   "metadata": {},
   "outputs": [],
   "source": [
    "df.drop(['Alley'], axis = 1, inplace = True)"
   ]
  },
  {
   "cell_type": "code",
   "execution_count": 9,
   "metadata": {},
   "outputs": [],
   "source": [
    "df['BsmtCond'] = df['BsmtCond'].fillna(df['BsmtCond'].mode()[0])\n",
    "df['BsmtQual'] = df['BsmtQual'].fillna(df['BsmtQual'].mode()[0])"
   ]
  },
  {
   "cell_type": "code",
   "execution_count": 10,
   "metadata": {},
   "outputs": [],
   "source": [
    "df['GarageFinish'] = df['GarageFinish'].fillna(df['GarageFinish'].mode()[0])\n",
    "df['GarageQual'] = df['GarageQual'].fillna(df['GarageQual'].mode()[0])\n",
    "df['GarageCond'] = df['GarageCond'].fillna(df['GarageCond'].mode()[0])"
   ]
  },
  {
   "cell_type": "code",
   "execution_count": 11,
   "metadata": {},
   "outputs": [],
   "source": [
    "df.drop(['GarageYrBlt'],axis = 1, inplace = True)"
   ]
  },
  {
   "cell_type": "code",
   "execution_count": 12,
   "metadata": {},
   "outputs": [],
   "source": [
    "df.drop(['PoolQC','Fence','MiscFeature'],axis = 1, inplace = True)"
   ]
  },
  {
   "cell_type": "code",
   "execution_count": 13,
   "metadata": {},
   "outputs": [],
   "source": [
    "df.drop(['Id'],axis = 1, inplace = True)"
   ]
  },
  {
   "cell_type": "code",
   "execution_count": 14,
   "metadata": {},
   "outputs": [],
   "source": [
    "df['MasVnrType'] = df['MasVnrType'].fillna(df['MasVnrType'].mode()[0])\n",
    "df['MasVnrArea'] = df['MasVnrArea'].fillna(df['MasVnrArea'].mode()[0])"
   ]
  },
  {
   "cell_type": "code",
   "execution_count": 15,
   "metadata": {},
   "outputs": [],
   "source": [
    "df['BsmtExposure'] = df['BsmtExposure'].fillna(df['BsmtExposure'].mode()[0])"
   ]
  },
  {
   "cell_type": "code",
   "execution_count": 16,
   "metadata": {},
   "outputs": [],
   "source": [
    "df['BsmtFinType2'] = df['BsmtFinType2'].fillna(df['BsmtFinType2'].mode()[0])"
   ]
  },
  {
   "cell_type": "code",
   "execution_count": 17,
   "metadata": {},
   "outputs": [],
   "source": [
    "df['BsmtFinType1'] = df['BsmtFinType1'].fillna(df['BsmtFinType1'].mode()[0])"
   ]
  },
  {
   "cell_type": "code",
   "execution_count": 18,
   "metadata": {},
   "outputs": [
    {
     "data": {
      "text/plain": [
       "<matplotlib.axes._subplots.AxesSubplot at 0x2438b967308>"
      ]
     },
     "execution_count": 18,
     "metadata": {},
     "output_type": "execute_result"
    },
    {
     "data": {
      "image/png": "[encoded data removed]",
      "text/plain": [
       "<Figure size 432x288 with 1 Axes>"
      ]
     },
     "metadata": {
      "needs_background": "light"
     },
     "output_type": "display_data"
    }
   ],
   "source": [
    "sns.heatmap(df.isnull(),yticklabels = False,cbar= False, cmap = 'YlGnBu')"
   ]
  },
  {
   "cell_type": "code",
   "execution_count": 19,
   "metadata": {},
   "outputs": [
    {
     "data": {
      "text/plain": [
       "(1460, 75)"
      ]
     },
     "execution_count": 19,
     "metadata": {},
     "output_type": "execute_result"
    }
   ],
   "source": [
    "df.shape"
   ]
  },
  {
   "cell_type": "code",
   "execution_count": 20,
   "metadata": {},
   "outputs": [],
   "source": [
    "df['Fireplaces'] = df['Fireplaces'].fillna(df['Fireplaces'].mode()[0])\n",
    "df['GarageType'] = df['GarageType'].fillna(df['GarageType'].mode()[0])\n",
    "df['Electrical'] = df['Electrical'].fillna(df['Electrical'].mode()[0])\n"
   ]
  },
  {
   "cell_type": "code",
   "execution_count": 21,
   "metadata": {},
   "outputs": [
    {
     "data": {
      "text/plain": [
       "<matplotlib.axes._subplots.AxesSubplot at 0x2438c679b08>"
      ]
     },
     "execution_count": 21,
     "metadata": {},
     "output_type": "execute_result"
    },
    {
     "data": {
      "image/png": "[encoded data removed]",
      "text/plain": [
       "<Figure size 432x288 with 1 Axes>"
      ]
     },
     "metadata": {
      "needs_background": "light"
     },
     "output_type": "display_data"
    }
   ],
   "source": [
    "sns.heatmap(df.isnull(),yticklabels = False,cbar= False, cmap = 'YlGnBu')"
   ]
  },
  {
   "cell_type": "code",
   "execution_count": 22,
   "metadata": {},
   "outputs": [
    {
     "name": "stdout",
     "output_type": "stream",
     "text": [
      "<class 'pandas.core.frame.DataFrame'>\n",
      "RangeIndex: 1460 entries, 0 to 1459\n",
      "Data columns (total 75 columns):\n",
      " #   Column         Non-Null Count  Dtype  \n",
      "---  ------         --------------  -----  \n",
      " 0   MSSubClass     1460 non-null   int64  \n",
      " 1   MSZoning       1460 non-null   object \n",
      " 2   LotFrontage    1460 non-null   float64\n",
      " 3   LotArea        1460 non-null   int64  \n",
      " 4   Street         1460 non-null   object \n",
      " 5   LotShape       1460 non-null   object \n",
      " 6   LandContour    1460 non-null   object \n",
      " 7   Utilities      1460 non-null   object \n",
      " 8   LotConfig      1460 non-null   object \n",
      " 9   LandSlope      1460 non-null   object \n",
      " 10  Neighborhood   1460 non-null   object \n",
      " 11  Condition1     1460 non-null   object \n",
      " 12  Condition2     1460 non-null   object \n",
      " 13  BldgType       1460 non-null   object \n",
      " 14  HouseStyle     1460 non-null   object \n",
      " 15  OverallQual    1460 non-null   int64  \n",
      " 16  OverallCond    1460 non-null   int64  \n",
      " 17  YearBuilt      1460 non-null   int64  \n",
      " 18  YearRemodAdd   1460 non-null   int64  \n",
      " 19  RoofStyle      1460 non-null   object \n",
      " 20  RoofMatl       1460 non-null   object \n",
      " 21  Exterior1st    1460 non-null   object \n",
      " 22  Exterior2nd    1460 non-null   object \n",
      " 23  MasVnrType     1460 non-null   object \n",
      " 24  MasVnrArea     1460 non-null   float64\n",
      " 25  ExterQual      1460 non-null   object \n",
      " 26  ExterCond      1460 non-null   object \n",
      " 27  Foundation     1460 non-null   object \n",
      " 28  BsmtQual       1460 non-null   object \n",
      " 29  BsmtCond       1460 non-null   object \n",
      " 30  BsmtExposure   1460 non-null   object \n",
      " 31  BsmtFinType1   1460 non-null   object \n",
      " 32  BsmtFinSF1     1460 non-null   int64  \n",
      " 33  BsmtFinType2   1460 non-null   object \n",
      " 34  BsmtFinSF2     1460 non-null   int64  \n",
      " 35  BsmtUnfSF      1460 non-null   int64  \n",
      " 36  TotalBsmtSF    1460 non-null   int64  \n",
      " 37  Heating        1460 non-null   object \n",
      " 38  HeatingQC      1460 non-null   object \n",
      " 39  CentralAir     1460 non-null   object \n",
      " 40  Electrical     1460 non-null   object \n",
      " 41  1stFlrSF       1460 non-null   int64  \n",
      " 42  2ndFlrSF       1460 non-null   int64  \n",
      " 43  LowQualFinSF   1460 non-null   int64  \n",
      " 44  GrLivArea      1460 non-null   int64  \n",
      " 45  BsmtFullBath   1460 non-null   int64  \n",
      " 46  BsmtHalfBath   1460 non-null   int64  \n",
      " 47  FullBath       1460 non-null   int64  \n",
      " 48  HalfBath       1460 non-null   int64  \n",
      " 49  BedroomAbvGr   1460 non-null   int64  \n",
      " 50  KitchenAbvGr   1460 non-null   int64  \n",
      " 51  KitchenQual    1460 non-null   object \n",
      " 52  TotRmsAbvGrd   1460 non-null   int64  \n",
      " 53  Functional     1460 non-null   object \n",
      " 54  Fireplaces     1460 non-null   int64  \n",
      " 55  FireplaceQu    770 non-null    object \n",
      " 56  GarageType     1460 non-null   object \n",
      " 57  GarageFinish   1460 non-null   object \n",
      " 58  GarageCars     1460 non-null   int64  \n",
      " 59  GarageArea     1460 non-null   int64  \n",
      " 60  GarageQual     1460 non-null   object \n",
      " 61  GarageCond     1460 non-null   object \n",
      " 62  PavedDrive     1460 non-null   object \n",
      " 63  WoodDeckSF     1460 non-null   int64  \n",
      " 64  OpenPorchSF    1460 non-null   int64  \n",
      " 65  EnclosedPorch  1460 non-null   int64  \n",
      " 66  3SsnPorch      1460 non-null   int64  \n",
      " 67  ScreenPorch    1460 non-null   int64  \n",
      " 68  PoolArea       1460 non-null   int64  \n",
      " 69  MiscVal        1460 non-null   int64  \n",
      " 70  MoSold         1460 non-null   int64  \n",
      " 71  YrSold         1460 non-null   int64  \n",
      " 72  SaleType       1460 non-null   object \n",
      " 73  SaleCondition  1460 non-null   object \n",
      " 74  SalePrice      1460 non-null   int64  \n",
      "dtypes: float64(2), int64(34), object(39)\n",
      "memory usage: 855.6+ KB\n"
     ]
    }
   ],
   "source": [
    "df.info()"
   ]
  },
  {
   "cell_type": "code",
   "execution_count": 23,
   "metadata": {},
   "outputs": [],
   "source": [
    "\n",
    "df.drop(['FireplaceQu'],axis = 1, inplace = True)"
   ]
  },
  {
   "cell_type": "code",
   "execution_count": 24,
   "metadata": {},
   "outputs": [
    {
     "data": {
      "text/plain": [
       "MSSubClass       0\n",
       "MSZoning         0\n",
       "LotFrontage      0\n",
       "LotArea          0\n",
       "Street           0\n",
       "                ..\n",
       "MoSold           0\n",
       "YrSold           0\n",
       "SaleType         0\n",
       "SaleCondition    0\n",
       "SalePrice        0\n",
       "Length: 74, dtype: int64"
      ]
     },
     "execution_count": 24,
     "metadata": {},
     "output_type": "execute_result"
    }
   ],
   "source": [
    "df.isnull().sum()"
   ]
  },
  {
   "cell_type": "code",
   "execution_count": 25,
   "metadata": {},
   "outputs": [
    {
     "data": {
      "text/plain": [
       "<matplotlib.axes._subplots.AxesSubplot at 0x2438c669608>"
      ]
     },
     "execution_count": 25,
     "metadata": {},
     "output_type": "execute_result"
    },
    {
     "data": {
      "image/png": "[encoded data removed]",
      "text/plain": [
       "<Figure size 432x288 with 1 Axes>"
      ]
     },
     "metadata": {
      "needs_background": "light"
     },
     "output_type": "display_data"
    }
   ],
   "source": [
    "sns.heatmap(df.isnull(),yticklabels = False,cbar= False, cmap = 'YlGnBu')"
   ]
  },
  {
   "cell_type": "code",
   "execution_count": 26,
   "metadata": {},
   "outputs": [
    {
     "data": {
      "text/plain": [
       "(1460, 74)"
      ]
     },
     "execution_count": 26,
     "metadata": {},
     "output_type": "execute_result"
    }
   ],
   "source": [
    "df.shape"
   ]
  },
  {
   "cell_type": "markdown",
   "metadata": {},
   "source": [
    "# Handling cat features"
   ]
  },
  {
   "cell_type": "code",
   "execution_count": 27,
   "metadata": {},
   "outputs": [],
   "source": [
    "columns=['MSZoning','Street','LotShape','LandContour','Utilities','LotConfig','LandSlope','Neighborhood',\n",
    "         'Condition2','BldgType','Condition1','HouseStyle','SaleType',\n",
    "        'SaleCondition','ExterCond',\n",
    "         'ExterQual','Foundation','BsmtQual','BsmtCond','BsmtExposure','BsmtFinType1','BsmtFinType2',\n",
    "        'RoofStyle','RoofMatl','Exterior1st','Exterior2nd','MasVnrType','Heating','HeatingQC',\n",
    "         'CentralAir',\n",
    "         'Electrical','KitchenQual','Functional','GarageType','GarageFinish','GarageQual','GarageCond','PavedDrive']"
   ]
  },
  {
   "cell_type": "code",
   "execution_count": 28,
   "metadata": {},
   "outputs": [
    {
     "data": {
      "text/plain": [
       "38"
      ]
     },
     "execution_count": 28,
     "metadata": {},
     "output_type": "execute_result"
    }
   ],
   "source": [
    "len(columns)"
   ]
  },
  {
   "cell_type": "code",
   "execution_count": 29,
   "metadata": {},
   "outputs": [],
   "source": [
    "def category_onehot_multcols(multcolumns):\n",
    "    df_final=final_df\n",
    "    i=0\n",
    "    for fields in multcolumns:\n",
    "        \n",
    "        print(fields)\n",
    "        df1=pd.get_dummies(final_df[fields],drop_first=True)\n",
    "        \n",
    "        final_df.drop([fields],axis=1,inplace=True)\n",
    "        if i==0:\n",
    "            df_final=df1.copy()\n",
    "        else:\n",
    "            \n",
    "            df_final=pd.concat([df_final,df1],axis=1)\n",
    "        i=i+1\n",
    "       \n",
    "        \n",
    "    df_final=pd.concat([final_df,df_final],axis=1)\n",
    "        \n",
    "    return df_final"
   ]
  },
  {
   "cell_type": "code",
   "execution_count": 30,
   "metadata": {},
   "outputs": [],
   "source": [
    "main_df=df.copy()"
   ]
  },
  {
   "cell_type": "code",
   "execution_count": 31,
   "metadata": {},
   "outputs": [],
   "source": [
    "test_df=pd.read_csv('formulatedtest.csv')"
   ]
  },
  {
   "cell_type": "code",
   "execution_count": 32,
   "metadata": {},
   "outputs": [
    {
     "data": {
      "text/plain": [
       "(1459, 73)"
      ]
     },
     "execution_count": 32,
     "metadata": {},
     "output_type": "execute_result"
    }
   ],
   "source": [
    "test_df.shape"
   ]
  },
  {
   "cell_type": "code",
   "execution_count": 33,
   "metadata": {},
   "outputs": [
    {
     "data": {
      "text/html": [
       "<div>\n",
       "<style scoped>\n",
       "    .dataframe tbody tr th:only-of-type {\n",
       "        vertical-align: middle;\n",
       "    }\n",
       "\n",
       "    .dataframe tbody tr th {\n",
       "        vertical-align: top;\n",
       "    }\n",
       "\n",
       "    .dataframe thead th {\n",
       "        text-align: right;\n",
       "    }\n",
       "</style>\n",
       "<table border=\"1\" class=\"dataframe\">\n",
       "  <thead>\n",
       "    <tr style=\"text-align: right;\">\n",
       "      <th></th>\n",
       "      <th>MSSubClass</th>\n",
       "      <th>MSZoning</th>\n",
       "      <th>LotFrontage</th>\n",
       "      <th>LotArea</th>\n",
       "      <th>Street</th>\n",
       "      <th>LotShape</th>\n",
       "      <th>LandContour</th>\n",
       "      <th>Utilities</th>\n",
       "      <th>LotConfig</th>\n",
       "      <th>LandSlope</th>\n",
       "      <th>...</th>\n",
       "      <th>OpenPorchSF</th>\n",
       "      <th>EnclosedPorch</th>\n",
       "      <th>3SsnPorch</th>\n",
       "      <th>ScreenPorch</th>\n",
       "      <th>PoolArea</th>\n",
       "      <th>MiscVal</th>\n",
       "      <th>MoSold</th>\n",
       "      <th>YrSold</th>\n",
       "      <th>SaleType</th>\n",
       "      <th>SaleCondition</th>\n",
       "    </tr>\n",
       "  </thead>\n",
       "  <tbody>\n",
       "    <tr>\n",
       "      <th>0</th>\n",
       "      <td>20</td>\n",
       "      <td>RH</td>\n",
       "      <td>80.0</td>\n",
       "      <td>11622</td>\n",
       "      <td>Pave</td>\n",
       "      <td>Reg</td>\n",
       "      <td>Lvl</td>\n",
       "      <td>AllPub</td>\n",
       "      <td>Inside</td>\n",
       "      <td>Gtl</td>\n",
       "      <td>...</td>\n",
       "      <td>0</td>\n",
       "      <td>0</td>\n",
       "      <td>0</td>\n",
       "      <td>120</td>\n",
       "      <td>0</td>\n",
       "      <td>0</td>\n",
       "      <td>6</td>\n",
       "      <td>2010</td>\n",
       "      <td>WD</td>\n",
       "      <td>Normal</td>\n",
       "    </tr>\n",
       "    <tr>\n",
       "      <th>1</th>\n",
       "      <td>20</td>\n",
       "      <td>RL</td>\n",
       "      <td>81.0</td>\n",
       "      <td>14267</td>\n",
       "      <td>Pave</td>\n",
       "      <td>IR1</td>\n",
       "      <td>Lvl</td>\n",
       "      <td>AllPub</td>\n",
       "      <td>Corner</td>\n",
       "      <td>Gtl</td>\n",
       "      <td>...</td>\n",
       "      <td>36</td>\n",
       "      <td>0</td>\n",
       "      <td>0</td>\n",
       "      <td>0</td>\n",
       "      <td>0</td>\n",
       "      <td>12500</td>\n",
       "      <td>6</td>\n",
       "      <td>2010</td>\n",
       "      <td>WD</td>\n",
       "      <td>Normal</td>\n",
       "    </tr>\n",
       "    <tr>\n",
       "      <th>2</th>\n",
       "      <td>60</td>\n",
       "      <td>RL</td>\n",
       "      <td>74.0</td>\n",
       "      <td>13830</td>\n",
       "      <td>Pave</td>\n",
       "      <td>IR1</td>\n",
       "      <td>Lvl</td>\n",
       "      <td>AllPub</td>\n",
       "      <td>Inside</td>\n",
       "      <td>Gtl</td>\n",
       "      <td>...</td>\n",
       "      <td>34</td>\n",
       "      <td>0</td>\n",
       "      <td>0</td>\n",
       "      <td>0</td>\n",
       "      <td>0</td>\n",
       "      <td>0</td>\n",
       "      <td>3</td>\n",
       "      <td>2010</td>\n",
       "      <td>WD</td>\n",
       "      <td>Normal</td>\n",
       "    </tr>\n",
       "    <tr>\n",
       "      <th>3</th>\n",
       "      <td>60</td>\n",
       "      <td>RL</td>\n",
       "      <td>78.0</td>\n",
       "      <td>9978</td>\n",
       "      <td>Pave</td>\n",
       "      <td>IR1</td>\n",
       "      <td>Lvl</td>\n",
       "      <td>AllPub</td>\n",
       "      <td>Inside</td>\n",
       "      <td>Gtl</td>\n",
       "      <td>...</td>\n",
       "      <td>36</td>\n",
       "      <td>0</td>\n",
       "      <td>0</td>\n",
       "      <td>0</td>\n",
       "      <td>0</td>\n",
       "      <td>0</td>\n",
       "      <td>6</td>\n",
       "      <td>2010</td>\n",
       "      <td>WD</td>\n",
       "      <td>Normal</td>\n",
       "    </tr>\n",
       "    <tr>\n",
       "      <th>4</th>\n",
       "      <td>120</td>\n",
       "      <td>RL</td>\n",
       "      <td>43.0</td>\n",
       "      <td>5005</td>\n",
       "      <td>Pave</td>\n",
       "      <td>IR1</td>\n",
       "      <td>HLS</td>\n",
       "      <td>AllPub</td>\n",
       "      <td>Inside</td>\n",
       "      <td>Gtl</td>\n",
       "      <td>...</td>\n",
       "      <td>82</td>\n",
       "      <td>0</td>\n",
       "      <td>0</td>\n",
       "      <td>144</td>\n",
       "      <td>0</td>\n",
       "      <td>0</td>\n",
       "      <td>1</td>\n",
       "      <td>2010</td>\n",
       "      <td>WD</td>\n",
       "      <td>Normal</td>\n",
       "    </tr>\n",
       "  </tbody>\n",
       "</table>\n",
       "<p>5 rows × 73 columns</p>\n",
       "</div>"
      ],
      "text/plain": [
       "   MSSubClass MSZoning  LotFrontage  LotArea Street LotShape LandContour  \\\n",
       "0          20       RH         80.0    11622   Pave      Reg         Lvl   \n",
       "1          20       RL         81.0    14267   Pave      IR1         Lvl   \n",
       "2          60       RL         74.0    13830   Pave      IR1         Lvl   \n",
       "3          60       RL         78.0     9978   Pave      IR1         Lvl   \n",
       "4         120       RL         43.0     5005   Pave      IR1         HLS   \n",
       "\n",
       "  Utilities LotConfig LandSlope  ... OpenPorchSF EnclosedPorch 3SsnPorch  \\\n",
       "0    AllPub    Inside       Gtl  ...           0             0         0   \n",
       "1    AllPub    Corner       Gtl  ...          36             0         0   \n",
       "2    AllPub    Inside       Gtl  ...          34             0         0   \n",
       "3    AllPub    Inside       Gtl  ...          36             0         0   \n",
       "4    AllPub    Inside       Gtl  ...          82             0         0   \n",
       "\n",
       "  ScreenPorch PoolArea  MiscVal  MoSold  YrSold  SaleType SaleCondition  \n",
       "0         120        0        0       6    2010        WD        Normal  \n",
       "1           0        0    12500       6    2010        WD        Normal  \n",
       "2           0        0        0       3    2010        WD        Normal  \n",
       "3           0        0        0       6    2010        WD        Normal  \n",
       "4         144        0        0       1    2010        WD        Normal  \n",
       "\n",
       "[5 rows x 73 columns]"
      ]
     },
     "execution_count": 33,
     "metadata": {},
     "output_type": "execute_result"
    }
   ],
   "source": [
    "\n",
    "test_df.head()"
   ]
  },
  {
   "cell_type": "code",
   "execution_count": 34,
   "metadata": {},
   "outputs": [],
   "source": [
    "\n",
    "final_df=pd.concat([df,test_df],axis=0)"
   ]
  },
  {
   "cell_type": "code",
   "execution_count": 35,
   "metadata": {},
   "outputs": [
    {
     "data": {
      "text/plain": [
       "(2919, 74)"
      ]
     },
     "execution_count": 35,
     "metadata": {},
     "output_type": "execute_result"
    }
   ],
   "source": [
    "final_df.shape"
   ]
  },
  {
   "cell_type": "code",
   "execution_count": 36,
   "metadata": {},
   "outputs": [
    {
     "name": "stdout",
     "output_type": "stream",
     "text": [
      "MSZoning\n",
      "Street\n",
      "LotShape\n",
      "LandContour\n",
      "Utilities\n",
      "LotConfig\n",
      "LandSlope\n",
      "Neighborhood\n",
      "Condition2\n",
      "BldgType\n",
      "Condition1\n",
      "HouseStyle\n",
      "SaleType\n",
      "SaleCondition\n",
      "ExterCond\n",
      "ExterQual\n",
      "Foundation\n",
      "BsmtQual\n",
      "BsmtCond\n",
      "BsmtExposure\n",
      "BsmtFinType1\n",
      "BsmtFinType2\n",
      "RoofStyle\n",
      "RoofMatl\n",
      "Exterior1st\n",
      "Exterior2nd\n",
      "MasVnrType\n",
      "Heating\n",
      "HeatingQC\n",
      "CentralAir\n",
      "Electrical\n",
      "KitchenQual\n",
      "Functional\n",
      "GarageType\n",
      "GarageFinish\n",
      "GarageQual\n",
      "GarageCond\n",
      "PavedDrive\n"
     ]
    }
   ],
   "source": [
    "final_df= category_onehot_multcols(columns)"
   ]
  },
  {
   "cell_type": "code",
   "execution_count": 37,
   "metadata": {},
   "outputs": [
    {
     "data": {
      "text/plain": [
       "(2919, 232)"
      ]
     },
     "execution_count": 37,
     "metadata": {},
     "output_type": "execute_result"
    }
   ],
   "source": [
    "final_df.shape"
   ]
  },
  {
   "cell_type": "code",
   "execution_count": 38,
   "metadata": {},
   "outputs": [],
   "source": [
    "final_df= final_df.loc[:,~final_df.columns.duplicated()]"
   ]
  },
  {
   "cell_type": "code",
   "execution_count": 39,
   "metadata": {},
   "outputs": [
    {
     "data": {
      "text/plain": [
       "(2919, 176)"
      ]
     },
     "execution_count": 39,
     "metadata": {},
     "output_type": "execute_result"
    }
   ],
   "source": [
    "final_df.shape"
   ]
  },
  {
   "cell_type": "code",
   "execution_count": 40,
   "metadata": {},
   "outputs": [],
   "source": [
    "df_train = final_df.iloc[:1460,:]\n",
    "df_test = final_df.iloc[1460:,:]"
   ]
  },
  {
   "cell_type": "code",
   "execution_count": 41,
   "metadata": {},
   "outputs": [
    {
     "name": "stderr",
     "output_type": "stream",
     "text": [
      "C:\\Users\\Ashish Bisht\\Anaconda3\\lib\\site-packages\\pandas\\core\\frame.py:3997: SettingWithCopyWarning: \n",
      "A value is trying to be set on a copy of a slice from a DataFrame\n",
      "\n",
      "See the caveats in the documentation: https://pandas.pydata.org/pandas-docs/stable/user_guide/indexing.html#returning-a-view-versus-a-copy\n",
      "  errors=errors,\n"
     ]
    }
   ],
   "source": [
    "df_test.drop(['SalePrice'],axis = 1, inplace = True)"
   ]
  },
  {
   "cell_type": "code",
   "execution_count": 42,
   "metadata": {},
   "outputs": [
    {
     "data": {
      "text/plain": [
       "(1459, 175)"
      ]
     },
     "execution_count": 42,
     "metadata": {},
     "output_type": "execute_result"
    }
   ],
   "source": [
    "df_test.shape"
   ]
  },
  {
   "cell_type": "code",
   "execution_count": 43,
   "metadata": {},
   "outputs": [],
   "source": [
    "X_train = df_train.drop(['SalePrice'],axis=1)\n",
    "y_train = df_train['SalePrice']"
   ]
  },
  {
   "cell_type": "code",
   "execution_count": null,
   "metadata": {},
   "outputs": [],
   "source": []
  },
  {
   "cell_type": "code",
   "execution_count": 44,
   "metadata": {},
   "outputs": [],
   "source": [
    "\n",
    "import xgboost\n",
    "classifier=xgboost.XGBRegressor()"
   ]
  },
  {
   "cell_type": "code",
   "execution_count": 45,
   "metadata": {},
   "outputs": [],
   "source": [
    "import xgboost\n",
    "regressor=xgboost.XGBRegressor()"
   ]
  },
  {
   "cell_type": "code",
   "execution_count": 46,
   "metadata": {},
   "outputs": [],
   "source": [
    "\n",
    "booster=['gbtree','gblinear']\n",
    "base_score=[0.25,0.5,0.75,1]"
   ]
  },
  {
   "cell_type": "code",
   "execution_count": 47,
   "metadata": {},
   "outputs": [],
   "source": [
    "n_estimators = [100, 500, 900, 1100, 1500]\n",
    "max_depth = [2, 3, 5, 10, 15]\n",
    "booster=['gbtree','gblinear']\n",
    "learning_rate=[0.05,0.1,0.15,0.20]\n",
    "min_child_weight=[1,2,3,4]\n",
    "\n",
    "# Define the grid of hyperparameters to search\n",
    "hyperparameter_grid = {\n",
    "    'n_estimators': n_estimators,\n",
    "    'max_depth':max_depth,\n",
    "    'learning_rate':learning_rate,\n",
    "    'min_child_weight':min_child_weight,\n",
    "    'booster':booster,\n",
    "    'base_score':base_score\n",
    "    }"
   ]
  },
  {
   "cell_type": "code",
   "execution_count": 48,
   "metadata": {},
   "outputs": [],
   "source": [
    "from sklearn.model_selection import RandomizedSearchCV\n",
    "random_cv = RandomizedSearchCV(estimator=regressor,\n",
    "            param_distributions=hyperparameter_grid,\n",
    "            cv=5, n_iter=100,\n",
    "            scoring = 'neg_mean_absolute_error',\n",
    "            verbose = 5, \n",
    "            return_train_score = True,\n",
    "            random_state=0)"
   ]
  },
  {
   "cell_type": "code",
   "execution_count": 49,
   "metadata": {},
   "outputs": [
    {
     "name": "stdout",
     "output_type": "stream",
     "text": [
      "Fitting 5 folds for each of 100 candidates, totalling 500 fits\n",
      "[CV] n_estimators=500, min_child_weight=4, max_depth=3, learning_rate=0.1, booster=gblinear, base_score=0.25 \n"
     ]
    },
    {
     "name": "stderr",
     "output_type": "stream",
     "text": [
      "[Parallel(n_jobs=1)]: Using backend SequentialBackend with 1 concurrent workers.\n"
     ]
    },
    {
     "name": "stdout",
     "output_type": "stream",
     "text": [
      "[CV]  n_estimators=500, min_child_weight=4, max_depth=3, learning_rate=0.1, booster=gblinear, base_score=0.25, score=(train=-17865.430, test=-18070.693), total=   1.2s\n",
      "[CV] n_estimators=500, min_child_weight=4, max_depth=3, learning_rate=0.1, booster=gblinear, base_score=0.25 \n"
     ]
    },
    {
     "name": "stderr",
     "output_type": "stream",
     "text": [
      "[Parallel(n_jobs=1)]: Done   1 out of   1 | elapsed:    1.2s remaining:    0.0s\n"
     ]
    },
    {
     "name": "stdout",
     "output_type": "stream",
     "text": [
      "[CV]  n_estimators=500, min_child_weight=4, max_depth=3, learning_rate=0.1, booster=gblinear, base_score=0.25, score=(train=-16985.878, test=-22149.487), total=   1.1s\n",
      "[CV] n_estimators=500, min_child_weight=4, max_depth=3, learning_rate=0.1, booster=gblinear, base_score=0.25 \n"
     ]
    },
    {
     "name": "stderr",
     "output_type": "stream",
     "text": [
      "[Parallel(n_jobs=1)]: Done   2 out of   2 | elapsed:    2.3s remaining:    0.0s\n"
     ]
    },
    {
     "name": "stdout",
     "output_type": "stream",
     "text": [
      "[CV]  n_estimators=500, min_child_weight=4, max_depth=3, learning_rate=0.1, booster=gblinear, base_score=0.25, score=(train=-16689.774, test=-22482.690), total=   1.2s\n",
      "[CV] n_estimators=500, min_child_weight=4, max_depth=3, learning_rate=0.1, booster=gblinear, base_score=0.25 \n"
     ]
    },
    {
     "name": "stderr",
     "output_type": "stream",
     "text": [
      "[Parallel(n_jobs=1)]: Done   3 out of   3 | elapsed:    3.5s remaining:    0.0s\n"
     ]
    },
    {
     "name": "stdout",
     "output_type": "stream",
     "text": [
      "[CV]  n_estimators=500, min_child_weight=4, max_depth=3, learning_rate=0.1, booster=gblinear, base_score=0.25, score=(train=-17716.910, test=-18623.161), total=   1.2s\n",
      "[CV] n_estimators=500, min_child_weight=4, max_depth=3, learning_rate=0.1, booster=gblinear, base_score=0.25 \n"
     ]
    },
    {
     "name": "stderr",
     "output_type": "stream",
     "text": [
      "[Parallel(n_jobs=1)]: Done   4 out of   4 | elapsed:    4.7s remaining:    0.0s\n"
     ]
    },
    {
     "name": "stdout",
     "output_type": "stream",
     "text": [
      "[CV]  n_estimators=500, min_child_weight=4, max_depth=3, learning_rate=0.1, booster=gblinear, base_score=0.25, score=(train=-15712.544, test=-21371.263), total=   1.2s\n",
      "[CV] n_estimators=500, min_child_weight=4, max_depth=2, learning_rate=0.1, booster=gbtree, base_score=0.75 \n",
      "[CV]  n_estimators=500, min_child_weight=4, max_depth=2, learning_rate=0.1, booster=gbtree, base_score=0.75, score=(train=-8877.053, test=-15078.285), total=   1.2s\n",
      "[CV] n_estimators=500, min_child_weight=4, max_depth=2, learning_rate=0.1, booster=gbtree, base_score=0.75 \n",
      "[CV]  n_estimators=500, min_child_weight=4, max_depth=2, learning_rate=0.1, booster=gbtree, base_score=0.75, score=(train=-8990.171, test=-16851.607), total=   1.2s\n",
      "[CV] n_estimators=500, min_child_weight=4, max_depth=2, learning_rate=0.1, booster=gbtree, base_score=0.75 \n",
      "[CV]  n_estimators=500, min_child_weight=4, max_depth=2, learning_rate=0.1, booster=gbtree, base_score=0.75, score=(train=-8841.929, test=-16015.580), total=   1.3s\n",
      "[CV] n_estimators=500, min_child_weight=4, max_depth=2, learning_rate=0.1, booster=gbtree, base_score=0.75 \n",
      "[CV]  n_estimators=500, min_child_weight=4, max_depth=2, learning_rate=0.1, booster=gbtree, base_score=0.75, score=(train=-9188.677, test=-13680.608), total=   1.3s\n",
      "[CV] n_estimators=500, min_child_weight=4, max_depth=2, learning_rate=0.1, booster=gbtree, base_score=0.75 \n",
      "[CV]  n_estimators=500, min_child_weight=4, max_depth=2, learning_rate=0.1, booster=gbtree, base_score=0.75, score=(train=-8668.942, test=-17862.737), total=   1.3s\n",
      "[CV] n_estimators=1500, min_child_weight=4, max_depth=15, learning_rate=0.05, booster=gblinear, base_score=0.25 \n",
      "[CV]  n_estimators=1500, min_child_weight=4, max_depth=15, learning_rate=0.05, booster=gblinear, base_score=0.25, score=(train=-17723.550, test=-18180.297), total=   3.5s\n",
      "[CV] n_estimators=1500, min_child_weight=4, max_depth=15, learning_rate=0.05, booster=gblinear, base_score=0.25 \n",
      "[CV]  n_estimators=1500, min_child_weight=4, max_depth=15, learning_rate=0.05, booster=gblinear, base_score=0.25, score=(train=-16862.066, test=-22121.522), total=   3.5s\n",
      "[CV] n_estimators=1500, min_child_weight=4, max_depth=15, learning_rate=0.05, booster=gblinear, base_score=0.25 \n",
      "[CV]  n_estimators=1500, min_child_weight=4, max_depth=15, learning_rate=0.05, booster=gblinear, base_score=0.25, score=(train=-16485.455, test=-22139.418), total=   3.6s\n",
      "[CV] n_estimators=1500, min_child_weight=4, max_depth=15, learning_rate=0.05, booster=gblinear, base_score=0.25 \n",
      "[CV]  n_estimators=1500, min_child_weight=4, max_depth=15, learning_rate=0.05, booster=gblinear, base_score=0.25, score=(train=-17548.985, test=-18693.091), total=   3.5s\n",
      "[CV] n_estimators=1500, min_child_weight=4, max_depth=15, learning_rate=0.05, booster=gblinear, base_score=0.25 \n",
      "[CV]  n_estimators=1500, min_child_weight=4, max_depth=15, learning_rate=0.05, booster=gblinear, base_score=0.25, score=(train=-15477.007, test=-21343.276), total=   3.5s\n",
      "[CV] n_estimators=900, min_child_weight=2, max_depth=10, learning_rate=0.1, booster=gblinear, base_score=0.25 \n",
      "[CV]  n_estimators=900, min_child_weight=2, max_depth=10, learning_rate=0.1, booster=gblinear, base_score=0.25, score=(train=-17737.660, test=-18202.643), total=   2.1s\n",
      "[CV] n_estimators=900, min_child_weight=2, max_depth=10, learning_rate=0.1, booster=gblinear, base_score=0.25 \n",
      "[CV]  n_estimators=900, min_child_weight=2, max_depth=10, learning_rate=0.1, booster=gblinear, base_score=0.25, score=(train=-16876.487, test=-22146.730), total=   2.1s\n",
      "[CV] n_estimators=900, min_child_weight=2, max_depth=10, learning_rate=0.1, booster=gblinear, base_score=0.25 \n",
      "[CV]  n_estimators=900, min_child_weight=2, max_depth=10, learning_rate=0.1, booster=gblinear, base_score=0.25, score=(train=-16489.072, test=-22185.035), total=   2.1s\n",
      "[CV] n_estimators=900, min_child_weight=2, max_depth=10, learning_rate=0.1, booster=gblinear, base_score=0.25 \n",
      "[CV]  n_estimators=900, min_child_weight=2, max_depth=10, learning_rate=0.1, booster=gblinear, base_score=0.25, score=(train=-17541.681, test=-18828.746), total=   2.2s\n",
      "[CV] n_estimators=900, min_child_weight=2, max_depth=10, learning_rate=0.1, booster=gblinear, base_score=0.25 \n",
      "[CV]  n_estimators=900, min_child_weight=2, max_depth=10, learning_rate=0.1, booster=gblinear, base_score=0.25, score=(train=-15474.793, test=-21453.941), total=   2.1s\n",
      "[CV] n_estimators=900, min_child_weight=2, max_depth=10, learning_rate=0.1, booster=gbtree, base_score=1 \n",
      "[CV]  n_estimators=900, min_child_weight=2, max_depth=10, learning_rate=0.1, booster=gbtree, base_score=1, score=(train=-7.170, test=-15840.569), total=   7.4s\n",
      "[CV] n_estimators=900, min_child_weight=2, max_depth=10, learning_rate=0.1, booster=gbtree, base_score=1 \n",
      "[CV]  n_estimators=900, min_child_weight=2, max_depth=10, learning_rate=0.1, booster=gbtree, base_score=1, score=(train=-7.182, test=-16618.027), total=   7.7s\n",
      "[CV] n_estimators=900, min_child_weight=2, max_depth=10, learning_rate=0.1, booster=gbtree, base_score=1 \n",
      "[CV]  n_estimators=900, min_child_weight=2, max_depth=10, learning_rate=0.1, booster=gbtree, base_score=1, score=(train=-0.072, test=-16965.844), total=   7.6s\n",
      "[CV] n_estimators=900, min_child_weight=2, max_depth=10, learning_rate=0.1, booster=gbtree, base_score=1 \n",
      "[CV]  n_estimators=900, min_child_weight=2, max_depth=10, learning_rate=0.1, booster=gbtree, base_score=1, score=(train=-7.171, test=-15141.722), total=   7.5s\n",
      "[CV] n_estimators=900, min_child_weight=2, max_depth=10, learning_rate=0.1, booster=gbtree, base_score=1 \n",
      "[CV]  n_estimators=900, min_child_weight=2, max_depth=10, learning_rate=0.1, booster=gbtree, base_score=1, score=(train=-0.085, test=-17710.794), total=   7.5s\n",
      "[CV] n_estimators=1500, min_child_weight=4, max_depth=3, learning_rate=0.1, booster=gbtree, base_score=0.75 \n",
      "[CV]  n_estimators=1500, min_child_weight=4, max_depth=3, learning_rate=0.1, booster=gbtree, base_score=0.75, score=(train=-1409.358, test=-15446.240), total=   5.2s\n",
      "[CV] n_estimators=1500, min_child_weight=4, max_depth=3, learning_rate=0.1, booster=gbtree, base_score=0.75 \n",
      "[CV]  n_estimators=1500, min_child_weight=4, max_depth=3, learning_rate=0.1, booster=gbtree, base_score=0.75, score=(train=-1329.572, test=-16433.519), total=   4.6s\n",
      "[CV] n_estimators=1500, min_child_weight=4, max_depth=3, learning_rate=0.1, booster=gbtree, base_score=0.75 \n",
      "[CV]  n_estimators=1500, min_child_weight=4, max_depth=3, learning_rate=0.1, booster=gbtree, base_score=0.75, score=(train=-1388.604, test=-16684.711), total=   4.6s\n",
      "[CV] n_estimators=1500, min_child_weight=4, max_depth=3, learning_rate=0.1, booster=gbtree, base_score=0.75 \n",
      "[CV]  n_estimators=1500, min_child_weight=4, max_depth=3, learning_rate=0.1, booster=gbtree, base_score=0.75, score=(train=-1502.219, test=-13944.498), total=   5.1s\n",
      "[CV] n_estimators=1500, min_child_weight=4, max_depth=3, learning_rate=0.1, booster=gbtree, base_score=0.75 \n",
      "[CV]  n_estimators=1500, min_child_weight=4, max_depth=3, learning_rate=0.1, booster=gbtree, base_score=0.75, score=(train=-1466.213, test=-17621.362), total=   4.7s\n",
      "[CV] n_estimators=1500, min_child_weight=1, max_depth=3, learning_rate=0.15, booster=gbtree, base_score=0.75 \n",
      "[CV]  n_estimators=1500, min_child_weight=1, max_depth=3, learning_rate=0.15, booster=gbtree, base_score=0.75, score=(train=-635.010, test=-16721.425), total=   4.7s\n",
      "[CV] n_estimators=1500, min_child_weight=1, max_depth=3, learning_rate=0.15, booster=gbtree, base_score=0.75 \n",
      "[CV]  n_estimators=1500, min_child_weight=1, max_depth=3, learning_rate=0.15, booster=gbtree, base_score=0.75, score=(train=-589.019, test=-16185.135), total=   4.7s\n",
      "[CV] n_estimators=1500, min_child_weight=1, max_depth=3, learning_rate=0.15, booster=gbtree, base_score=0.75 \n",
      "[CV]  n_estimators=1500, min_child_weight=1, max_depth=3, learning_rate=0.15, booster=gbtree, base_score=0.75, score=(train=-617.310, test=-16622.105), total=   4.7s\n",
      "[CV] n_estimators=1500, min_child_weight=1, max_depth=3, learning_rate=0.15, booster=gbtree, base_score=0.75 \n",
      "[CV]  n_estimators=1500, min_child_weight=1, max_depth=3, learning_rate=0.15, booster=gbtree, base_score=0.75, score=(train=-632.720, test=-13965.477), total=   4.7s\n",
      "[CV] n_estimators=1500, min_child_weight=1, max_depth=3, learning_rate=0.15, booster=gbtree, base_score=0.75 \n"
     ]
    },
    {
     "name": "stdout",
     "output_type": "stream",
     "text": [
      "[CV]  n_estimators=1500, min_child_weight=1, max_depth=3, learning_rate=0.15, booster=gbtree, base_score=0.75, score=(train=-641.792, test=-16297.696), total=   4.7s\n",
      "[CV] n_estimators=1100, min_child_weight=2, max_depth=10, learning_rate=0.15, booster=gblinear, base_score=0.75 \n",
      "[CV]  n_estimators=1100, min_child_weight=2, max_depth=10, learning_rate=0.15, booster=gblinear, base_score=0.75, score=(train=-17695.226, test=-18358.170), total=   2.6s\n",
      "[CV] n_estimators=1100, min_child_weight=2, max_depth=10, learning_rate=0.15, booster=gblinear, base_score=0.75 \n",
      "[CV]  n_estimators=1100, min_child_weight=2, max_depth=10, learning_rate=0.15, booster=gblinear, base_score=0.75, score=(train=-16889.066, test=-22017.639), total=   2.6s\n",
      "[CV] n_estimators=1100, min_child_weight=2, max_depth=10, learning_rate=0.15, booster=gblinear, base_score=0.75 \n",
      "[CV]  n_estimators=1100, min_child_weight=2, max_depth=10, learning_rate=0.15, booster=gblinear, base_score=0.75, score=(train=-16438.529, test=-22210.053), total=   2.7s\n",
      "[CV] n_estimators=1100, min_child_weight=2, max_depth=10, learning_rate=0.15, booster=gblinear, base_score=0.75 \n",
      "[CV]  n_estimators=1100, min_child_weight=2, max_depth=10, learning_rate=0.15, booster=gblinear, base_score=0.75, score=(train=-17468.562, test=-19168.852), total=   2.6s\n",
      "[CV] n_estimators=1100, min_child_weight=2, max_depth=10, learning_rate=0.15, booster=gblinear, base_score=0.75 \n",
      "[CV]  n_estimators=1100, min_child_weight=2, max_depth=10, learning_rate=0.15, booster=gblinear, base_score=0.75, score=(train=-15441.858, test=-21578.936), total=   2.6s\n",
      "[CV] n_estimators=900, min_child_weight=1, max_depth=3, learning_rate=0.2, booster=gbtree, base_score=0.75 \n",
      "[CV]  n_estimators=900, min_child_weight=1, max_depth=3, learning_rate=0.2, booster=gbtree, base_score=0.75, score=(train=-960.340, test=-15778.672), total=   2.9s\n",
      "[CV] n_estimators=900, min_child_weight=1, max_depth=3, learning_rate=0.2, booster=gbtree, base_score=0.75 \n",
      "[CV]  n_estimators=900, min_child_weight=1, max_depth=3, learning_rate=0.2, booster=gbtree, base_score=0.75, score=(train=-934.652, test=-16476.110), total=   2.9s\n",
      "[CV] n_estimators=900, min_child_weight=1, max_depth=3, learning_rate=0.2, booster=gbtree, base_score=0.75 \n",
      "[CV]  n_estimators=900, min_child_weight=1, max_depth=3, learning_rate=0.2, booster=gbtree, base_score=0.75, score=(train=-914.138, test=-16589.802), total=   2.8s\n",
      "[CV] n_estimators=900, min_child_weight=1, max_depth=3, learning_rate=0.2, booster=gbtree, base_score=0.75 \n",
      "[CV]  n_estimators=900, min_child_weight=1, max_depth=3, learning_rate=0.2, booster=gbtree, base_score=0.75, score=(train=-1000.018, test=-14999.066), total=   2.9s\n",
      "[CV] n_estimators=900, min_child_weight=1, max_depth=3, learning_rate=0.2, booster=gbtree, base_score=0.75 \n",
      "[CV]  n_estimators=900, min_child_weight=1, max_depth=3, learning_rate=0.2, booster=gbtree, base_score=0.75, score=(train=-989.386, test=-16876.581), total=   2.9s\n",
      "[CV] n_estimators=900, min_child_weight=3, max_depth=5, learning_rate=0.05, booster=gbtree, base_score=1 \n",
      "[CV]  n_estimators=900, min_child_weight=3, max_depth=5, learning_rate=0.05, booster=gbtree, base_score=1, score=(train=-1225.216, test=-15583.480), total=   4.1s\n",
      "[CV] n_estimators=900, min_child_weight=3, max_depth=5, learning_rate=0.05, booster=gbtree, base_score=1 \n",
      "[CV]  n_estimators=900, min_child_weight=3, max_depth=5, learning_rate=0.05, booster=gbtree, base_score=1, score=(train=-1304.189, test=-16490.343), total=   4.1s\n",
      "[CV] n_estimators=900, min_child_weight=3, max_depth=5, learning_rate=0.05, booster=gbtree, base_score=1 \n",
      "[CV]  n_estimators=900, min_child_weight=3, max_depth=5, learning_rate=0.05, booster=gbtree, base_score=1, score=(train=-1190.870, test=-16687.132), total=   4.0s\n",
      "[CV] n_estimators=900, min_child_weight=3, max_depth=5, learning_rate=0.05, booster=gbtree, base_score=1 \n",
      "[CV]  n_estimators=900, min_child_weight=3, max_depth=5, learning_rate=0.05, booster=gbtree, base_score=1, score=(train=-1402.779, test=-13782.725), total=   4.1s\n",
      "[CV] n_estimators=900, min_child_weight=3, max_depth=5, learning_rate=0.05, booster=gbtree, base_score=1 \n",
      "[CV]  n_estimators=900, min_child_weight=3, max_depth=5, learning_rate=0.05, booster=gbtree, base_score=1, score=(train=-1222.988, test=-17070.452), total=   4.1s\n",
      "[CV] n_estimators=1100, min_child_weight=3, max_depth=10, learning_rate=0.2, booster=gblinear, base_score=0.5 \n",
      "[CV]  n_estimators=1100, min_child_weight=3, max_depth=10, learning_rate=0.2, booster=gblinear, base_score=0.5, score=(train=-17680.287, test=-18437.271), total=   2.6s\n",
      "[CV] n_estimators=1100, min_child_weight=3, max_depth=10, learning_rate=0.2, booster=gblinear, base_score=0.5 \n",
      "[CV]  n_estimators=1100, min_child_weight=3, max_depth=10, learning_rate=0.2, booster=gblinear, base_score=0.5, score=(train=-16875.277, test=-21893.155), total=   2.6s\n",
      "[CV] n_estimators=1100, min_child_weight=3, max_depth=10, learning_rate=0.2, booster=gblinear, base_score=0.5 \n",
      "[CV]  n_estimators=1100, min_child_weight=3, max_depth=10, learning_rate=0.2, booster=gblinear, base_score=0.5, score=(train=-16404.089, test=-22262.377), total=   2.7s\n",
      "[CV] n_estimators=1100, min_child_weight=3, max_depth=10, learning_rate=0.2, booster=gblinear, base_score=0.5 \n",
      "[CV]  n_estimators=1100, min_child_weight=3, max_depth=10, learning_rate=0.2, booster=gblinear, base_score=0.5, score=(train=-17433.312, test=-19352.093), total=   2.6s\n",
      "[CV] n_estimators=1100, min_child_weight=3, max_depth=10, learning_rate=0.2, booster=gblinear, base_score=0.5 \n",
      "[CV]  n_estimators=1100, min_child_weight=3, max_depth=10, learning_rate=0.2, booster=gblinear, base_score=0.5, score=(train=-15482.757, test=-21830.076), total=   2.6s\n",
      "[CV] n_estimators=100, min_child_weight=1, max_depth=10, learning_rate=0.15, booster=gblinear, base_score=0.5 \n",
      "[CV]  n_estimators=100, min_child_weight=1, max_depth=10, learning_rate=0.15, booster=gblinear, base_score=0.5, score=(train=-18994.794, test=-18711.271), total=   0.3s\n",
      "[CV] n_estimators=100, min_child_weight=1, max_depth=10, learning_rate=0.15, booster=gblinear, base_score=0.5 \n",
      "[CV]  n_estimators=100, min_child_weight=1, max_depth=10, learning_rate=0.15, booster=gblinear, base_score=0.5, score=(train=-18125.670, test=-22789.988), total=   0.3s\n",
      "[CV] n_estimators=100, min_child_weight=1, max_depth=10, learning_rate=0.15, booster=gblinear, base_score=0.5 \n",
      "[CV]  n_estimators=100, min_child_weight=1, max_depth=10, learning_rate=0.15, booster=gblinear, base_score=0.5, score=(train=-17447.959, test=-23188.998), total=   0.3s\n",
      "[CV] n_estimators=100, min_child_weight=1, max_depth=10, learning_rate=0.15, booster=gblinear, base_score=0.5 \n",
      "[CV]  n_estimators=100, min_child_weight=1, max_depth=10, learning_rate=0.15, booster=gblinear, base_score=0.5, score=(train=-18671.075, test=-19171.631), total=   0.3s\n",
      "[CV] n_estimators=100, min_child_weight=1, max_depth=10, learning_rate=0.15, booster=gblinear, base_score=0.5 \n",
      "[CV]  n_estimators=100, min_child_weight=1, max_depth=10, learning_rate=0.15, booster=gblinear, base_score=0.5, score=(train=-16951.479, test=-22105.109), total=   0.3s\n",
      "[CV] n_estimators=100, min_child_weight=4, max_depth=2, learning_rate=0.1, booster=gbtree, base_score=0.75 \n",
      "[CV]  n_estimators=100, min_child_weight=4, max_depth=2, learning_rate=0.1, booster=gbtree, base_score=0.75, score=(train=-13972.918, test=-16678.027), total=   0.3s\n",
      "[CV] n_estimators=100, min_child_weight=4, max_depth=2, learning_rate=0.1, booster=gbtree, base_score=0.75 \n",
      "[CV]  n_estimators=100, min_child_weight=4, max_depth=2, learning_rate=0.1, booster=gbtree, base_score=0.75, score=(train=-13837.055, test=-18016.223), total=   0.3s\n",
      "[CV] n_estimators=100, min_child_weight=4, max_depth=2, learning_rate=0.1, booster=gbtree, base_score=0.75 \n",
      "[CV]  n_estimators=100, min_child_weight=4, max_depth=2, learning_rate=0.1, booster=gbtree, base_score=0.75, score=(train=-14511.650, test=-17384.740), total=   0.3s\n",
      "[CV] n_estimators=100, min_child_weight=4, max_depth=2, learning_rate=0.1, booster=gbtree, base_score=0.75 \n",
      "[CV]  n_estimators=100, min_child_weight=4, max_depth=2, learning_rate=0.1, booster=gbtree, base_score=0.75, score=(train=-14461.498, test=-16226.942), total=   0.3s\n",
      "[CV] n_estimators=100, min_child_weight=4, max_depth=2, learning_rate=0.1, booster=gbtree, base_score=0.75 \n"
     ]
    },
    {
     "name": "stdout",
     "output_type": "stream",
     "text": [
      "[CV]  n_estimators=100, min_child_weight=4, max_depth=2, learning_rate=0.1, booster=gbtree, base_score=0.75, score=(train=-13816.739, test=-19270.136), total=   0.3s\n",
      "[CV] n_estimators=1500, min_child_weight=1, max_depth=15, learning_rate=0.15, booster=gbtree, base_score=0.5 \n",
      "[CV]  n_estimators=1500, min_child_weight=1, max_depth=15, learning_rate=0.15, booster=gbtree, base_score=0.5, score=(train=-7.151, test=-16786.341), total=  18.0s\n",
      "[CV] n_estimators=1500, min_child_weight=1, max_depth=15, learning_rate=0.15, booster=gbtree, base_score=0.5 \n",
      "[CV]  n_estimators=1500, min_child_weight=1, max_depth=15, learning_rate=0.15, booster=gbtree, base_score=0.5, score=(train=-7.151, test=-18837.898), total=  19.6s\n",
      "[CV] n_estimators=1500, min_child_weight=1, max_depth=15, learning_rate=0.15, booster=gbtree, base_score=0.5 \n",
      "[CV]  n_estimators=1500, min_child_weight=1, max_depth=15, learning_rate=0.15, booster=gbtree, base_score=0.5, score=(train=-0.039, test=-18203.692), total=  20.4s\n",
      "[CV] n_estimators=1500, min_child_weight=1, max_depth=15, learning_rate=0.15, booster=gbtree, base_score=0.5 \n",
      "[CV]  n_estimators=1500, min_child_weight=1, max_depth=15, learning_rate=0.15, booster=gbtree, base_score=0.5, score=(train=-7.163, test=-16693.575), total=  18.3s\n",
      "[CV] n_estimators=1500, min_child_weight=1, max_depth=15, learning_rate=0.15, booster=gbtree, base_score=0.5 \n",
      "[CV]  n_estimators=1500, min_child_weight=1, max_depth=15, learning_rate=0.15, booster=gbtree, base_score=0.5, score=(train=-0.044, test=-18064.420), total=  19.3s\n",
      "[CV] n_estimators=900, min_child_weight=3, max_depth=5, learning_rate=0.15, booster=gbtree, base_score=0.5 \n",
      "[CV]  n_estimators=900, min_child_weight=3, max_depth=5, learning_rate=0.15, booster=gbtree, base_score=0.5, score=(train=-32.979, test=-15625.378), total=   4.2s\n",
      "[CV] n_estimators=900, min_child_weight=3, max_depth=5, learning_rate=0.15, booster=gbtree, base_score=0.5 \n",
      "[CV]  n_estimators=900, min_child_weight=3, max_depth=5, learning_rate=0.15, booster=gbtree, base_score=0.5, score=(train=-39.143, test=-16259.988), total=   4.6s\n",
      "[CV] n_estimators=900, min_child_weight=3, max_depth=5, learning_rate=0.15, booster=gbtree, base_score=0.5 \n",
      "[CV]  n_estimators=900, min_child_weight=3, max_depth=5, learning_rate=0.15, booster=gbtree, base_score=0.5, score=(train=-40.716, test=-16835.309), total=   4.1s\n",
      "[CV] n_estimators=900, min_child_weight=3, max_depth=5, learning_rate=0.15, booster=gbtree, base_score=0.5 \n",
      "[CV]  n_estimators=900, min_child_weight=3, max_depth=5, learning_rate=0.15, booster=gbtree, base_score=0.5, score=(train=-47.069, test=-14110.886), total=   4.1s\n",
      "[CV] n_estimators=900, min_child_weight=3, max_depth=5, learning_rate=0.15, booster=gbtree, base_score=0.5 \n",
      "[CV]  n_estimators=900, min_child_weight=3, max_depth=5, learning_rate=0.15, booster=gbtree, base_score=0.5, score=(train=-31.750, test=-16995.873), total=   4.2s\n",
      "[CV] n_estimators=500, min_child_weight=1, max_depth=15, learning_rate=0.05, booster=gbtree, base_score=1 \n",
      "[CV]  n_estimators=500, min_child_weight=1, max_depth=15, learning_rate=0.05, booster=gbtree, base_score=1, score=(train=-7.527, test=-16853.861), total=   6.3s\n",
      "[CV] n_estimators=500, min_child_weight=1, max_depth=15, learning_rate=0.05, booster=gbtree, base_score=1 \n",
      "[CV]  n_estimators=500, min_child_weight=1, max_depth=15, learning_rate=0.05, booster=gbtree, base_score=1, score=(train=-7.363, test=-17127.495), total=   6.6s\n",
      "[CV] n_estimators=500, min_child_weight=1, max_depth=15, learning_rate=0.05, booster=gbtree, base_score=1 \n",
      "[CV]  n_estimators=500, min_child_weight=1, max_depth=15, learning_rate=0.05, booster=gbtree, base_score=1, score=(train=-0.353, test=-18204.048), total=   6.6s\n",
      "[CV] n_estimators=500, min_child_weight=1, max_depth=15, learning_rate=0.05, booster=gbtree, base_score=1 \n",
      "[CV]  n_estimators=500, min_child_weight=1, max_depth=15, learning_rate=0.05, booster=gbtree, base_score=1, score=(train=-7.497, test=-15697.130), total=   6.2s\n",
      "[CV] n_estimators=500, min_child_weight=1, max_depth=15, learning_rate=0.05, booster=gbtree, base_score=1 \n",
      "[CV]  n_estimators=500, min_child_weight=1, max_depth=15, learning_rate=0.05, booster=gbtree, base_score=1, score=(train=-0.807, test=-18084.151), total=   6.0s\n",
      "[CV] n_estimators=500, min_child_weight=1, max_depth=2, learning_rate=0.1, booster=gbtree, base_score=1 \n",
      "[CV]  n_estimators=500, min_child_weight=1, max_depth=2, learning_rate=0.1, booster=gbtree, base_score=1, score=(train=-8975.369, test=-14975.083), total=   1.2s\n",
      "[CV] n_estimators=500, min_child_weight=1, max_depth=2, learning_rate=0.1, booster=gbtree, base_score=1 \n",
      "[CV]  n_estimators=500, min_child_weight=1, max_depth=2, learning_rate=0.1, booster=gbtree, base_score=1, score=(train=-9077.641, test=-17307.644), total=   1.2s\n",
      "[CV] n_estimators=500, min_child_weight=1, max_depth=2, learning_rate=0.1, booster=gbtree, base_score=1 \n",
      "[CV]  n_estimators=500, min_child_weight=1, max_depth=2, learning_rate=0.1, booster=gbtree, base_score=1, score=(train=-8722.660, test=-15635.815), total=   1.3s\n",
      "[CV] n_estimators=500, min_child_weight=1, max_depth=2, learning_rate=0.1, booster=gbtree, base_score=1 \n",
      "[CV]  n_estimators=500, min_child_weight=1, max_depth=2, learning_rate=0.1, booster=gbtree, base_score=1, score=(train=-9360.421, test=-14133.242), total=   1.2s\n",
      "[CV] n_estimators=500, min_child_weight=1, max_depth=2, learning_rate=0.1, booster=gbtree, base_score=1 \n",
      "[CV]  n_estimators=500, min_child_weight=1, max_depth=2, learning_rate=0.1, booster=gbtree, base_score=1, score=(train=-8654.987, test=-16236.518), total=   1.2s\n",
      "[CV] n_estimators=100, min_child_weight=4, max_depth=5, learning_rate=0.2, booster=gbtree, base_score=1 \n",
      "[CV]  n_estimators=100, min_child_weight=4, max_depth=5, learning_rate=0.2, booster=gbtree, base_score=1, score=(train=-4105.894, test=-16378.728), total=   0.5s\n",
      "[CV] n_estimators=100, min_child_weight=4, max_depth=5, learning_rate=0.2, booster=gbtree, base_score=1 \n",
      "[CV]  n_estimators=100, min_child_weight=4, max_depth=5, learning_rate=0.2, booster=gbtree, base_score=1, score=(train=-3771.042, test=-16875.334), total=   0.5s\n",
      "[CV] n_estimators=100, min_child_weight=4, max_depth=5, learning_rate=0.2, booster=gbtree, base_score=1 \n",
      "[CV]  n_estimators=100, min_child_weight=4, max_depth=5, learning_rate=0.2, booster=gbtree, base_score=1, score=(train=-3457.800, test=-17002.594), total=   0.5s\n",
      "[CV] n_estimators=100, min_child_weight=4, max_depth=5, learning_rate=0.2, booster=gbtree, base_score=1 \n",
      "[CV]  n_estimators=100, min_child_weight=4, max_depth=5, learning_rate=0.2, booster=gbtree, base_score=1, score=(train=-3975.011, test=-14257.707), total=   0.5s\n",
      "[CV] n_estimators=100, min_child_weight=4, max_depth=5, learning_rate=0.2, booster=gbtree, base_score=1 \n",
      "[CV]  n_estimators=100, min_child_weight=4, max_depth=5, learning_rate=0.2, booster=gbtree, base_score=1, score=(train=-4189.081, test=-17979.799), total=   0.5s\n",
      "[CV] n_estimators=1500, min_child_weight=2, max_depth=15, learning_rate=0.1, booster=gbtree, base_score=0.5 \n",
      "[CV]  n_estimators=1500, min_child_weight=2, max_depth=15, learning_rate=0.1, booster=gbtree, base_score=0.5, score=(train=-7.174, test=-15959.261), total=  17.2s\n",
      "[CV] n_estimators=1500, min_child_weight=2, max_depth=15, learning_rate=0.1, booster=gbtree, base_score=0.5 \n",
      "[CV]  n_estimators=1500, min_child_weight=2, max_depth=15, learning_rate=0.1, booster=gbtree, base_score=0.5, score=(train=-7.149, test=-16601.575), total=  17.7s\n",
      "[CV] n_estimators=1500, min_child_weight=2, max_depth=15, learning_rate=0.1, booster=gbtree, base_score=0.5 \n",
      "[CV]  n_estimators=1500, min_child_weight=2, max_depth=15, learning_rate=0.1, booster=gbtree, base_score=0.5, score=(train=-0.059, test=-17584.709), total=  17.5s\n",
      "[CV] n_estimators=1500, min_child_weight=2, max_depth=15, learning_rate=0.1, booster=gbtree, base_score=0.5 \n",
      "[CV]  n_estimators=1500, min_child_weight=2, max_depth=15, learning_rate=0.1, booster=gbtree, base_score=0.5, score=(train=-7.160, test=-15341.434), total=  17.5s\n",
      "[CV] n_estimators=1500, min_child_weight=2, max_depth=15, learning_rate=0.1, booster=gbtree, base_score=0.5 \n",
      "[CV]  n_estimators=1500, min_child_weight=2, max_depth=15, learning_rate=0.1, booster=gbtree, base_score=0.5, score=(train=-0.051, test=-17301.963), total=  17.1s\n",
      "[CV] n_estimators=900, min_child_weight=2, max_depth=5, learning_rate=0.1, booster=gblinear, base_score=0.25 \n"
     ]
    },
    {
     "name": "stdout",
     "output_type": "stream",
     "text": [
      "[CV]  n_estimators=900, min_child_weight=2, max_depth=5, learning_rate=0.1, booster=gblinear, base_score=0.25, score=(train=-17735.376, test=-18216.714), total=   2.2s\n",
      "[CV] n_estimators=900, min_child_weight=2, max_depth=5, learning_rate=0.1, booster=gblinear, base_score=0.25 \n",
      "[CV]  n_estimators=900, min_child_weight=2, max_depth=5, learning_rate=0.1, booster=gblinear, base_score=0.25, score=(train=-16880.361, test=-22150.170), total=   2.1s\n",
      "[CV] n_estimators=900, min_child_weight=2, max_depth=5, learning_rate=0.1, booster=gblinear, base_score=0.25 \n",
      "[CV]  n_estimators=900, min_child_weight=2, max_depth=5, learning_rate=0.1, booster=gblinear, base_score=0.25, score=(train=-16496.174, test=-22174.346), total=   2.1s\n",
      "[CV] n_estimators=900, min_child_weight=2, max_depth=5, learning_rate=0.1, booster=gblinear, base_score=0.25 \n",
      "[CV]  n_estimators=900, min_child_weight=2, max_depth=5, learning_rate=0.1, booster=gblinear, base_score=0.25, score=(train=-17553.553, test=-18816.095), total=   2.1s\n",
      "[CV] n_estimators=900, min_child_weight=2, max_depth=5, learning_rate=0.1, booster=gblinear, base_score=0.25 \n",
      "[CV]  n_estimators=900, min_child_weight=2, max_depth=5, learning_rate=0.1, booster=gblinear, base_score=0.25, score=(train=-15480.214, test=-21370.110), total=   2.1s\n",
      "[CV] n_estimators=1100, min_child_weight=3, max_depth=3, learning_rate=0.05, booster=gbtree, base_score=0.25 \n",
      "[CV]  n_estimators=1100, min_child_weight=3, max_depth=3, learning_rate=0.05, booster=gbtree, base_score=0.25, score=(train=-4916.890, test=-14890.849), total=   3.4s\n",
      "[CV] n_estimators=1100, min_child_weight=3, max_depth=3, learning_rate=0.05, booster=gbtree, base_score=0.25 \n",
      "[CV]  n_estimators=1100, min_child_weight=3, max_depth=3, learning_rate=0.05, booster=gbtree, base_score=0.25, score=(train=-4669.466, test=-16277.734), total=   3.4s\n",
      "[CV] n_estimators=1100, min_child_weight=3, max_depth=3, learning_rate=0.05, booster=gbtree, base_score=0.25 \n",
      "[CV]  n_estimators=1100, min_child_weight=3, max_depth=3, learning_rate=0.05, booster=gbtree, base_score=0.25, score=(train=-4403.949, test=-16334.528), total=   3.4s\n",
      "[CV] n_estimators=1100, min_child_weight=3, max_depth=3, learning_rate=0.05, booster=gbtree, base_score=0.25 \n",
      "[CV]  n_estimators=1100, min_child_weight=3, max_depth=3, learning_rate=0.05, booster=gbtree, base_score=0.25, score=(train=-5038.968, test=-13644.279), total=   3.4s\n",
      "[CV] n_estimators=1100, min_child_weight=3, max_depth=3, learning_rate=0.05, booster=gbtree, base_score=0.25 \n",
      "[CV]  n_estimators=1100, min_child_weight=3, max_depth=3, learning_rate=0.05, booster=gbtree, base_score=0.25, score=(train=-4539.100, test=-16700.488), total=   3.4s\n",
      "[CV] n_estimators=100, min_child_weight=1, max_depth=10, learning_rate=0.2, booster=gbtree, base_score=0.5 \n",
      "[CV]  n_estimators=100, min_child_weight=1, max_depth=10, learning_rate=0.2, booster=gbtree, base_score=0.5, score=(train=-64.691, test=-17356.999), total=   0.9s\n",
      "[CV] n_estimators=100, min_child_weight=1, max_depth=10, learning_rate=0.2, booster=gbtree, base_score=0.5 \n",
      "[CV]  n_estimators=100, min_child_weight=1, max_depth=10, learning_rate=0.2, booster=gbtree, base_score=0.5, score=(train=-87.848, test=-18223.495), total=   0.9s\n",
      "[CV] n_estimators=100, min_child_weight=1, max_depth=10, learning_rate=0.2, booster=gbtree, base_score=0.5 \n",
      "[CV]  n_estimators=100, min_child_weight=1, max_depth=10, learning_rate=0.2, booster=gbtree, base_score=0.5, score=(train=-100.614, test=-17978.951), total=   0.9s\n",
      "[CV] n_estimators=100, min_child_weight=1, max_depth=10, learning_rate=0.2, booster=gbtree, base_score=0.5 \n",
      "[CV]  n_estimators=100, min_child_weight=1, max_depth=10, learning_rate=0.2, booster=gbtree, base_score=0.5, score=(train=-76.819, test=-16033.926), total=   0.9s\n",
      "[CV] n_estimators=100, min_child_weight=1, max_depth=10, learning_rate=0.2, booster=gbtree, base_score=0.5 \n",
      "[CV]  n_estimators=100, min_child_weight=1, max_depth=10, learning_rate=0.2, booster=gbtree, base_score=0.5, score=(train=-110.544, test=-18487.313), total=   0.9s\n",
      "[CV] n_estimators=100, min_child_weight=2, max_depth=15, learning_rate=0.05, booster=gblinear, base_score=0.25 \n",
      "[CV]  n_estimators=100, min_child_weight=2, max_depth=15, learning_rate=0.05, booster=gblinear, base_score=0.25, score=(train=-19531.096, test=-19219.076), total=   0.3s\n",
      "[CV] n_estimators=100, min_child_weight=2, max_depth=15, learning_rate=0.05, booster=gblinear, base_score=0.25 \n",
      "[CV]  n_estimators=100, min_child_weight=2, max_depth=15, learning_rate=0.05, booster=gblinear, base_score=0.25, score=(train=-18862.163, test=-23117.879), total=   0.3s\n",
      "[CV] n_estimators=100, min_child_weight=2, max_depth=15, learning_rate=0.05, booster=gblinear, base_score=0.25 \n",
      "[CV]  n_estimators=100, min_child_weight=2, max_depth=15, learning_rate=0.05, booster=gblinear, base_score=0.25, score=(train=-18425.084, test=-23700.174), total=   0.3s\n",
      "[CV] n_estimators=100, min_child_weight=2, max_depth=15, learning_rate=0.05, booster=gblinear, base_score=0.25 \n",
      "[CV]  n_estimators=100, min_child_weight=2, max_depth=15, learning_rate=0.05, booster=gblinear, base_score=0.25, score=(train=-19411.664, test=-19753.819), total=   0.3s\n",
      "[CV] n_estimators=100, min_child_weight=2, max_depth=15, learning_rate=0.05, booster=gblinear, base_score=0.25 \n",
      "[CV]  n_estimators=100, min_child_weight=2, max_depth=15, learning_rate=0.05, booster=gblinear, base_score=0.25, score=(train=-17941.423, test=-22756.373), total=   0.3s\n",
      "[CV] n_estimators=500, min_child_weight=1, max_depth=5, learning_rate=0.05, booster=gbtree, base_score=0.5 \n",
      "[CV]  n_estimators=500, min_child_weight=1, max_depth=5, learning_rate=0.05, booster=gbtree, base_score=0.5, score=(train=-2992.859, test=-15008.884), total=   2.2s\n",
      "[CV] n_estimators=500, min_child_weight=1, max_depth=5, learning_rate=0.05, booster=gbtree, base_score=0.5 \n",
      "[CV]  n_estimators=500, min_child_weight=1, max_depth=5, learning_rate=0.05, booster=gbtree, base_score=0.5, score=(train=-2780.277, test=-15910.322), total=   2.2s\n",
      "[CV] n_estimators=500, min_child_weight=1, max_depth=5, learning_rate=0.05, booster=gbtree, base_score=0.5 \n",
      "[CV]  n_estimators=500, min_child_weight=1, max_depth=5, learning_rate=0.05, booster=gbtree, base_score=0.5, score=(train=-2772.362, test=-16481.489), total=   2.4s\n",
      "[CV] n_estimators=500, min_child_weight=1, max_depth=5, learning_rate=0.05, booster=gbtree, base_score=0.5 \n",
      "[CV]  n_estimators=500, min_child_weight=1, max_depth=5, learning_rate=0.05, booster=gbtree, base_score=0.5, score=(train=-3015.812, test=-14222.149), total=   2.6s\n",
      "[CV] n_estimators=500, min_child_weight=1, max_depth=5, learning_rate=0.05, booster=gbtree, base_score=0.5 \n",
      "[CV]  n_estimators=500, min_child_weight=1, max_depth=5, learning_rate=0.05, booster=gbtree, base_score=0.5, score=(train=-3251.545, test=-16979.209), total=   2.3s\n",
      "[CV] n_estimators=1100, min_child_weight=1, max_depth=10, learning_rate=0.1, booster=gbtree, base_score=1 \n",
      "[CV]  n_estimators=1100, min_child_weight=1, max_depth=10, learning_rate=0.1, booster=gbtree, base_score=1, score=(train=-7.204, test=-16415.631), total=   9.0s\n",
      "[CV] n_estimators=1100, min_child_weight=1, max_depth=10, learning_rate=0.1, booster=gbtree, base_score=1 \n",
      "[CV]  n_estimators=1100, min_child_weight=1, max_depth=10, learning_rate=0.1, booster=gbtree, base_score=1, score=(train=-7.212, test=-16629.649), total=   9.0s\n",
      "[CV] n_estimators=1100, min_child_weight=1, max_depth=10, learning_rate=0.1, booster=gbtree, base_score=1 \n",
      "[CV]  n_estimators=1100, min_child_weight=1, max_depth=10, learning_rate=0.1, booster=gbtree, base_score=1, score=(train=-0.101, test=-17740.690), total=   9.1s\n",
      "[CV] n_estimators=1100, min_child_weight=1, max_depth=10, learning_rate=0.1, booster=gbtree, base_score=1 \n",
      "[CV]  n_estimators=1100, min_child_weight=1, max_depth=10, learning_rate=0.1, booster=gbtree, base_score=1, score=(train=-7.206, test=-15840.799), total=   9.5s\n",
      "[CV] n_estimators=1100, min_child_weight=1, max_depth=10, learning_rate=0.1, booster=gbtree, base_score=1 \n",
      "[CV]  n_estimators=1100, min_child_weight=1, max_depth=10, learning_rate=0.1, booster=gbtree, base_score=1, score=(train=-0.114, test=-18234.579), total=   9.1s\n",
      "[CV] n_estimators=1100, min_child_weight=4, max_depth=10, learning_rate=0.2, booster=gblinear, base_score=1 \n"
     ]
    },
    {
     "name": "stdout",
     "output_type": "stream",
     "text": [
      "[CV]  n_estimators=1100, min_child_weight=4, max_depth=10, learning_rate=0.2, booster=gblinear, base_score=1, score=(train=-17680.692, test=-18447.473), total=   2.6s\n",
      "[CV] n_estimators=1100, min_child_weight=4, max_depth=10, learning_rate=0.2, booster=gblinear, base_score=1 \n",
      "[CV]  n_estimators=1100, min_child_weight=4, max_depth=10, learning_rate=0.2, booster=gblinear, base_score=1, score=(train=-16883.560, test=-21940.618), total=   2.6s\n",
      "[CV] n_estimators=1100, min_child_weight=4, max_depth=10, learning_rate=0.2, booster=gblinear, base_score=1 \n",
      "[CV]  n_estimators=1100, min_child_weight=4, max_depth=10, learning_rate=0.2, booster=gblinear, base_score=1, score=(train=-16411.830, test=-22265.892), total=   2.6s\n",
      "[CV] n_estimators=1100, min_child_weight=4, max_depth=10, learning_rate=0.2, booster=gblinear, base_score=1 \n",
      "[CV]  n_estimators=1100, min_child_weight=4, max_depth=10, learning_rate=0.2, booster=gblinear, base_score=1, score=(train=-17442.310, test=-19347.366), total=   2.6s\n",
      "[CV] n_estimators=1100, min_child_weight=4, max_depth=10, learning_rate=0.2, booster=gblinear, base_score=1 \n",
      "[CV]  n_estimators=1100, min_child_weight=4, max_depth=10, learning_rate=0.2, booster=gblinear, base_score=1, score=(train=-15476.008, test=-21693.813), total=   2.6s\n",
      "[CV] n_estimators=900, min_child_weight=3, max_depth=5, learning_rate=0.1, booster=gbtree, base_score=0.75 \n",
      "[CV]  n_estimators=900, min_child_weight=3, max_depth=5, learning_rate=0.1, booster=gbtree, base_score=0.75, score=(train=-175.406, test=-15446.614), total=   4.1s\n",
      "[CV] n_estimators=900, min_child_weight=3, max_depth=5, learning_rate=0.1, booster=gbtree, base_score=0.75 \n",
      "[CV]  n_estimators=900, min_child_weight=3, max_depth=5, learning_rate=0.1, booster=gbtree, base_score=0.75, score=(train=-219.522, test=-16372.164), total=   4.1s\n",
      "[CV] n_estimators=900, min_child_weight=3, max_depth=5, learning_rate=0.1, booster=gbtree, base_score=0.75 \n",
      "[CV]  n_estimators=900, min_child_weight=3, max_depth=5, learning_rate=0.1, booster=gbtree, base_score=0.75, score=(train=-259.576, test=-17016.510), total=   4.0s\n",
      "[CV] n_estimators=900, min_child_weight=3, max_depth=5, learning_rate=0.1, booster=gbtree, base_score=0.75 \n",
      "[CV]  n_estimators=900, min_child_weight=3, max_depth=5, learning_rate=0.1, booster=gbtree, base_score=0.75, score=(train=-250.737, test=-13483.308), total=   4.1s\n",
      "[CV] n_estimators=900, min_child_weight=3, max_depth=5, learning_rate=0.1, booster=gbtree, base_score=0.75 \n",
      "[CV]  n_estimators=900, min_child_weight=3, max_depth=5, learning_rate=0.1, booster=gbtree, base_score=0.75, score=(train=-204.255, test=-17223.884), total=   4.0s\n",
      "[CV] n_estimators=1500, min_child_weight=3, max_depth=10, learning_rate=0.15, booster=gbtree, base_score=1 \n",
      "[CV]  n_estimators=1500, min_child_weight=3, max_depth=10, learning_rate=0.15, booster=gbtree, base_score=1, score=(train=-7.147, test=-16135.103), total=  12.7s\n",
      "[CV] n_estimators=1500, min_child_weight=3, max_depth=10, learning_rate=0.15, booster=gbtree, base_score=1 \n",
      "[CV]  n_estimators=1500, min_child_weight=3, max_depth=10, learning_rate=0.15, booster=gbtree, base_score=1, score=(train=-7.152, test=-16516.426), total=  12.0s\n",
      "[CV] n_estimators=1500, min_child_weight=3, max_depth=10, learning_rate=0.15, booster=gbtree, base_score=1 \n",
      "[CV]  n_estimators=1500, min_child_weight=3, max_depth=10, learning_rate=0.15, booster=gbtree, base_score=1, score=(train=-0.039, test=-17817.470), total=  11.8s\n",
      "[CV] n_estimators=1500, min_child_weight=3, max_depth=10, learning_rate=0.15, booster=gbtree, base_score=1 \n",
      "[CV]  n_estimators=1500, min_child_weight=3, max_depth=10, learning_rate=0.15, booster=gbtree, base_score=1, score=(train=-7.147, test=-15054.199), total=  11.8s\n",
      "[CV] n_estimators=1500, min_child_weight=3, max_depth=10, learning_rate=0.15, booster=gbtree, base_score=1 \n",
      "[CV]  n_estimators=1500, min_child_weight=3, max_depth=10, learning_rate=0.15, booster=gbtree, base_score=1, score=(train=-0.039, test=-17351.447), total=  12.1s\n",
      "[CV] n_estimators=1100, min_child_weight=1, max_depth=3, learning_rate=0.2, booster=gbtree, base_score=0.75 \n",
      "[CV]  n_estimators=1100, min_child_weight=1, max_depth=3, learning_rate=0.2, booster=gbtree, base_score=0.75, score=(train=-620.923, test=-15810.347), total=   3.4s\n",
      "[CV] n_estimators=1100, min_child_weight=1, max_depth=3, learning_rate=0.2, booster=gbtree, base_score=0.75 \n",
      "[CV]  n_estimators=1100, min_child_weight=1, max_depth=3, learning_rate=0.2, booster=gbtree, base_score=0.75, score=(train=-590.186, test=-16486.196), total=   3.4s\n",
      "[CV] n_estimators=1100, min_child_weight=1, max_depth=3, learning_rate=0.2, booster=gbtree, base_score=0.75 \n",
      "[CV]  n_estimators=1100, min_child_weight=1, max_depth=3, learning_rate=0.2, booster=gbtree, base_score=0.75, score=(train=-581.974, test=-16648.659), total=   3.4s\n",
      "[CV] n_estimators=1100, min_child_weight=1, max_depth=3, learning_rate=0.2, booster=gbtree, base_score=0.75 \n",
      "[CV]  n_estimators=1100, min_child_weight=1, max_depth=3, learning_rate=0.2, booster=gbtree, base_score=0.75, score=(train=-637.581, test=-15022.502), total=   3.4s\n",
      "[CV] n_estimators=1100, min_child_weight=1, max_depth=3, learning_rate=0.2, booster=gbtree, base_score=0.75 \n",
      "[CV]  n_estimators=1100, min_child_weight=1, max_depth=3, learning_rate=0.2, booster=gbtree, base_score=0.75, score=(train=-622.582, test=-16892.649), total=   3.4s\n",
      "[CV] n_estimators=500, min_child_weight=3, max_depth=2, learning_rate=0.05, booster=gbtree, base_score=1 \n",
      "[CV]  n_estimators=500, min_child_weight=3, max_depth=2, learning_rate=0.05, booster=gbtree, base_score=1, score=(train=-10948.978, test=-15741.418), total=   1.2s\n",
      "[CV] n_estimators=500, min_child_weight=3, max_depth=2, learning_rate=0.05, booster=gbtree, base_score=1 \n",
      "[CV]  n_estimators=500, min_child_weight=3, max_depth=2, learning_rate=0.05, booster=gbtree, base_score=1, score=(train=-11022.204, test=-17406.695), total=   1.3s\n",
      "[CV] n_estimators=500, min_child_weight=3, max_depth=2, learning_rate=0.05, booster=gbtree, base_score=1 \n",
      "[CV]  n_estimators=500, min_child_weight=3, max_depth=2, learning_rate=0.05, booster=gbtree, base_score=1, score=(train=-11265.156, test=-16303.418), total=   1.2s\n",
      "[CV] n_estimators=500, min_child_weight=3, max_depth=2, learning_rate=0.05, booster=gbtree, base_score=1 \n",
      "[CV]  n_estimators=500, min_child_weight=3, max_depth=2, learning_rate=0.05, booster=gbtree, base_score=1, score=(train=-11539.728, test=-14242.429), total=   1.2s\n",
      "[CV] n_estimators=500, min_child_weight=3, max_depth=2, learning_rate=0.05, booster=gbtree, base_score=1 \n",
      "[CV]  n_estimators=500, min_child_weight=3, max_depth=2, learning_rate=0.05, booster=gbtree, base_score=1, score=(train=-10633.227, test=-17544.599), total=   1.3s\n",
      "[CV] n_estimators=900, min_child_weight=4, max_depth=5, learning_rate=0.15, booster=gbtree, base_score=0.75 \n",
      "[CV]  n_estimators=900, min_child_weight=4, max_depth=5, learning_rate=0.15, booster=gbtree, base_score=0.75, score=(train=-45.079, test=-15644.099), total=   4.0s\n",
      "[CV] n_estimators=900, min_child_weight=4, max_depth=5, learning_rate=0.15, booster=gbtree, base_score=0.75 \n",
      "[CV]  n_estimators=900, min_child_weight=4, max_depth=5, learning_rate=0.15, booster=gbtree, base_score=0.75, score=(train=-39.500, test=-16421.765), total=   4.0s\n",
      "[CV] n_estimators=900, min_child_weight=4, max_depth=5, learning_rate=0.15, booster=gbtree, base_score=0.75 \n",
      "[CV]  n_estimators=900, min_child_weight=4, max_depth=5, learning_rate=0.15, booster=gbtree, base_score=0.75, score=(train=-49.652, test=-17259.321), total=   4.1s\n",
      "[CV] n_estimators=900, min_child_weight=4, max_depth=5, learning_rate=0.15, booster=gbtree, base_score=0.75 \n",
      "[CV]  n_estimators=900, min_child_weight=4, max_depth=5, learning_rate=0.15, booster=gbtree, base_score=0.75, score=(train=-57.112, test=-14201.539), total=   4.0s\n",
      "[CV] n_estimators=900, min_child_weight=4, max_depth=5, learning_rate=0.15, booster=gbtree, base_score=0.75 \n",
      "[CV]  n_estimators=900, min_child_weight=4, max_depth=5, learning_rate=0.15, booster=gbtree, base_score=0.75, score=(train=-43.631, test=-17777.301), total=   4.3s\n",
      "[CV] n_estimators=1100, min_child_weight=3, max_depth=5, learning_rate=0.1, booster=gblinear, base_score=0.25 \n",
      "[CV]  n_estimators=1100, min_child_weight=3, max_depth=5, learning_rate=0.1, booster=gblinear, base_score=0.25, score=(train=-17701.230, test=-18261.576), total=   2.8s\n",
      "[CV] n_estimators=1100, min_child_weight=3, max_depth=5, learning_rate=0.1, booster=gblinear, base_score=0.25 \n"
     ]
    },
    {
     "name": "stdout",
     "output_type": "stream",
     "text": [
      "[CV]  n_estimators=1100, min_child_weight=3, max_depth=5, learning_rate=0.1, booster=gblinear, base_score=0.25, score=(train=-16883.570, test=-22121.767), total=   2.6s\n",
      "[CV] n_estimators=1100, min_child_weight=3, max_depth=5, learning_rate=0.1, booster=gblinear, base_score=0.25 \n",
      "[CV]  n_estimators=1100, min_child_weight=3, max_depth=5, learning_rate=0.1, booster=gblinear, base_score=0.25, score=(train=-16457.201, test=-22122.396), total=   2.6s\n",
      "[CV] n_estimators=1100, min_child_weight=3, max_depth=5, learning_rate=0.1, booster=gblinear, base_score=0.25 \n",
      "[CV]  n_estimators=1100, min_child_weight=3, max_depth=5, learning_rate=0.1, booster=gblinear, base_score=0.25, score=(train=-17499.490, test=-18921.769), total=   2.6s\n",
      "[CV] n_estimators=1100, min_child_weight=3, max_depth=5, learning_rate=0.1, booster=gblinear, base_score=0.25 \n",
      "[CV]  n_estimators=1100, min_child_weight=3, max_depth=5, learning_rate=0.1, booster=gblinear, base_score=0.25, score=(train=-15450.964, test=-21421.548), total=   2.6s\n",
      "[CV] n_estimators=500, min_child_weight=1, max_depth=2, learning_rate=0.1, booster=gblinear, base_score=0.25 \n",
      "[CV]  n_estimators=500, min_child_weight=1, max_depth=2, learning_rate=0.1, booster=gblinear, base_score=0.25, score=(train=-17867.263, test=-18078.117), total=   1.2s\n",
      "[CV] n_estimators=500, min_child_weight=1, max_depth=2, learning_rate=0.1, booster=gblinear, base_score=0.25 \n",
      "[CV]  n_estimators=500, min_child_weight=1, max_depth=2, learning_rate=0.1, booster=gblinear, base_score=0.25, score=(train=-17004.558, test=-22212.802), total=   1.2s\n",
      "[CV] n_estimators=500, min_child_weight=1, max_depth=2, learning_rate=0.1, booster=gblinear, base_score=0.25 \n",
      "[CV]  n_estimators=500, min_child_weight=1, max_depth=2, learning_rate=0.1, booster=gblinear, base_score=0.25, score=(train=-16689.885, test=-22472.958), total=   1.2s\n",
      "[CV] n_estimators=500, min_child_weight=1, max_depth=2, learning_rate=0.1, booster=gblinear, base_score=0.25 \n",
      "[CV]  n_estimators=500, min_child_weight=1, max_depth=2, learning_rate=0.1, booster=gblinear, base_score=0.25, score=(train=-17716.557, test=-18620.905), total=   1.2s\n",
      "[CV] n_estimators=500, min_child_weight=1, max_depth=2, learning_rate=0.1, booster=gblinear, base_score=0.25 \n",
      "[CV]  n_estimators=500, min_child_weight=1, max_depth=2, learning_rate=0.1, booster=gblinear, base_score=0.25, score=(train=-15716.949, test=-21375.644), total=   1.2s\n",
      "[CV] n_estimators=1500, min_child_weight=3, max_depth=2, learning_rate=0.2, booster=gblinear, base_score=0.75 \n",
      "[CV]  n_estimators=1500, min_child_weight=3, max_depth=2, learning_rate=0.2, booster=gblinear, base_score=0.75, score=(train=-17618.646, test=-18514.446), total=   3.5s\n",
      "[CV] n_estimators=1500, min_child_weight=3, max_depth=2, learning_rate=0.2, booster=gblinear, base_score=0.75 \n",
      "[CV]  n_estimators=1500, min_child_weight=3, max_depth=2, learning_rate=0.2, booster=gblinear, base_score=0.75, score=(train=-16820.141, test=-21762.081), total=   3.5s\n",
      "[CV] n_estimators=1500, min_child_weight=3, max_depth=2, learning_rate=0.2, booster=gblinear, base_score=0.75 \n",
      "[CV]  n_estimators=1500, min_child_weight=3, max_depth=2, learning_rate=0.2, booster=gblinear, base_score=0.75, score=(train=-16334.340, test=-22205.361), total=   3.6s\n",
      "[CV] n_estimators=1500, min_child_weight=3, max_depth=2, learning_rate=0.2, booster=gblinear, base_score=0.75 \n",
      "[CV]  n_estimators=1500, min_child_weight=3, max_depth=2, learning_rate=0.2, booster=gblinear, base_score=0.75, score=(train=-17377.941, test=-19427.736), total=   3.5s\n",
      "[CV] n_estimators=1500, min_child_weight=3, max_depth=2, learning_rate=0.2, booster=gblinear, base_score=0.75 \n",
      "[CV]  n_estimators=1500, min_child_weight=3, max_depth=2, learning_rate=0.2, booster=gblinear, base_score=0.75, score=(train=-15465.733, test=-21764.012), total=   3.5s\n",
      "[CV] n_estimators=1500, min_child_weight=1, max_depth=10, learning_rate=0.2, booster=gbtree, base_score=0.75 \n",
      "[CV]  n_estimators=1500, min_child_weight=1, max_depth=10, learning_rate=0.2, booster=gbtree, base_score=0.75, score=(train=-7.155, test=-17360.114), total=  11.8s\n",
      "[CV] n_estimators=1500, min_child_weight=1, max_depth=10, learning_rate=0.2, booster=gbtree, base_score=0.75 \n",
      "[CV]  n_estimators=1500, min_child_weight=1, max_depth=10, learning_rate=0.2, booster=gbtree, base_score=0.75, score=(train=-7.149, test=-18221.621), total=  11.9s\n",
      "[CV] n_estimators=1500, min_child_weight=1, max_depth=10, learning_rate=0.2, booster=gbtree, base_score=0.75 \n",
      "[CV]  n_estimators=1500, min_child_weight=1, max_depth=10, learning_rate=0.2, booster=gbtree, base_score=0.75, score=(train=-0.032, test=-18050.952), total=  11.9s\n",
      "[CV] n_estimators=1500, min_child_weight=1, max_depth=10, learning_rate=0.2, booster=gbtree, base_score=0.75 \n",
      "[CV]  n_estimators=1500, min_child_weight=1, max_depth=10, learning_rate=0.2, booster=gbtree, base_score=0.75, score=(train=-7.154, test=-16032.439), total=  12.0s\n",
      "[CV] n_estimators=1500, min_child_weight=1, max_depth=10, learning_rate=0.2, booster=gbtree, base_score=0.75 \n",
      "[CV]  n_estimators=1500, min_child_weight=1, max_depth=10, learning_rate=0.2, booster=gbtree, base_score=0.75, score=(train=-0.032, test=-18487.633), total=  12.0s\n",
      "[CV] n_estimators=1500, min_child_weight=3, max_depth=3, learning_rate=0.2, booster=gbtree, base_score=0.75 \n",
      "[CV]  n_estimators=1500, min_child_weight=3, max_depth=3, learning_rate=0.2, booster=gbtree, base_score=0.75, score=(train=-296.024, test=-15596.905), total=   4.7s\n",
      "[CV] n_estimators=1500, min_child_weight=3, max_depth=3, learning_rate=0.2, booster=gbtree, base_score=0.75 \n",
      "[CV]  n_estimators=1500, min_child_weight=3, max_depth=3, learning_rate=0.2, booster=gbtree, base_score=0.75, score=(train=-317.281, test=-17094.848), total=   4.7s\n",
      "[CV] n_estimators=1500, min_child_weight=3, max_depth=3, learning_rate=0.2, booster=gbtree, base_score=0.75 \n",
      "[CV]  n_estimators=1500, min_child_weight=3, max_depth=3, learning_rate=0.2, booster=gbtree, base_score=0.75, score=(train=-254.608, test=-16978.044), total=   4.6s\n",
      "[CV] n_estimators=1500, min_child_weight=3, max_depth=3, learning_rate=0.2, booster=gbtree, base_score=0.75 \n",
      "[CV]  n_estimators=1500, min_child_weight=3, max_depth=3, learning_rate=0.2, booster=gbtree, base_score=0.75, score=(train=-263.204, test=-14535.215), total=   4.7s\n",
      "[CV] n_estimators=1500, min_child_weight=3, max_depth=3, learning_rate=0.2, booster=gbtree, base_score=0.75 \n",
      "[CV]  n_estimators=1500, min_child_weight=3, max_depth=3, learning_rate=0.2, booster=gbtree, base_score=0.75, score=(train=-268.719, test=-18060.892), total=   4.6s\n",
      "[CV] n_estimators=900, min_child_weight=2, max_depth=3, learning_rate=0.2, booster=gblinear, base_score=0.25 \n",
      "[CV]  n_estimators=900, min_child_weight=2, max_depth=3, learning_rate=0.2, booster=gblinear, base_score=0.25, score=(train=-17715.824, test=-18428.257), total=   2.1s\n",
      "[CV] n_estimators=900, min_child_weight=2, max_depth=3, learning_rate=0.2, booster=gblinear, base_score=0.25 \n",
      "[CV]  n_estimators=900, min_child_weight=2, max_depth=3, learning_rate=0.2, booster=gblinear, base_score=0.25, score=(train=-16907.581, test=-21982.327), total=   2.2s\n",
      "[CV] n_estimators=900, min_child_weight=2, max_depth=3, learning_rate=0.2, booster=gblinear, base_score=0.25 \n",
      "[CV]  n_estimators=900, min_child_weight=2, max_depth=3, learning_rate=0.2, booster=gblinear, base_score=0.25, score=(train=-16454.159, test=-22285.618), total=   2.2s\n",
      "[CV] n_estimators=900, min_child_weight=2, max_depth=3, learning_rate=0.2, booster=gblinear, base_score=0.25 \n",
      "[CV]  n_estimators=900, min_child_weight=2, max_depth=3, learning_rate=0.2, booster=gblinear, base_score=0.25, score=(train=-17483.104, test=-19236.591), total=   2.1s\n",
      "[CV] n_estimators=900, min_child_weight=2, max_depth=3, learning_rate=0.2, booster=gblinear, base_score=0.25 \n",
      "[CV]  n_estimators=900, min_child_weight=2, max_depth=3, learning_rate=0.2, booster=gblinear, base_score=0.25, score=(train=-15507.547, test=-21630.142), total=   2.1s\n",
      "[CV] n_estimators=100, min_child_weight=1, max_depth=2, learning_rate=0.15, booster=gbtree, base_score=1 \n",
      "[CV]  n_estimators=100, min_child_weight=1, max_depth=2, learning_rate=0.15, booster=gbtree, base_score=1, score=(train=-12605.557, test=-16689.979), total=   0.3s\n",
      "[CV] n_estimators=100, min_child_weight=1, max_depth=2, learning_rate=0.15, booster=gbtree, base_score=1 \n"
     ]
    },
    {
     "name": "stdout",
     "output_type": "stream",
     "text": [
      "[CV]  n_estimators=100, min_child_weight=1, max_depth=2, learning_rate=0.15, booster=gbtree, base_score=1, score=(train=-12770.801, test=-18251.871), total=   0.3s\n",
      "[CV] n_estimators=100, min_child_weight=1, max_depth=2, learning_rate=0.15, booster=gbtree, base_score=1 \n",
      "[CV]  n_estimators=100, min_child_weight=1, max_depth=2, learning_rate=0.15, booster=gbtree, base_score=1, score=(train=-12713.303, test=-16647.786), total=   0.3s\n",
      "[CV] n_estimators=100, min_child_weight=1, max_depth=2, learning_rate=0.15, booster=gbtree, base_score=1 \n",
      "[CV]  n_estimators=100, min_child_weight=1, max_depth=2, learning_rate=0.15, booster=gbtree, base_score=1, score=(train=-13210.742, test=-15551.876), total=   0.3s\n",
      "[CV] n_estimators=100, min_child_weight=1, max_depth=2, learning_rate=0.15, booster=gbtree, base_score=1 \n",
      "[CV]  n_estimators=100, min_child_weight=1, max_depth=2, learning_rate=0.15, booster=gbtree, base_score=1, score=(train=-12593.716, test=-17827.110), total=   0.2s\n",
      "[CV] n_estimators=1500, min_child_weight=4, max_depth=15, learning_rate=0.1, booster=gblinear, base_score=0.25 \n",
      "[CV]  n_estimators=1500, min_child_weight=4, max_depth=15, learning_rate=0.1, booster=gblinear, base_score=0.25, score=(train=-17664.124, test=-18316.173), total=   3.5s\n",
      "[CV] n_estimators=1500, min_child_weight=4, max_depth=15, learning_rate=0.1, booster=gblinear, base_score=0.25 \n",
      "[CV]  n_estimators=1500, min_child_weight=4, max_depth=15, learning_rate=0.1, booster=gblinear, base_score=0.25, score=(train=-16873.249, test=-22021.749), total=   3.6s\n",
      "[CV] n_estimators=1500, min_child_weight=4, max_depth=15, learning_rate=0.1, booster=gblinear, base_score=0.25 \n",
      "[CV]  n_estimators=1500, min_child_weight=4, max_depth=15, learning_rate=0.1, booster=gblinear, base_score=0.25, score=(train=-16412.119, test=-22125.215), total=   3.5s\n",
      "[CV] n_estimators=1500, min_child_weight=4, max_depth=15, learning_rate=0.1, booster=gblinear, base_score=0.25 \n",
      "[CV]  n_estimators=1500, min_child_weight=4, max_depth=15, learning_rate=0.1, booster=gblinear, base_score=0.25, score=(train=-17435.054, test=-19064.651), total=   3.5s\n",
      "[CV] n_estimators=1500, min_child_weight=4, max_depth=15, learning_rate=0.1, booster=gblinear, base_score=0.25 \n",
      "[CV]  n_estimators=1500, min_child_weight=4, max_depth=15, learning_rate=0.1, booster=gblinear, base_score=0.25, score=(train=-15429.464, test=-21546.316), total=   3.6s\n",
      "[CV] n_estimators=900, min_child_weight=3, max_depth=2, learning_rate=0.15, booster=gblinear, base_score=0.5 \n",
      "[CV]  n_estimators=900, min_child_weight=3, max_depth=2, learning_rate=0.15, booster=gblinear, base_score=0.5, score=(train=-17727.827, test=-18342.696), total=   2.2s\n",
      "[CV] n_estimators=900, min_child_weight=3, max_depth=2, learning_rate=0.15, booster=gblinear, base_score=0.5 \n",
      "[CV]  n_estimators=900, min_child_weight=3, max_depth=2, learning_rate=0.15, booster=gblinear, base_score=0.5, score=(train=-16907.030, test=-22080.798), total=   2.1s\n",
      "[CV] n_estimators=900, min_child_weight=3, max_depth=2, learning_rate=0.15, booster=gblinear, base_score=0.5 \n",
      "[CV]  n_estimators=900, min_child_weight=3, max_depth=2, learning_rate=0.15, booster=gblinear, base_score=0.5, score=(train=-16472.222, test=-22210.826), total=   2.1s\n",
      "[CV] n_estimators=900, min_child_weight=3, max_depth=2, learning_rate=0.15, booster=gblinear, base_score=0.5 \n",
      "[CV]  n_estimators=900, min_child_weight=3, max_depth=2, learning_rate=0.15, booster=gblinear, base_score=0.5, score=(train=-17512.083, test=-19069.510), total=   2.1s\n",
      "[CV] n_estimators=900, min_child_weight=3, max_depth=2, learning_rate=0.15, booster=gblinear, base_score=0.5 \n",
      "[CV]  n_estimators=900, min_child_weight=3, max_depth=2, learning_rate=0.15, booster=gblinear, base_score=0.5, score=(train=-15479.865, test=-21529.218), total=   2.1s\n",
      "[CV] n_estimators=100, min_child_weight=3, max_depth=3, learning_rate=0.2, booster=gblinear, base_score=0.5 \n",
      "[CV]  n_estimators=100, min_child_weight=3, max_depth=3, learning_rate=0.2, booster=gblinear, base_score=0.5, score=(train=-18885.317, test=-18726.029), total=   0.3s\n",
      "[CV] n_estimators=100, min_child_weight=3, max_depth=3, learning_rate=0.2, booster=gblinear, base_score=0.5 \n",
      "[CV]  n_estimators=100, min_child_weight=3, max_depth=3, learning_rate=0.2, booster=gblinear, base_score=0.5, score=(train=-18009.791, test=-22891.741), total=   0.3s\n",
      "[CV] n_estimators=100, min_child_weight=3, max_depth=3, learning_rate=0.2, booster=gblinear, base_score=0.5 \n",
      "[CV]  n_estimators=100, min_child_weight=3, max_depth=3, learning_rate=0.2, booster=gblinear, base_score=0.5, score=(train=-17759.441, test=-23743.933), total=   0.3s\n",
      "[CV] n_estimators=100, min_child_weight=3, max_depth=3, learning_rate=0.2, booster=gblinear, base_score=0.5 \n",
      "[CV]  n_estimators=100, min_child_weight=3, max_depth=3, learning_rate=0.2, booster=gblinear, base_score=0.5, score=(train=-18801.507, test=-19379.100), total=   0.3s\n",
      "[CV] n_estimators=100, min_child_weight=3, max_depth=3, learning_rate=0.2, booster=gblinear, base_score=0.5 \n",
      "[CV]  n_estimators=100, min_child_weight=3, max_depth=3, learning_rate=0.2, booster=gblinear, base_score=0.5, score=(train=-16941.464, test=-22446.064), total=   0.2s\n",
      "[CV] n_estimators=1500, min_child_weight=2, max_depth=5, learning_rate=0.1, booster=gbtree, base_score=0.75 \n",
      "[CV]  n_estimators=1500, min_child_weight=2, max_depth=5, learning_rate=0.1, booster=gbtree, base_score=0.75, score=(train=-26.030, test=-15777.830), total=   6.7s\n",
      "[CV] n_estimators=1500, min_child_weight=2, max_depth=5, learning_rate=0.1, booster=gbtree, base_score=0.75 \n",
      "[CV]  n_estimators=1500, min_child_weight=2, max_depth=5, learning_rate=0.1, booster=gbtree, base_score=0.75, score=(train=-22.626, test=-16477.341), total=   6.7s\n",
      "[CV] n_estimators=1500, min_child_weight=2, max_depth=5, learning_rate=0.1, booster=gbtree, base_score=0.75 \n",
      "[CV]  n_estimators=1500, min_child_weight=2, max_depth=5, learning_rate=0.1, booster=gbtree, base_score=0.75, score=(train=-21.801, test=-17244.442), total=   6.7s\n",
      "[CV] n_estimators=1500, min_child_weight=2, max_depth=5, learning_rate=0.1, booster=gbtree, base_score=0.75 \n",
      "[CV]  n_estimators=1500, min_child_weight=2, max_depth=5, learning_rate=0.1, booster=gbtree, base_score=0.75, score=(train=-29.991, test=-14309.874), total=   6.7s\n",
      "[CV] n_estimators=1500, min_child_weight=2, max_depth=5, learning_rate=0.1, booster=gbtree, base_score=0.75 \n",
      "[CV]  n_estimators=1500, min_child_weight=2, max_depth=5, learning_rate=0.1, booster=gbtree, base_score=0.75, score=(train=-20.294, test=-16574.428), total=   6.8s\n",
      "[CV] n_estimators=500, min_child_weight=4, max_depth=15, learning_rate=0.15, booster=gbtree, base_score=0.25 \n",
      "[CV]  n_estimators=500, min_child_weight=4, max_depth=15, learning_rate=0.15, booster=gbtree, base_score=0.25, score=(train=-7.242, test=-16192.717), total=   5.4s\n",
      "[CV] n_estimators=500, min_child_weight=4, max_depth=15, learning_rate=0.15, booster=gbtree, base_score=0.25 \n",
      "[CV]  n_estimators=500, min_child_weight=4, max_depth=15, learning_rate=0.15, booster=gbtree, base_score=0.25, score=(train=-7.212, test=-18323.923), total=   5.6s\n",
      "[CV] n_estimators=500, min_child_weight=4, max_depth=15, learning_rate=0.15, booster=gbtree, base_score=0.25 \n",
      "[CV]  n_estimators=500, min_child_weight=4, max_depth=15, learning_rate=0.15, booster=gbtree, base_score=0.25, score=(train=-1.136, test=-17929.748), total=   5.6s\n",
      "[CV] n_estimators=500, min_child_weight=4, max_depth=15, learning_rate=0.15, booster=gbtree, base_score=0.25 \n",
      "[CV]  n_estimators=500, min_child_weight=4, max_depth=15, learning_rate=0.15, booster=gbtree, base_score=0.25, score=(train=-7.262, test=-14682.898), total=   5.8s\n",
      "[CV] n_estimators=500, min_child_weight=4, max_depth=15, learning_rate=0.15, booster=gbtree, base_score=0.25 \n",
      "[CV]  n_estimators=500, min_child_weight=4, max_depth=15, learning_rate=0.15, booster=gbtree, base_score=0.25, score=(train=-2.921, test=-16883.825), total=   5.7s\n",
      "[CV] n_estimators=500, min_child_weight=4, max_depth=15, learning_rate=0.1, booster=gbtree, base_score=0.25 \n",
      "[CV]  n_estimators=500, min_child_weight=4, max_depth=15, learning_rate=0.1, booster=gbtree, base_score=0.25, score=(train=-9.380, test=-16346.415), total=   5.7s\n",
      "[CV] n_estimators=500, min_child_weight=4, max_depth=15, learning_rate=0.1, booster=gbtree, base_score=0.25 \n"
     ]
    },
    {
     "name": "stdout",
     "output_type": "stream",
     "text": [
      "[CV]  n_estimators=500, min_child_weight=4, max_depth=15, learning_rate=0.1, booster=gbtree, base_score=0.25, score=(train=-9.485, test=-16924.462), total=   5.5s\n",
      "[CV] n_estimators=500, min_child_weight=4, max_depth=15, learning_rate=0.1, booster=gbtree, base_score=0.25 \n",
      "[CV]  n_estimators=500, min_child_weight=4, max_depth=15, learning_rate=0.1, booster=gbtree, base_score=0.25, score=(train=-12.620, test=-17906.232), total=   5.5s\n",
      "[CV] n_estimators=500, min_child_weight=4, max_depth=15, learning_rate=0.1, booster=gbtree, base_score=0.25 \n",
      "[CV]  n_estimators=500, min_child_weight=4, max_depth=15, learning_rate=0.1, booster=gbtree, base_score=0.25, score=(train=-10.208, test=-15001.552), total=   5.7s\n",
      "[CV] n_estimators=500, min_child_weight=4, max_depth=15, learning_rate=0.1, booster=gbtree, base_score=0.25 \n",
      "[CV]  n_estimators=500, min_child_weight=4, max_depth=15, learning_rate=0.1, booster=gbtree, base_score=0.25, score=(train=-17.559, test=-17265.590), total=   5.6s\n",
      "[CV] n_estimators=900, min_child_weight=4, max_depth=3, learning_rate=0.15, booster=gbtree, base_score=0.5 \n",
      "[CV]  n_estimators=900, min_child_weight=4, max_depth=3, learning_rate=0.15, booster=gbtree, base_score=0.5, score=(train=-1681.216, test=-15654.783), total=   3.0s\n",
      "[CV] n_estimators=900, min_child_weight=4, max_depth=3, learning_rate=0.15, booster=gbtree, base_score=0.5 \n",
      "[CV]  n_estimators=900, min_child_weight=4, max_depth=3, learning_rate=0.15, booster=gbtree, base_score=0.5, score=(train=-1533.173, test=-16495.933), total=   2.9s\n",
      "[CV] n_estimators=900, min_child_weight=4, max_depth=3, learning_rate=0.15, booster=gbtree, base_score=0.5 \n",
      "[CV]  n_estimators=900, min_child_weight=4, max_depth=3, learning_rate=0.15, booster=gbtree, base_score=0.5, score=(train=-1589.528, test=-17550.141), total=   3.1s\n",
      "[CV] n_estimators=900, min_child_weight=4, max_depth=3, learning_rate=0.15, booster=gbtree, base_score=0.5 \n",
      "[CV]  n_estimators=900, min_child_weight=4, max_depth=3, learning_rate=0.15, booster=gbtree, base_score=0.5, score=(train=-1752.660, test=-14321.182), total=   2.7s\n",
      "[CV] n_estimators=900, min_child_weight=4, max_depth=3, learning_rate=0.15, booster=gbtree, base_score=0.5 \n",
      "[CV]  n_estimators=900, min_child_weight=4, max_depth=3, learning_rate=0.15, booster=gbtree, base_score=0.5, score=(train=-1697.443, test=-18055.265), total=   2.8s\n",
      "[CV] n_estimators=1100, min_child_weight=3, max_depth=15, learning_rate=0.2, booster=gblinear, base_score=1 \n",
      "[CV]  n_estimators=1100, min_child_weight=3, max_depth=15, learning_rate=0.2, booster=gblinear, base_score=1, score=(train=-17682.141, test=-18436.311), total=   2.6s\n",
      "[CV] n_estimators=1100, min_child_weight=3, max_depth=15, learning_rate=0.2, booster=gblinear, base_score=1 \n",
      "[CV]  n_estimators=1100, min_child_weight=3, max_depth=15, learning_rate=0.2, booster=gblinear, base_score=1, score=(train=-16887.307, test=-21943.110), total=   2.6s\n",
      "[CV] n_estimators=1100, min_child_weight=3, max_depth=15, learning_rate=0.2, booster=gblinear, base_score=1 \n",
      "[CV]  n_estimators=1100, min_child_weight=3, max_depth=15, learning_rate=0.2, booster=gblinear, base_score=1, score=(train=-16411.076, test=-22265.322), total=   2.6s\n",
      "[CV] n_estimators=1100, min_child_weight=3, max_depth=15, learning_rate=0.2, booster=gblinear, base_score=1 \n",
      "[CV]  n_estimators=1100, min_child_weight=3, max_depth=15, learning_rate=0.2, booster=gblinear, base_score=1, score=(train=-17439.814, test=-19306.377), total=   2.6s\n",
      "[CV] n_estimators=1100, min_child_weight=3, max_depth=15, learning_rate=0.2, booster=gblinear, base_score=1 \n",
      "[CV]  n_estimators=1100, min_child_weight=3, max_depth=15, learning_rate=0.2, booster=gblinear, base_score=1, score=(train=-15483.425, test=-21688.955), total=   2.6s\n",
      "[CV] n_estimators=1100, min_child_weight=1, max_depth=15, learning_rate=0.15, booster=gbtree, base_score=0.5 \n",
      "[CV]  n_estimators=1100, min_child_weight=1, max_depth=15, learning_rate=0.15, booster=gbtree, base_score=0.5, score=(train=-7.151, test=-16786.287), total=  13.1s\n",
      "[CV] n_estimators=1100, min_child_weight=1, max_depth=15, learning_rate=0.15, booster=gbtree, base_score=0.5 \n",
      "[CV]  n_estimators=1100, min_child_weight=1, max_depth=15, learning_rate=0.15, booster=gbtree, base_score=0.5, score=(train=-7.151, test=-18837.856), total=  13.0s\n",
      "[CV] n_estimators=1100, min_child_weight=1, max_depth=15, learning_rate=0.15, booster=gbtree, base_score=0.5 \n",
      "[CV]  n_estimators=1100, min_child_weight=1, max_depth=15, learning_rate=0.15, booster=gbtree, base_score=0.5, score=(train=-0.039, test=-18203.670), total=  12.8s\n",
      "[CV] n_estimators=1100, min_child_weight=1, max_depth=15, learning_rate=0.15, booster=gbtree, base_score=0.5 \n",
      "[CV]  n_estimators=1100, min_child_weight=1, max_depth=15, learning_rate=0.15, booster=gbtree, base_score=0.5, score=(train=-7.163, test=-16693.500), total=  12.6s\n",
      "[CV] n_estimators=1100, min_child_weight=1, max_depth=15, learning_rate=0.15, booster=gbtree, base_score=0.5 \n",
      "[CV]  n_estimators=1100, min_child_weight=1, max_depth=15, learning_rate=0.15, booster=gbtree, base_score=0.5, score=(train=-0.044, test=-18064.452), total=  13.0s\n",
      "[CV] n_estimators=100, min_child_weight=2, max_depth=2, learning_rate=0.15, booster=gblinear, base_score=1 \n",
      "[CV]  n_estimators=100, min_child_weight=2, max_depth=2, learning_rate=0.15, booster=gblinear, base_score=1, score=(train=-18975.598, test=-18686.833), total=   0.3s\n",
      "[CV] n_estimators=100, min_child_weight=2, max_depth=2, learning_rate=0.15, booster=gblinear, base_score=1 \n",
      "[CV]  n_estimators=100, min_child_weight=2, max_depth=2, learning_rate=0.15, booster=gblinear, base_score=1, score=(train=-18139.579, test=-22807.060), total=   0.3s\n",
      "[CV] n_estimators=100, min_child_weight=2, max_depth=2, learning_rate=0.15, booster=gblinear, base_score=1 \n",
      "[CV]  n_estimators=100, min_child_weight=2, max_depth=2, learning_rate=0.15, booster=gblinear, base_score=1, score=(train=-17850.497, test=-23858.053), total=   0.3s\n",
      "[CV] n_estimators=100, min_child_weight=2, max_depth=2, learning_rate=0.15, booster=gblinear, base_score=1 \n",
      "[CV]  n_estimators=100, min_child_weight=2, max_depth=2, learning_rate=0.15, booster=gblinear, base_score=1, score=(train=-18761.347, test=-19300.090), total=   0.3s\n",
      "[CV] n_estimators=100, min_child_weight=2, max_depth=2, learning_rate=0.15, booster=gblinear, base_score=1 \n",
      "[CV]  n_estimators=100, min_child_weight=2, max_depth=2, learning_rate=0.15, booster=gblinear, base_score=1, score=(train=-17129.895, test=-22556.215), total=   0.3s\n",
      "[CV] n_estimators=500, min_child_weight=4, max_depth=10, learning_rate=0.1, booster=gblinear, base_score=0.5 \n",
      "[CV]  n_estimators=500, min_child_weight=4, max_depth=10, learning_rate=0.1, booster=gblinear, base_score=0.5, score=(train=-17869.127, test=-18005.716), total=   1.2s\n",
      "[CV] n_estimators=500, min_child_weight=4, max_depth=10, learning_rate=0.1, booster=gblinear, base_score=0.5 \n",
      "[CV]  n_estimators=500, min_child_weight=4, max_depth=10, learning_rate=0.1, booster=gblinear, base_score=0.5, score=(train=-17003.284, test=-22195.993), total=   1.2s\n",
      "[CV] n_estimators=500, min_child_weight=4, max_depth=10, learning_rate=0.1, booster=gblinear, base_score=0.5 \n",
      "[CV]  n_estimators=500, min_child_weight=4, max_depth=10, learning_rate=0.1, booster=gblinear, base_score=0.5, score=(train=-16707.856, test=-22475.435), total=   1.2s\n",
      "[CV] n_estimators=500, min_child_weight=4, max_depth=10, learning_rate=0.1, booster=gblinear, base_score=0.5 \n",
      "[CV]  n_estimators=500, min_child_weight=4, max_depth=10, learning_rate=0.1, booster=gblinear, base_score=0.5, score=(train=-17718.892, test=-18625.065), total=   1.2s\n",
      "[CV] n_estimators=500, min_child_weight=4, max_depth=10, learning_rate=0.1, booster=gblinear, base_score=0.5 \n",
      "[CV]  n_estimators=500, min_child_weight=4, max_depth=10, learning_rate=0.1, booster=gblinear, base_score=0.5, score=(train=-15716.232, test=-21379.253), total=   1.2s\n",
      "[CV] n_estimators=1500, min_child_weight=3, max_depth=3, learning_rate=0.2, booster=gblinear, base_score=1 \n",
      "[CV]  n_estimators=1500, min_child_weight=3, max_depth=3, learning_rate=0.2, booster=gblinear, base_score=1, score=(train=-17615.799, test=-18512.668), total=   3.5s\n",
      "[CV] n_estimators=1500, min_child_weight=3, max_depth=3, learning_rate=0.2, booster=gblinear, base_score=1 \n"
     ]
    },
    {
     "name": "stdout",
     "output_type": "stream",
     "text": [
      "[CV]  n_estimators=1500, min_child_weight=3, max_depth=3, learning_rate=0.2, booster=gblinear, base_score=1, score=(train=-16822.739, test=-21799.733), total=   3.5s\n",
      "[CV] n_estimators=1500, min_child_weight=3, max_depth=3, learning_rate=0.2, booster=gblinear, base_score=1 \n",
      "[CV]  n_estimators=1500, min_child_weight=3, max_depth=3, learning_rate=0.2, booster=gblinear, base_score=1, score=(train=-16327.472, test=-22197.976), total=   3.6s\n",
      "[CV] n_estimators=1500, min_child_weight=3, max_depth=3, learning_rate=0.2, booster=gblinear, base_score=1 \n",
      "[CV]  n_estimators=1500, min_child_weight=3, max_depth=3, learning_rate=0.2, booster=gblinear, base_score=1, score=(train=-17374.275, test=-19435.693), total=   3.5s\n",
      "[CV] n_estimators=1500, min_child_weight=3, max_depth=3, learning_rate=0.2, booster=gblinear, base_score=1 \n",
      "[CV]  n_estimators=1500, min_child_weight=3, max_depth=3, learning_rate=0.2, booster=gblinear, base_score=1, score=(train=-15466.340, test=-21766.805), total=   3.6s\n",
      "[CV] n_estimators=100, min_child_weight=4, max_depth=5, learning_rate=0.05, booster=gbtree, base_score=1 \n",
      "[CV]  n_estimators=100, min_child_weight=4, max_depth=5, learning_rate=0.05, booster=gbtree, base_score=1, score=(train=-8527.803, test=-15919.614), total=   0.5s\n",
      "[CV] n_estimators=100, min_child_weight=4, max_depth=5, learning_rate=0.05, booster=gbtree, base_score=1 \n",
      "[CV]  n_estimators=100, min_child_weight=4, max_depth=5, learning_rate=0.05, booster=gbtree, base_score=1, score=(train=-8512.982, test=-16761.750), total=   0.5s\n",
      "[CV] n_estimators=100, min_child_weight=4, max_depth=5, learning_rate=0.05, booster=gbtree, base_score=1 \n",
      "[CV]  n_estimators=100, min_child_weight=4, max_depth=5, learning_rate=0.05, booster=gbtree, base_score=1, score=(train=-8567.633, test=-16985.520), total=   0.5s\n",
      "[CV] n_estimators=100, min_child_weight=4, max_depth=5, learning_rate=0.05, booster=gbtree, base_score=1 \n",
      "[CV]  n_estimators=100, min_child_weight=4, max_depth=5, learning_rate=0.05, booster=gbtree, base_score=1, score=(train=-8837.777, test=-14244.513), total=   0.5s\n",
      "[CV] n_estimators=100, min_child_weight=4, max_depth=5, learning_rate=0.05, booster=gbtree, base_score=1 \n",
      "[CV]  n_estimators=100, min_child_weight=4, max_depth=5, learning_rate=0.05, booster=gbtree, base_score=1, score=(train=-8808.127, test=-18187.220), total=   0.5s\n",
      "[CV] n_estimators=1100, min_child_weight=2, max_depth=3, learning_rate=0.2, booster=gbtree, base_score=1 \n",
      "[CV]  n_estimators=1100, min_child_weight=2, max_depth=3, learning_rate=0.2, booster=gbtree, base_score=1, score=(train=-659.866, test=-15466.855), total=   3.4s\n",
      "[CV] n_estimators=1100, min_child_weight=2, max_depth=3, learning_rate=0.2, booster=gbtree, base_score=1 \n",
      "[CV]  n_estimators=1100, min_child_weight=2, max_depth=3, learning_rate=0.2, booster=gbtree, base_score=1, score=(train=-543.730, test=-16858.199), total=   3.4s\n",
      "[CV] n_estimators=1100, min_child_weight=2, max_depth=3, learning_rate=0.2, booster=gbtree, base_score=1 \n",
      "[CV]  n_estimators=1100, min_child_weight=2, max_depth=3, learning_rate=0.2, booster=gbtree, base_score=1, score=(train=-550.348, test=-16624.344), total=   3.3s\n",
      "[CV] n_estimators=1100, min_child_weight=2, max_depth=3, learning_rate=0.2, booster=gbtree, base_score=1 \n",
      "[CV]  n_estimators=1100, min_child_weight=2, max_depth=3, learning_rate=0.2, booster=gbtree, base_score=1, score=(train=-608.655, test=-14934.954), total=   3.4s\n",
      "[CV] n_estimators=1100, min_child_weight=2, max_depth=3, learning_rate=0.2, booster=gbtree, base_score=1 \n",
      "[CV]  n_estimators=1100, min_child_weight=2, max_depth=3, learning_rate=0.2, booster=gbtree, base_score=1, score=(train=-595.720, test=-16751.127), total=   3.4s\n",
      "[CV] n_estimators=1500, min_child_weight=1, max_depth=15, learning_rate=0.05, booster=gblinear, base_score=0.5 \n",
      "[CV]  n_estimators=1500, min_child_weight=1, max_depth=15, learning_rate=0.05, booster=gblinear, base_score=0.5, score=(train=-17723.602, test=-18180.185), total=   3.5s\n",
      "[CV] n_estimators=1500, min_child_weight=1, max_depth=15, learning_rate=0.05, booster=gblinear, base_score=0.5 \n",
      "[CV]  n_estimators=1500, min_child_weight=1, max_depth=15, learning_rate=0.05, booster=gblinear, base_score=0.5, score=(train=-16868.249, test=-22127.296), total=   3.5s\n",
      "[CV] n_estimators=1500, min_child_weight=1, max_depth=15, learning_rate=0.05, booster=gblinear, base_score=0.5 \n",
      "[CV]  n_estimators=1500, min_child_weight=1, max_depth=15, learning_rate=0.05, booster=gblinear, base_score=0.5, score=(train=-16484.926, test=-22139.255), total=   3.5s\n",
      "[CV] n_estimators=1500, min_child_weight=1, max_depth=15, learning_rate=0.05, booster=gblinear, base_score=0.5 \n",
      "[CV]  n_estimators=1500, min_child_weight=1, max_depth=15, learning_rate=0.05, booster=gblinear, base_score=0.5, score=(train=-17540.704, test=-18724.089), total=   3.5s\n",
      "[CV] n_estimators=1500, min_child_weight=1, max_depth=15, learning_rate=0.05, booster=gblinear, base_score=0.5 \n",
      "[CV]  n_estimators=1500, min_child_weight=1, max_depth=15, learning_rate=0.05, booster=gblinear, base_score=0.5, score=(train=-15469.084, test=-21294.456), total=   3.5s\n",
      "[CV] n_estimators=500, min_child_weight=4, max_depth=2, learning_rate=0.15, booster=gblinear, base_score=0.25 \n",
      "[CV]  n_estimators=500, min_child_weight=4, max_depth=2, learning_rate=0.15, booster=gblinear, base_score=0.25, score=(train=-17800.189, test=-18166.140), total=   1.2s\n",
      "[CV] n_estimators=500, min_child_weight=4, max_depth=2, learning_rate=0.15, booster=gblinear, base_score=0.25 \n",
      "[CV]  n_estimators=500, min_child_weight=4, max_depth=2, learning_rate=0.15, booster=gblinear, base_score=0.25, score=(train=-16954.934, test=-22308.969), total=   1.2s\n",
      "[CV] n_estimators=500, min_child_weight=4, max_depth=2, learning_rate=0.15, booster=gblinear, base_score=0.25 \n",
      "[CV]  n_estimators=500, min_child_weight=4, max_depth=2, learning_rate=0.15, booster=gblinear, base_score=0.25, score=(train=-16618.614, test=-22410.563), total=   1.2s\n",
      "[CV] n_estimators=500, min_child_weight=4, max_depth=2, learning_rate=0.15, booster=gblinear, base_score=0.25 \n",
      "[CV]  n_estimators=500, min_child_weight=4, max_depth=2, learning_rate=0.15, booster=gblinear, base_score=0.25, score=(train=-17656.130, test=-18745.777), total=   1.2s\n",
      "[CV] n_estimators=500, min_child_weight=4, max_depth=2, learning_rate=0.15, booster=gblinear, base_score=0.25 \n",
      "[CV]  n_estimators=500, min_child_weight=4, max_depth=2, learning_rate=0.15, booster=gblinear, base_score=0.25, score=(train=-15542.314, test=-21332.389), total=   1.2s\n",
      "[CV] n_estimators=100, min_child_weight=1, max_depth=15, learning_rate=0.2, booster=gbtree, base_score=0.75 \n",
      "[CV]  n_estimators=100, min_child_weight=1, max_depth=15, learning_rate=0.2, booster=gbtree, base_score=0.75, score=(train=-9.854, test=-17312.620), total=   1.2s\n",
      "[CV] n_estimators=100, min_child_weight=1, max_depth=15, learning_rate=0.2, booster=gbtree, base_score=0.75 \n",
      "[CV]  n_estimators=100, min_child_weight=1, max_depth=15, learning_rate=0.2, booster=gbtree, base_score=0.75, score=(train=-10.095, test=-18678.581), total=   1.2s\n",
      "[CV] n_estimators=100, min_child_weight=1, max_depth=15, learning_rate=0.2, booster=gbtree, base_score=0.75 \n",
      "[CV]  n_estimators=100, min_child_weight=1, max_depth=15, learning_rate=0.2, booster=gbtree, base_score=0.75, score=(train=-1.839, test=-17969.852), total=   1.2s\n",
      "[CV] n_estimators=100, min_child_weight=1, max_depth=15, learning_rate=0.2, booster=gbtree, base_score=0.75 \n",
      "[CV]  n_estimators=100, min_child_weight=1, max_depth=15, learning_rate=0.2, booster=gbtree, base_score=0.75, score=(train=-9.105, test=-16287.605), total=   1.3s\n",
      "[CV] n_estimators=100, min_child_weight=1, max_depth=15, learning_rate=0.2, booster=gbtree, base_score=0.75 \n",
      "[CV]  n_estimators=100, min_child_weight=1, max_depth=15, learning_rate=0.2, booster=gbtree, base_score=0.75, score=(train=-3.157, test=-19283.800), total=   1.4s\n",
      "[CV] n_estimators=1100, min_child_weight=4, max_depth=10, learning_rate=0.1, booster=gblinear, base_score=0.75 \n",
      "[CV]  n_estimators=1100, min_child_weight=4, max_depth=10, learning_rate=0.1, booster=gblinear, base_score=0.75, score=(train=-17716.389, test=-18261.142), total=   2.6s\n",
      "[CV] n_estimators=1100, min_child_weight=4, max_depth=10, learning_rate=0.1, booster=gblinear, base_score=0.75 \n"
     ]
    },
    {
     "name": "stdout",
     "output_type": "stream",
     "text": [
      "[CV]  n_estimators=1100, min_child_weight=4, max_depth=10, learning_rate=0.1, booster=gblinear, base_score=0.75, score=(train=-16883.460, test=-22122.512), total=   2.6s\n",
      "[CV] n_estimators=1100, min_child_weight=4, max_depth=10, learning_rate=0.1, booster=gblinear, base_score=0.75 \n",
      "[CV]  n_estimators=1100, min_child_weight=4, max_depth=10, learning_rate=0.1, booster=gblinear, base_score=0.75, score=(train=-16465.242, test=-22149.150), total=   2.6s\n",
      "[CV] n_estimators=1100, min_child_weight=4, max_depth=10, learning_rate=0.1, booster=gblinear, base_score=0.75 \n",
      "[CV]  n_estimators=1100, min_child_weight=4, max_depth=10, learning_rate=0.1, booster=gblinear, base_score=0.75, score=(train=-17509.211, test=-18903.133), total=   2.6s\n",
      "[CV] n_estimators=1100, min_child_weight=4, max_depth=10, learning_rate=0.1, booster=gblinear, base_score=0.75 \n",
      "[CV]  n_estimators=1100, min_child_weight=4, max_depth=10, learning_rate=0.1, booster=gblinear, base_score=0.75, score=(train=-15451.686, test=-21422.643), total=   2.6s\n",
      "[CV] n_estimators=100, min_child_weight=1, max_depth=15, learning_rate=0.15, booster=gblinear, base_score=1 \n",
      "[CV]  n_estimators=100, min_child_weight=1, max_depth=15, learning_rate=0.15, booster=gblinear, base_score=1, score=(train=-18847.914, test=-18391.843), total=   0.3s\n",
      "[CV] n_estimators=100, min_child_weight=1, max_depth=15, learning_rate=0.15, booster=gblinear, base_score=1 \n",
      "[CV]  n_estimators=100, min_child_weight=1, max_depth=15, learning_rate=0.15, booster=gblinear, base_score=1, score=(train=-18171.913, test=-22799.716), total=   0.3s\n",
      "[CV] n_estimators=100, min_child_weight=1, max_depth=15, learning_rate=0.15, booster=gblinear, base_score=1 \n",
      "[CV]  n_estimators=100, min_child_weight=1, max_depth=15, learning_rate=0.15, booster=gblinear, base_score=1, score=(train=-17907.282, test=-23891.033), total=   0.2s\n",
      "[CV] n_estimators=100, min_child_weight=1, max_depth=15, learning_rate=0.15, booster=gblinear, base_score=1 \n",
      "[CV]  n_estimators=100, min_child_weight=1, max_depth=15, learning_rate=0.15, booster=gblinear, base_score=1, score=(train=-18828.146, test=-19474.404), total=   0.3s\n",
      "[CV] n_estimators=100, min_child_weight=1, max_depth=15, learning_rate=0.15, booster=gblinear, base_score=1 \n",
      "[CV]  n_estimators=100, min_child_weight=1, max_depth=15, learning_rate=0.15, booster=gblinear, base_score=1, score=(train=-17091.340, test=-22458.760), total=   0.3s\n",
      "[CV] n_estimators=900, min_child_weight=2, max_depth=10, learning_rate=0.2, booster=gblinear, base_score=0.75 \n",
      "[CV]  n_estimators=900, min_child_weight=2, max_depth=10, learning_rate=0.2, booster=gblinear, base_score=0.75, score=(train=-17714.727, test=-18428.256), total=   2.1s\n",
      "[CV] n_estimators=900, min_child_weight=2, max_depth=10, learning_rate=0.2, booster=gblinear, base_score=0.75 \n",
      "[CV]  n_estimators=900, min_child_weight=2, max_depth=10, learning_rate=0.2, booster=gblinear, base_score=0.75, score=(train=-16910.205, test=-22029.214), total=   2.1s\n",
      "[CV] n_estimators=900, min_child_weight=2, max_depth=10, learning_rate=0.2, booster=gblinear, base_score=0.75 \n",
      "[CV]  n_estimators=900, min_child_weight=2, max_depth=10, learning_rate=0.2, booster=gblinear, base_score=0.75, score=(train=-16457.823, test=-22288.633), total=   2.1s\n",
      "[CV] n_estimators=900, min_child_weight=2, max_depth=10, learning_rate=0.2, booster=gblinear, base_score=0.75 \n",
      "[CV]  n_estimators=900, min_child_weight=2, max_depth=10, learning_rate=0.2, booster=gblinear, base_score=0.75, score=(train=-17472.652, test=-19234.556), total=   2.1s\n",
      "[CV] n_estimators=900, min_child_weight=2, max_depth=10, learning_rate=0.2, booster=gblinear, base_score=0.75 \n",
      "[CV]  n_estimators=900, min_child_weight=2, max_depth=10, learning_rate=0.2, booster=gblinear, base_score=0.75, score=(train=-15502.060, test=-21626.924), total=   2.1s\n",
      "[CV] n_estimators=500, min_child_weight=2, max_depth=2, learning_rate=0.2, booster=gblinear, base_score=0.75 \n",
      "[CV]  n_estimators=500, min_child_weight=2, max_depth=2, learning_rate=0.2, booster=gblinear, base_score=0.75, score=(train=-17811.501, test=-18239.730), total=   1.2s\n",
      "[CV] n_estimators=500, min_child_weight=2, max_depth=2, learning_rate=0.2, booster=gblinear, base_score=0.75 \n",
      "[CV]  n_estimators=500, min_child_weight=2, max_depth=2, learning_rate=0.2, booster=gblinear, base_score=0.75, score=(train=-16974.676, test=-22263.475), total=   1.2s\n",
      "[CV] n_estimators=500, min_child_weight=2, max_depth=2, learning_rate=0.2, booster=gblinear, base_score=0.75 \n",
      "[CV]  n_estimators=500, min_child_weight=2, max_depth=2, learning_rate=0.2, booster=gblinear, base_score=0.75, score=(train=-16589.476, test=-22404.475), total=   1.2s\n",
      "[CV] n_estimators=500, min_child_weight=2, max_depth=2, learning_rate=0.2, booster=gblinear, base_score=0.75 \n",
      "[CV]  n_estimators=500, min_child_weight=2, max_depth=2, learning_rate=0.2, booster=gblinear, base_score=0.75, score=(train=-17622.574, test=-18927.807), total=   1.2s\n",
      "[CV] n_estimators=500, min_child_weight=2, max_depth=2, learning_rate=0.2, booster=gblinear, base_score=0.75 \n",
      "[CV]  n_estimators=500, min_child_weight=2, max_depth=2, learning_rate=0.2, booster=gblinear, base_score=0.75, score=(train=-15581.798, test=-21477.973), total=   1.2s\n",
      "[CV] n_estimators=900, min_child_weight=4, max_depth=2, learning_rate=0.1, booster=gbtree, base_score=0.25 \n",
      "[CV]  n_estimators=900, min_child_weight=4, max_depth=2, learning_rate=0.1, booster=gbtree, base_score=0.25, score=(train=-6800.378, test=-14944.368), total=   2.2s\n",
      "[CV] n_estimators=900, min_child_weight=4, max_depth=2, learning_rate=0.1, booster=gbtree, base_score=0.25 \n",
      "[CV]  n_estimators=900, min_child_weight=4, max_depth=2, learning_rate=0.1, booster=gbtree, base_score=0.25, score=(train=-6835.059, test=-16572.842), total=   2.3s\n",
      "[CV] n_estimators=900, min_child_weight=4, max_depth=2, learning_rate=0.1, booster=gbtree, base_score=0.25 \n",
      "[CV]  n_estimators=900, min_child_weight=4, max_depth=2, learning_rate=0.1, booster=gbtree, base_score=0.25, score=(train=-6732.876, test=-16116.855), total=   2.2s\n",
      "[CV] n_estimators=900, min_child_weight=4, max_depth=2, learning_rate=0.1, booster=gbtree, base_score=0.25 \n",
      "[CV]  n_estimators=900, min_child_weight=4, max_depth=2, learning_rate=0.1, booster=gbtree, base_score=0.25, score=(train=-6959.261, test=-13339.176), total=   2.3s\n",
      "[CV] n_estimators=900, min_child_weight=4, max_depth=2, learning_rate=0.1, booster=gbtree, base_score=0.25 \n",
      "[CV]  n_estimators=900, min_child_weight=4, max_depth=2, learning_rate=0.1, booster=gbtree, base_score=0.25, score=(train=-6704.156, test=-18084.391), total=   2.2s\n",
      "[CV] n_estimators=500, min_child_weight=2, max_depth=2, learning_rate=0.2, booster=gbtree, base_score=0.5 \n",
      "[CV]  n_estimators=500, min_child_weight=2, max_depth=2, learning_rate=0.2, booster=gbtree, base_score=0.5, score=(train=-6391.924, test=-14732.669), total=   1.2s\n",
      "[CV] n_estimators=500, min_child_weight=2, max_depth=2, learning_rate=0.2, booster=gbtree, base_score=0.5 \n",
      "[CV]  n_estimators=500, min_child_weight=2, max_depth=2, learning_rate=0.2, booster=gbtree, base_score=0.5, score=(train=-6446.091, test=-17444.947), total=   1.2s\n",
      "[CV] n_estimators=500, min_child_weight=2, max_depth=2, learning_rate=0.2, booster=gbtree, base_score=0.5 \n",
      "[CV]  n_estimators=500, min_child_weight=2, max_depth=2, learning_rate=0.2, booster=gbtree, base_score=0.5, score=(train=-6146.003, test=-15765.498), total=   1.2s\n",
      "[CV] n_estimators=500, min_child_weight=2, max_depth=2, learning_rate=0.2, booster=gbtree, base_score=0.5 \n",
      "[CV]  n_estimators=500, min_child_weight=2, max_depth=2, learning_rate=0.2, booster=gbtree, base_score=0.5, score=(train=-6540.725, test=-14429.427), total=   1.2s\n",
      "[CV] n_estimators=500, min_child_weight=2, max_depth=2, learning_rate=0.2, booster=gbtree, base_score=0.5 \n",
      "[CV]  n_estimators=500, min_child_weight=2, max_depth=2, learning_rate=0.2, booster=gbtree, base_score=0.5, score=(train=-5968.097, test=-18549.316), total=   1.2s\n",
      "[CV] n_estimators=900, min_child_weight=2, max_depth=3, learning_rate=0.05, booster=gbtree, base_score=1 \n",
      "[CV]  n_estimators=900, min_child_weight=2, max_depth=3, learning_rate=0.05, booster=gbtree, base_score=1, score=(train=-5540.343, test=-15285.337), total=   2.7s\n",
      "[CV] n_estimators=900, min_child_weight=2, max_depth=3, learning_rate=0.05, booster=gbtree, base_score=1 \n"
     ]
    },
    {
     "name": "stdout",
     "output_type": "stream",
     "text": [
      "[CV]  n_estimators=900, min_child_weight=2, max_depth=3, learning_rate=0.05, booster=gbtree, base_score=1, score=(train=-5566.993, test=-15847.346), total=   2.8s\n",
      "[CV] n_estimators=900, min_child_weight=2, max_depth=3, learning_rate=0.05, booster=gbtree, base_score=1 \n",
      "[CV]  n_estimators=900, min_child_weight=2, max_depth=3, learning_rate=0.05, booster=gbtree, base_score=1, score=(train=-5165.978, test=-15972.395), total=   2.8s\n",
      "[CV] n_estimators=900, min_child_weight=2, max_depth=3, learning_rate=0.05, booster=gbtree, base_score=1 \n",
      "[CV]  n_estimators=900, min_child_weight=2, max_depth=3, learning_rate=0.05, booster=gbtree, base_score=1, score=(train=-5616.622, test=-14078.386), total=   2.8s\n",
      "[CV] n_estimators=900, min_child_weight=2, max_depth=3, learning_rate=0.05, booster=gbtree, base_score=1 \n",
      "[CV]  n_estimators=900, min_child_weight=2, max_depth=3, learning_rate=0.05, booster=gbtree, base_score=1, score=(train=-5414.421, test=-16478.339), total=   2.7s\n",
      "[CV] n_estimators=1100, min_child_weight=1, max_depth=2, learning_rate=0.05, booster=gbtree, base_score=0.75 \n",
      "[CV]  n_estimators=1100, min_child_weight=1, max_depth=2, learning_rate=0.05, booster=gbtree, base_score=0.75, score=(train=-8563.269, test=-14847.674), total=   2.7s\n",
      "[CV] n_estimators=1100, min_child_weight=1, max_depth=2, learning_rate=0.05, booster=gbtree, base_score=0.75 \n",
      "[CV]  n_estimators=1100, min_child_weight=1, max_depth=2, learning_rate=0.05, booster=gbtree, base_score=0.75, score=(train=-8727.844, test=-16908.349), total=   2.6s\n",
      "[CV] n_estimators=1100, min_child_weight=1, max_depth=2, learning_rate=0.05, booster=gbtree, base_score=0.75 \n",
      "[CV]  n_estimators=1100, min_child_weight=1, max_depth=2, learning_rate=0.05, booster=gbtree, base_score=0.75, score=(train=-8524.116, test=-15511.724), total=   2.7s\n",
      "[CV] n_estimators=1100, min_child_weight=1, max_depth=2, learning_rate=0.05, booster=gbtree, base_score=0.75 \n",
      "[CV]  n_estimators=1100, min_child_weight=1, max_depth=2, learning_rate=0.05, booster=gbtree, base_score=0.75, score=(train=-9140.090, test=-14293.190), total=   2.6s\n",
      "[CV] n_estimators=1100, min_child_weight=1, max_depth=2, learning_rate=0.05, booster=gbtree, base_score=0.75 \n",
      "[CV]  n_estimators=1100, min_child_weight=1, max_depth=2, learning_rate=0.05, booster=gbtree, base_score=0.75, score=(train=-8380.822, test=-16307.081), total=   2.6s\n",
      "[CV] n_estimators=100, min_child_weight=3, max_depth=2, learning_rate=0.1, booster=gblinear, base_score=0.5 \n",
      "[CV]  n_estimators=100, min_child_weight=3, max_depth=2, learning_rate=0.1, booster=gblinear, base_score=0.5, score=(train=-19187.651, test=-18905.272), total=   0.3s\n",
      "[CV] n_estimators=100, min_child_weight=3, max_depth=2, learning_rate=0.1, booster=gblinear, base_score=0.5 \n",
      "[CV]  n_estimators=100, min_child_weight=3, max_depth=2, learning_rate=0.1, booster=gblinear, base_score=0.5, score=(train=-18342.967, test=-22803.256), total=   0.3s\n",
      "[CV] n_estimators=100, min_child_weight=3, max_depth=2, learning_rate=0.1, booster=gblinear, base_score=0.5 \n",
      "[CV]  n_estimators=100, min_child_weight=3, max_depth=2, learning_rate=0.1, booster=gblinear, base_score=0.5, score=(train=-18029.185, test=-23886.489), total=   0.3s\n",
      "[CV] n_estimators=100, min_child_weight=3, max_depth=2, learning_rate=0.1, booster=gblinear, base_score=0.5 \n",
      "[CV]  n_estimators=100, min_child_weight=3, max_depth=2, learning_rate=0.1, booster=gblinear, base_score=0.5, score=(train=-18824.246, test=-19350.617), total=   0.2s\n",
      "[CV] n_estimators=100, min_child_weight=3, max_depth=2, learning_rate=0.1, booster=gblinear, base_score=0.5 \n",
      "[CV]  n_estimators=100, min_child_weight=3, max_depth=2, learning_rate=0.1, booster=gblinear, base_score=0.5, score=(train=-17411.995, test=-22500.595), total=   0.3s\n",
      "[CV] n_estimators=100, min_child_weight=4, max_depth=3, learning_rate=0.15, booster=gblinear, base_score=0.25 \n",
      "[CV]  n_estimators=100, min_child_weight=4, max_depth=3, learning_rate=0.15, booster=gblinear, base_score=0.25, score=(train=-19006.513, test=-18746.507), total=   0.3s\n",
      "[CV] n_estimators=100, min_child_weight=4, max_depth=3, learning_rate=0.15, booster=gblinear, base_score=0.25 \n",
      "[CV]  n_estimators=100, min_child_weight=4, max_depth=3, learning_rate=0.15, booster=gblinear, base_score=0.25, score=(train=-18111.112, test=-22756.782), total=   0.3s\n",
      "[CV] n_estimators=100, min_child_weight=4, max_depth=3, learning_rate=0.15, booster=gblinear, base_score=0.25 \n",
      "[CV]  n_estimators=100, min_child_weight=4, max_depth=3, learning_rate=0.15, booster=gblinear, base_score=0.25, score=(train=-17789.332, test=-23658.935), total=   0.3s\n",
      "[CV] n_estimators=100, min_child_weight=4, max_depth=3, learning_rate=0.15, booster=gblinear, base_score=0.25 \n",
      "[CV]  n_estimators=100, min_child_weight=4, max_depth=3, learning_rate=0.15, booster=gblinear, base_score=0.25, score=(train=-18855.977, test=-19483.093), total=   0.3s\n",
      "[CV] n_estimators=100, min_child_weight=4, max_depth=3, learning_rate=0.15, booster=gblinear, base_score=0.25 \n",
      "[CV]  n_estimators=100, min_child_weight=4, max_depth=3, learning_rate=0.15, booster=gblinear, base_score=0.25, score=(train=-17088.092, test=-22483.990), total=   0.2s\n",
      "[CV] n_estimators=100, min_child_weight=3, max_depth=2, learning_rate=0.05, booster=gbtree, base_score=0.25 \n",
      "[CV]  n_estimators=100, min_child_weight=3, max_depth=2, learning_rate=0.05, booster=gbtree, base_score=0.25, score=(train=-16720.199, test=-18153.864), total=   0.3s\n",
      "[CV] n_estimators=100, min_child_weight=3, max_depth=2, learning_rate=0.05, booster=gbtree, base_score=0.25 \n",
      "[CV]  n_estimators=100, min_child_weight=3, max_depth=2, learning_rate=0.05, booster=gbtree, base_score=0.25, score=(train=-16266.981, test=-19444.359), total=   0.3s\n",
      "[CV] n_estimators=100, min_child_weight=3, max_depth=2, learning_rate=0.05, booster=gbtree, base_score=0.25 \n",
      "[CV]  n_estimators=100, min_child_weight=3, max_depth=2, learning_rate=0.05, booster=gbtree, base_score=0.25, score=(train=-16720.259, test=-19321.420), total=   0.3s\n",
      "[CV] n_estimators=100, min_child_weight=3, max_depth=2, learning_rate=0.05, booster=gbtree, base_score=0.25 \n",
      "[CV]  n_estimators=100, min_child_weight=3, max_depth=2, learning_rate=0.05, booster=gbtree, base_score=0.25, score=(train=-17035.027, test=-18121.546), total=   0.3s\n",
      "[CV] n_estimators=100, min_child_weight=3, max_depth=2, learning_rate=0.05, booster=gbtree, base_score=0.25 \n",
      "[CV]  n_estimators=100, min_child_weight=3, max_depth=2, learning_rate=0.05, booster=gbtree, base_score=0.25, score=(train=-16131.208, test=-20778.057), total=   0.3s\n",
      "[CV] n_estimators=900, min_child_weight=1, max_depth=3, learning_rate=0.2, booster=gblinear, base_score=1 \n",
      "[CV]  n_estimators=900, min_child_weight=1, max_depth=3, learning_rate=0.2, booster=gblinear, base_score=1, score=(train=-17711.465, test=-18414.763), total=   2.1s\n",
      "[CV] n_estimators=900, min_child_weight=1, max_depth=3, learning_rate=0.2, booster=gblinear, base_score=1 \n",
      "[CV]  n_estimators=900, min_child_weight=1, max_depth=3, learning_rate=0.2, booster=gblinear, base_score=1, score=(train=-16910.178, test=-21988.576), total=   2.1s\n",
      "[CV] n_estimators=900, min_child_weight=1, max_depth=3, learning_rate=0.2, booster=gblinear, base_score=1 \n",
      "[CV]  n_estimators=900, min_child_weight=1, max_depth=3, learning_rate=0.2, booster=gblinear, base_score=1, score=(train=-16453.886, test=-22267.966), total=   2.1s\n",
      "[CV] n_estimators=900, min_child_weight=1, max_depth=3, learning_rate=0.2, booster=gblinear, base_score=1 \n",
      "[CV]  n_estimators=900, min_child_weight=1, max_depth=3, learning_rate=0.2, booster=gblinear, base_score=1, score=(train=-17481.569, test=-19238.316), total=   2.2s\n",
      "[CV] n_estimators=900, min_child_weight=1, max_depth=3, learning_rate=0.2, booster=gblinear, base_score=1 \n",
      "[CV]  n_estimators=900, min_child_weight=1, max_depth=3, learning_rate=0.2, booster=gblinear, base_score=1, score=(train=-15503.714, test=-21638.531), total=   2.1s\n",
      "[CV] n_estimators=500, min_child_weight=1, max_depth=15, learning_rate=0.1, booster=gbtree, base_score=1 \n",
      "[CV]  n_estimators=500, min_child_weight=1, max_depth=15, learning_rate=0.1, booster=gbtree, base_score=1, score=(train=-7.178, test=-16696.210), total=   5.9s\n",
      "[CV] n_estimators=500, min_child_weight=1, max_depth=15, learning_rate=0.1, booster=gbtree, base_score=1 \n"
     ]
    },
    {
     "name": "stdout",
     "output_type": "stream",
     "text": [
      "[CV]  n_estimators=500, min_child_weight=1, max_depth=15, learning_rate=0.1, booster=gbtree, base_score=1, score=(train=-7.168, test=-16694.511), total=   5.9s\n",
      "[CV] n_estimators=500, min_child_weight=1, max_depth=15, learning_rate=0.1, booster=gbtree, base_score=1 \n",
      "[CV]  n_estimators=500, min_child_weight=1, max_depth=15, learning_rate=0.1, booster=gbtree, base_score=1, score=(train=-0.076, test=-17935.265), total=   5.8s\n",
      "[CV] n_estimators=500, min_child_weight=1, max_depth=15, learning_rate=0.1, booster=gbtree, base_score=1 \n",
      "[CV]  n_estimators=500, min_child_weight=1, max_depth=15, learning_rate=0.1, booster=gbtree, base_score=1, score=(train=-7.177, test=-15897.195), total=   6.0s\n",
      "[CV] n_estimators=500, min_child_weight=1, max_depth=15, learning_rate=0.1, booster=gbtree, base_score=1 \n",
      "[CV]  n_estimators=500, min_child_weight=1, max_depth=15, learning_rate=0.1, booster=gbtree, base_score=1, score=(train=-0.070, test=-18560.139), total=   5.9s\n",
      "[CV] n_estimators=500, min_child_weight=3, max_depth=15, learning_rate=0.2, booster=gbtree, base_score=0.75 \n",
      "[CV]  n_estimators=500, min_child_weight=3, max_depth=15, learning_rate=0.2, booster=gbtree, base_score=0.75, score=(train=-7.134, test=-16418.301), total=   5.7s\n",
      "[CV] n_estimators=500, min_child_weight=3, max_depth=15, learning_rate=0.2, booster=gbtree, base_score=0.75 \n",
      "[CV]  n_estimators=500, min_child_weight=3, max_depth=15, learning_rate=0.2, booster=gbtree, base_score=0.75, score=(train=-7.124, test=-17023.675), total=   5.7s\n",
      "[CV] n_estimators=500, min_child_weight=3, max_depth=15, learning_rate=0.2, booster=gbtree, base_score=0.75 \n",
      "[CV]  n_estimators=500, min_child_weight=3, max_depth=15, learning_rate=0.2, booster=gbtree, base_score=0.75, score=(train=-0.025, test=-17931.827), total=   5.5s\n",
      "[CV] n_estimators=500, min_child_weight=3, max_depth=15, learning_rate=0.2, booster=gbtree, base_score=0.75 \n",
      "[CV]  n_estimators=500, min_child_weight=3, max_depth=15, learning_rate=0.2, booster=gbtree, base_score=0.75, score=(train=-7.165, test=-15936.416), total=   5.6s\n",
      "[CV] n_estimators=500, min_child_weight=3, max_depth=15, learning_rate=0.2, booster=gbtree, base_score=0.75 \n",
      "[CV]  n_estimators=500, min_child_weight=3, max_depth=15, learning_rate=0.2, booster=gbtree, base_score=0.75, score=(train=-0.022, test=-18089.170), total=   5.7s\n",
      "[CV] n_estimators=1100, min_child_weight=4, max_depth=10, learning_rate=0.15, booster=gbtree, base_score=0.5 \n",
      "[CV]  n_estimators=1100, min_child_weight=4, max_depth=10, learning_rate=0.15, booster=gbtree, base_score=0.5, score=(train=-7.143, test=-16662.087), total=   8.7s\n",
      "[CV] n_estimators=1100, min_child_weight=4, max_depth=10, learning_rate=0.15, booster=gbtree, base_score=0.5 \n",
      "[CV]  n_estimators=1100, min_child_weight=4, max_depth=10, learning_rate=0.15, booster=gbtree, base_score=0.5, score=(train=-7.148, test=-18084.201), total=   8.8s\n",
      "[CV] n_estimators=1100, min_child_weight=4, max_depth=10, learning_rate=0.15, booster=gbtree, base_score=0.5 \n",
      "[CV]  n_estimators=1100, min_child_weight=4, max_depth=10, learning_rate=0.15, booster=gbtree, base_score=0.5, score=(train=-0.036, test=-17803.474), total=   9.7s\n",
      "[CV] n_estimators=1100, min_child_weight=4, max_depth=10, learning_rate=0.15, booster=gbtree, base_score=0.5 \n",
      "[CV]  n_estimators=1100, min_child_weight=4, max_depth=10, learning_rate=0.15, booster=gbtree, base_score=0.5, score=(train=-7.140, test=-14579.273), total=  10.0s\n",
      "[CV] n_estimators=1100, min_child_weight=4, max_depth=10, learning_rate=0.15, booster=gbtree, base_score=0.5 \n",
      "[CV]  n_estimators=1100, min_child_weight=4, max_depth=10, learning_rate=0.15, booster=gbtree, base_score=0.5, score=(train=-0.048, test=-17274.656), total=  10.3s\n",
      "[CV] n_estimators=500, min_child_weight=1, max_depth=5, learning_rate=0.05, booster=gblinear, base_score=0.75 \n",
      "[CV]  n_estimators=500, min_child_weight=1, max_depth=5, learning_rate=0.05, booster=gblinear, base_score=0.75, score=(train=-18153.651, test=-18191.312), total=   1.2s\n",
      "[CV] n_estimators=500, min_child_weight=1, max_depth=5, learning_rate=0.05, booster=gblinear, base_score=0.75 \n",
      "[CV]  n_estimators=500, min_child_weight=1, max_depth=5, learning_rate=0.05, booster=gblinear, base_score=0.75, score=(train=-17322.782, test=-22211.742), total=   1.3s\n",
      "[CV] n_estimators=500, min_child_weight=1, max_depth=5, learning_rate=0.05, booster=gblinear, base_score=0.75 \n",
      "[CV]  n_estimators=500, min_child_weight=1, max_depth=5, learning_rate=0.05, booster=gblinear, base_score=0.75, score=(train=-16969.679, test=-22785.994), total=   1.3s\n",
      "[CV] n_estimators=500, min_child_weight=1, max_depth=5, learning_rate=0.05, booster=gblinear, base_score=0.75 \n",
      "[CV]  n_estimators=500, min_child_weight=1, max_depth=5, learning_rate=0.05, booster=gblinear, base_score=0.75, score=(train=-18011.017, test=-18632.342), total=   1.3s\n",
      "[CV] n_estimators=500, min_child_weight=1, max_depth=5, learning_rate=0.05, booster=gblinear, base_score=0.75 \n",
      "[CV]  n_estimators=500, min_child_weight=1, max_depth=5, learning_rate=0.05, booster=gblinear, base_score=0.75, score=(train=-16155.682, test=-21660.647), total=   1.2s\n",
      "[CV] n_estimators=900, min_child_weight=3, max_depth=15, learning_rate=0.1, booster=gbtree, base_score=0.25 \n",
      "[CV]  n_estimators=900, min_child_weight=3, max_depth=15, learning_rate=0.1, booster=gbtree, base_score=0.25, score=(train=-7.159, test=-16282.728), total=  10.3s\n",
      "[CV] n_estimators=900, min_child_weight=3, max_depth=15, learning_rate=0.1, booster=gbtree, base_score=0.25 \n",
      "[CV]  n_estimators=900, min_child_weight=3, max_depth=15, learning_rate=0.1, booster=gbtree, base_score=0.25, score=(train=-7.142, test=-17179.013), total=  10.2s\n",
      "[CV] n_estimators=900, min_child_weight=3, max_depth=15, learning_rate=0.1, booster=gbtree, base_score=0.25 \n",
      "[CV]  n_estimators=900, min_child_weight=3, max_depth=15, learning_rate=0.1, booster=gbtree, base_score=0.25, score=(train=-0.072, test=-17682.489), total=  10.3s\n",
      "[CV] n_estimators=900, min_child_weight=3, max_depth=15, learning_rate=0.1, booster=gbtree, base_score=0.25 \n",
      "[CV]  n_estimators=900, min_child_weight=3, max_depth=15, learning_rate=0.1, booster=gbtree, base_score=0.25, score=(train=-7.567, test=-15091.047), total=  10.1s\n",
      "[CV] n_estimators=900, min_child_weight=3, max_depth=15, learning_rate=0.1, booster=gbtree, base_score=0.25 \n",
      "[CV]  n_estimators=900, min_child_weight=3, max_depth=15, learning_rate=0.1, booster=gbtree, base_score=0.25, score=(train=-0.047, test=-17061.078), total=  10.0s\n",
      "[CV] n_estimators=900, min_child_weight=4, max_depth=2, learning_rate=0.05, booster=gblinear, base_score=0.75 \n",
      "[CV]  n_estimators=900, min_child_weight=4, max_depth=2, learning_rate=0.05, booster=gblinear, base_score=0.75, score=(train=-17864.702, test=-18059.347), total=   2.1s\n",
      "[CV] n_estimators=900, min_child_weight=4, max_depth=2, learning_rate=0.05, booster=gblinear, base_score=0.75 \n",
      "[CV]  n_estimators=900, min_child_weight=4, max_depth=2, learning_rate=0.05, booster=gblinear, base_score=0.75, score=(train=-16998.632, test=-22115.447), total=   2.1s\n",
      "[CV] n_estimators=900, min_child_weight=4, max_depth=2, learning_rate=0.05, booster=gblinear, base_score=0.75 \n",
      "[CV]  n_estimators=900, min_child_weight=4, max_depth=2, learning_rate=0.05, booster=gblinear, base_score=0.75, score=(train=-16689.509, test=-22418.332), total=   2.1s\n",
      "[CV] n_estimators=900, min_child_weight=4, max_depth=2, learning_rate=0.05, booster=gblinear, base_score=0.75 \n",
      "[CV]  n_estimators=900, min_child_weight=4, max_depth=2, learning_rate=0.05, booster=gblinear, base_score=0.75, score=(train=-17726.911, test=-18600.751), total=   2.1s\n",
      "[CV] n_estimators=900, min_child_weight=4, max_depth=2, learning_rate=0.05, booster=gblinear, base_score=0.75 \n",
      "[CV]  n_estimators=900, min_child_weight=4, max_depth=2, learning_rate=0.05, booster=gblinear, base_score=0.75, score=(train=-15730.279, test=-21385.397), total=   2.1s\n",
      "[CV] n_estimators=1500, min_child_weight=1, max_depth=3, learning_rate=0.2, booster=gbtree, base_score=1 \n",
      "[CV]  n_estimators=1500, min_child_weight=1, max_depth=3, learning_rate=0.2, booster=gbtree, base_score=1, score=(train=-281.953, test=-15808.789), total=   4.6s\n",
      "[CV] n_estimators=1500, min_child_weight=1, max_depth=3, learning_rate=0.2, booster=gbtree, base_score=1 \n"
     ]
    },
    {
     "name": "stdout",
     "output_type": "stream",
     "text": [
      "[CV]  n_estimators=1500, min_child_weight=1, max_depth=3, learning_rate=0.2, booster=gbtree, base_score=1, score=(train=-253.266, test=-16306.227), total=   4.5s\n",
      "[CV] n_estimators=1500, min_child_weight=1, max_depth=3, learning_rate=0.2, booster=gbtree, base_score=1 \n",
      "[CV]  n_estimators=1500, min_child_weight=1, max_depth=3, learning_rate=0.2, booster=gbtree, base_score=1, score=(train=-275.677, test=-16664.821), total=   4.5s\n",
      "[CV] n_estimators=1500, min_child_weight=1, max_depth=3, learning_rate=0.2, booster=gbtree, base_score=1 \n",
      "[CV]  n_estimators=1500, min_child_weight=1, max_depth=3, learning_rate=0.2, booster=gbtree, base_score=1, score=(train=-285.475, test=-15093.637), total=   4.5s\n",
      "[CV] n_estimators=1500, min_child_weight=1, max_depth=3, learning_rate=0.2, booster=gbtree, base_score=1 \n",
      "[CV]  n_estimators=1500, min_child_weight=1, max_depth=3, learning_rate=0.2, booster=gbtree, base_score=1, score=(train=-276.437, test=-16858.907), total=   4.6s\n",
      "[CV] n_estimators=100, min_child_weight=3, max_depth=10, learning_rate=0.2, booster=gbtree, base_score=1 \n",
      "[CV]  n_estimators=100, min_child_weight=3, max_depth=10, learning_rate=0.2, booster=gbtree, base_score=1, score=(train=-231.748, test=-15566.263), total=   0.8s\n",
      "[CV] n_estimators=100, min_child_weight=3, max_depth=10, learning_rate=0.2, booster=gbtree, base_score=1 \n",
      "[CV]  n_estimators=100, min_child_weight=3, max_depth=10, learning_rate=0.2, booster=gbtree, base_score=1, score=(train=-382.703, test=-16630.503), total=   0.8s\n",
      "[CV] n_estimators=100, min_child_weight=3, max_depth=10, learning_rate=0.2, booster=gbtree, base_score=1 \n",
      "[CV]  n_estimators=100, min_child_weight=3, max_depth=10, learning_rate=0.2, booster=gbtree, base_score=1, score=(train=-706.019, test=-18203.146), total=   0.8s\n",
      "[CV] n_estimators=100, min_child_weight=3, max_depth=10, learning_rate=0.2, booster=gbtree, base_score=1 \n",
      "[CV]  n_estimators=100, min_child_weight=3, max_depth=10, learning_rate=0.2, booster=gbtree, base_score=1, score=(train=-296.329, test=-15162.999), total=   0.9s\n",
      "[CV] n_estimators=100, min_child_weight=3, max_depth=10, learning_rate=0.2, booster=gbtree, base_score=1 \n",
      "[CV]  n_estimators=100, min_child_weight=3, max_depth=10, learning_rate=0.2, booster=gbtree, base_score=1, score=(train=-680.785, test=-17533.129), total=   1.0s\n",
      "[CV] n_estimators=500, min_child_weight=2, max_depth=2, learning_rate=0.2, booster=gbtree, base_score=0.25 \n",
      "[CV]  n_estimators=500, min_child_weight=2, max_depth=2, learning_rate=0.2, booster=gbtree, base_score=0.25, score=(train=-6391.960, test=-14732.721), total=   1.2s\n",
      "[CV] n_estimators=500, min_child_weight=2, max_depth=2, learning_rate=0.2, booster=gbtree, base_score=0.25 \n",
      "[CV]  n_estimators=500, min_child_weight=2, max_depth=2, learning_rate=0.2, booster=gbtree, base_score=0.25, score=(train=-6446.093, test=-17444.942), total=   1.2s\n",
      "[CV] n_estimators=500, min_child_weight=2, max_depth=2, learning_rate=0.2, booster=gbtree, base_score=0.25 \n",
      "[CV]  n_estimators=500, min_child_weight=2, max_depth=2, learning_rate=0.2, booster=gbtree, base_score=0.25, score=(train=-6146.003, test=-15765.499), total=   1.2s\n",
      "[CV] n_estimators=500, min_child_weight=2, max_depth=2, learning_rate=0.2, booster=gbtree, base_score=0.25 \n",
      "[CV]  n_estimators=500, min_child_weight=2, max_depth=2, learning_rate=0.2, booster=gbtree, base_score=0.25, score=(train=-6540.727, test=-14429.427), total=   1.2s\n",
      "[CV] n_estimators=500, min_child_weight=2, max_depth=2, learning_rate=0.2, booster=gbtree, base_score=0.25 \n",
      "[CV]  n_estimators=500, min_child_weight=2, max_depth=2, learning_rate=0.2, booster=gbtree, base_score=0.25, score=(train=-5968.096, test=-18549.314), total=   1.3s\n",
      "[CV] n_estimators=500, min_child_weight=3, max_depth=5, learning_rate=0.2, booster=gbtree, base_score=0.5 \n",
      "[CV]  n_estimators=500, min_child_weight=3, max_depth=5, learning_rate=0.2, booster=gbtree, base_score=0.5, score=(train=-111.154, test=-16280.858), total=   2.2s\n",
      "[CV] n_estimators=500, min_child_weight=3, max_depth=5, learning_rate=0.2, booster=gbtree, base_score=0.5 \n",
      "[CV]  n_estimators=500, min_child_weight=3, max_depth=5, learning_rate=0.2, booster=gbtree, base_score=0.5, score=(train=-134.038, test=-16718.912), total=   2.2s\n",
      "[CV] n_estimators=500, min_child_weight=3, max_depth=5, learning_rate=0.2, booster=gbtree, base_score=0.5 \n",
      "[CV]  n_estimators=500, min_child_weight=3, max_depth=5, learning_rate=0.2, booster=gbtree, base_score=0.5, score=(train=-120.015, test=-17187.589), total=   2.3s\n",
      "[CV] n_estimators=500, min_child_weight=3, max_depth=5, learning_rate=0.2, booster=gbtree, base_score=0.5 \n",
      "[CV]  n_estimators=500, min_child_weight=3, max_depth=5, learning_rate=0.2, booster=gbtree, base_score=0.5, score=(train=-103.913, test=-13982.852), total=   2.2s\n",
      "[CV] n_estimators=500, min_child_weight=3, max_depth=5, learning_rate=0.2, booster=gbtree, base_score=0.5 \n",
      "[CV]  n_estimators=500, min_child_weight=3, max_depth=5, learning_rate=0.2, booster=gbtree, base_score=0.5, score=(train=-146.034, test=-18318.866), total=   2.3s\n",
      "[CV] n_estimators=900, min_child_weight=3, max_depth=15, learning_rate=0.05, booster=gbtree, base_score=0.25 \n",
      "[CV]  n_estimators=900, min_child_weight=3, max_depth=15, learning_rate=0.05, booster=gbtree, base_score=0.25, score=(train=-7.982, test=-16249.556), total=  10.5s\n",
      "[CV] n_estimators=900, min_child_weight=3, max_depth=15, learning_rate=0.05, booster=gbtree, base_score=0.25 \n",
      "[CV]  n_estimators=900, min_child_weight=3, max_depth=15, learning_rate=0.05, booster=gbtree, base_score=0.25, score=(train=-8.130, test=-16755.877), total=  10.2s\n",
      "[CV] n_estimators=900, min_child_weight=3, max_depth=15, learning_rate=0.05, booster=gbtree, base_score=0.25 \n",
      "[CV]  n_estimators=900, min_child_weight=3, max_depth=15, learning_rate=0.05, booster=gbtree, base_score=0.25, score=(train=-9.579, test=-17461.691), total=  10.6s\n",
      "[CV] n_estimators=900, min_child_weight=3, max_depth=15, learning_rate=0.05, booster=gbtree, base_score=0.25 \n",
      "[CV]  n_estimators=900, min_child_weight=3, max_depth=15, learning_rate=0.05, booster=gbtree, base_score=0.25, score=(train=-7.720, test=-15315.553), total=  10.0s\n",
      "[CV] n_estimators=900, min_child_weight=3, max_depth=15, learning_rate=0.05, booster=gbtree, base_score=0.25 \n",
      "[CV]  n_estimators=900, min_child_weight=3, max_depth=15, learning_rate=0.05, booster=gbtree, base_score=0.25, score=(train=-5.814, test=-17187.275), total=   9.8s\n",
      "[CV] n_estimators=500, min_child_weight=3, max_depth=10, learning_rate=0.1, booster=gbtree, base_score=1 \n",
      "[CV]  n_estimators=500, min_child_weight=3, max_depth=10, learning_rate=0.1, booster=gbtree, base_score=1, score=(train=-9.435, test=-16021.018), total=   3.9s\n",
      "[CV] n_estimators=500, min_child_weight=3, max_depth=10, learning_rate=0.1, booster=gbtree, base_score=1 \n",
      "[CV]  n_estimators=500, min_child_weight=3, max_depth=10, learning_rate=0.1, booster=gbtree, base_score=1, score=(train=-9.231, test=-16779.813), total=   3.9s\n",
      "[CV] n_estimators=500, min_child_weight=3, max_depth=10, learning_rate=0.1, booster=gbtree, base_score=1 \n",
      "[CV]  n_estimators=500, min_child_weight=3, max_depth=10, learning_rate=0.1, booster=gbtree, base_score=1, score=(train=-8.812, test=-17388.304), total=   4.0s\n",
      "[CV] n_estimators=500, min_child_weight=3, max_depth=10, learning_rate=0.1, booster=gbtree, base_score=1 \n",
      "[CV]  n_estimators=500, min_child_weight=3, max_depth=10, learning_rate=0.1, booster=gbtree, base_score=1, score=(train=-9.798, test=-14536.585), total=   4.1s\n",
      "[CV] n_estimators=500, min_child_weight=3, max_depth=10, learning_rate=0.1, booster=gbtree, base_score=1 \n",
      "[CV]  n_estimators=500, min_child_weight=3, max_depth=10, learning_rate=0.1, booster=gbtree, base_score=1, score=(train=-8.227, test=-16731.563), total=   3.7s\n",
      "[CV] n_estimators=100, min_child_weight=3, max_depth=10, learning_rate=0.15, booster=gbtree, base_score=0.5 \n",
      "[CV]  n_estimators=100, min_child_weight=3, max_depth=10, learning_rate=0.15, booster=gbtree, base_score=0.5, score=(train=-624.604, test=-16115.120), total=   0.8s\n",
      "[CV] n_estimators=100, min_child_weight=3, max_depth=10, learning_rate=0.15, booster=gbtree, base_score=0.5 \n",
      "[CV]  n_estimators=100, min_child_weight=3, max_depth=10, learning_rate=0.15, booster=gbtree, base_score=0.5, score=(train=-704.774, test=-16545.933), total=   0.8s\n",
      "[CV] n_estimators=100, min_child_weight=3, max_depth=10, learning_rate=0.15, booster=gbtree, base_score=0.5 \n"
     ]
    },
    {
     "name": "stdout",
     "output_type": "stream",
     "text": [
      "[CV]  n_estimators=100, min_child_weight=3, max_depth=10, learning_rate=0.15, booster=gbtree, base_score=0.5, score=(train=-1158.994, test=-17824.096), total=   0.8s\n",
      "[CV] n_estimators=100, min_child_weight=3, max_depth=10, learning_rate=0.15, booster=gbtree, base_score=0.5 \n",
      "[CV]  n_estimators=100, min_child_weight=3, max_depth=10, learning_rate=0.15, booster=gbtree, base_score=0.5, score=(train=-895.205, test=-15061.602), total=   0.8s\n",
      "[CV] n_estimators=100, min_child_weight=3, max_depth=10, learning_rate=0.15, booster=gbtree, base_score=0.5 \n",
      "[CV]  n_estimators=100, min_child_weight=3, max_depth=10, learning_rate=0.15, booster=gbtree, base_score=0.5, score=(train=-1206.357, test=-17420.696), total=   0.8s\n",
      "[CV] n_estimators=900, min_child_weight=1, max_depth=3, learning_rate=0.05, booster=gbtree, base_score=0.25 \n",
      "[CV]  n_estimators=900, min_child_weight=1, max_depth=3, learning_rate=0.05, booster=gbtree, base_score=0.25, score=(train=-5676.067, test=-15216.482), total=   2.7s\n",
      "[CV] n_estimators=900, min_child_weight=1, max_depth=3, learning_rate=0.05, booster=gbtree, base_score=0.25 \n",
      "[CV]  n_estimators=900, min_child_weight=1, max_depth=3, learning_rate=0.05, booster=gbtree, base_score=0.25, score=(train=-5759.805, test=-16075.362), total=   3.0s\n",
      "[CV] n_estimators=900, min_child_weight=1, max_depth=3, learning_rate=0.05, booster=gbtree, base_score=0.25 \n",
      "[CV]  n_estimators=900, min_child_weight=1, max_depth=3, learning_rate=0.05, booster=gbtree, base_score=0.25, score=(train=-5267.770, test=-15760.923), total=   2.8s\n",
      "[CV] n_estimators=900, min_child_weight=1, max_depth=3, learning_rate=0.05, booster=gbtree, base_score=0.25 \n",
      "[CV]  n_estimators=900, min_child_weight=1, max_depth=3, learning_rate=0.05, booster=gbtree, base_score=0.25, score=(train=-5991.964, test=-14141.976), total=   2.8s\n",
      "[CV] n_estimators=900, min_child_weight=1, max_depth=3, learning_rate=0.05, booster=gbtree, base_score=0.25 \n",
      "[CV]  n_estimators=900, min_child_weight=1, max_depth=3, learning_rate=0.05, booster=gbtree, base_score=0.25, score=(train=-5582.130, test=-16102.498), total=   2.8s\n",
      "[CV] n_estimators=500, min_child_weight=1, max_depth=15, learning_rate=0.15, booster=gbtree, base_score=0.5 \n",
      "[CV]  n_estimators=500, min_child_weight=1, max_depth=15, learning_rate=0.15, booster=gbtree, base_score=0.5, score=(train=-7.151, test=-16786.207), total=   5.9s\n",
      "[CV] n_estimators=500, min_child_weight=1, max_depth=15, learning_rate=0.15, booster=gbtree, base_score=0.5 \n",
      "[CV]  n_estimators=500, min_child_weight=1, max_depth=15, learning_rate=0.15, booster=gbtree, base_score=0.5, score=(train=-7.151, test=-18837.791), total=   5.9s\n",
      "[CV] n_estimators=500, min_child_weight=1, max_depth=15, learning_rate=0.15, booster=gbtree, base_score=0.5 \n",
      "[CV]  n_estimators=500, min_child_weight=1, max_depth=15, learning_rate=0.15, booster=gbtree, base_score=0.5, score=(train=-0.039, test=-18203.638), total=   5.8s\n",
      "[CV] n_estimators=500, min_child_weight=1, max_depth=15, learning_rate=0.15, booster=gbtree, base_score=0.5 \n",
      "[CV]  n_estimators=500, min_child_weight=1, max_depth=15, learning_rate=0.15, booster=gbtree, base_score=0.5, score=(train=-7.163, test=-16693.388), total=   5.7s\n",
      "[CV] n_estimators=500, min_child_weight=1, max_depth=15, learning_rate=0.15, booster=gbtree, base_score=0.5 \n",
      "[CV]  n_estimators=500, min_child_weight=1, max_depth=15, learning_rate=0.15, booster=gbtree, base_score=0.5, score=(train=-0.044, test=-18064.500), total=   5.8s\n",
      "[CV] n_estimators=1100, min_child_weight=3, max_depth=15, learning_rate=0.15, booster=gbtree, base_score=0.5 \n",
      "[CV]  n_estimators=1100, min_child_weight=3, max_depth=15, learning_rate=0.15, booster=gbtree, base_score=0.5, score=(train=-7.134, test=-16509.748), total=  12.2s\n",
      "[CV] n_estimators=1100, min_child_weight=3, max_depth=15, learning_rate=0.15, booster=gbtree, base_score=0.5 \n",
      "[CV]  n_estimators=1100, min_child_weight=3, max_depth=15, learning_rate=0.15, booster=gbtree, base_score=0.5, score=(train=-7.136, test=-17062.777), total=  12.3s\n",
      "[CV] n_estimators=1100, min_child_weight=3, max_depth=15, learning_rate=0.15, booster=gbtree, base_score=0.5 \n",
      "[CV]  n_estimators=1100, min_child_weight=3, max_depth=15, learning_rate=0.15, booster=gbtree, base_score=0.5, score=(train=-0.027, test=-17825.053), total=  12.2s\n",
      "[CV] n_estimators=1100, min_child_weight=3, max_depth=15, learning_rate=0.15, booster=gbtree, base_score=0.5 \n",
      "[CV]  n_estimators=1100, min_child_weight=3, max_depth=15, learning_rate=0.15, booster=gbtree, base_score=0.5, score=(train=-7.134, test=-15127.907), total=  12.1s\n",
      "[CV] n_estimators=1100, min_child_weight=3, max_depth=15, learning_rate=0.15, booster=gbtree, base_score=0.5 \n",
      "[CV]  n_estimators=1100, min_child_weight=3, max_depth=15, learning_rate=0.15, booster=gbtree, base_score=0.5, score=(train=-0.030, test=-17333.972), total=  12.1s\n",
      "[CV] n_estimators=100, min_child_weight=3, max_depth=15, learning_rate=0.1, booster=gblinear, base_score=0.75 \n",
      "[CV]  n_estimators=100, min_child_weight=3, max_depth=15, learning_rate=0.1, booster=gblinear, base_score=0.75, score=(train=-19182.455, test=-18883.907), total=   0.3s\n",
      "[CV] n_estimators=100, min_child_weight=3, max_depth=15, learning_rate=0.1, booster=gblinear, base_score=0.75 \n",
      "[CV]  n_estimators=100, min_child_weight=3, max_depth=15, learning_rate=0.1, booster=gblinear, base_score=0.75, score=(train=-18313.259, test=-22845.691), total=   0.3s\n",
      "[CV] n_estimators=100, min_child_weight=3, max_depth=15, learning_rate=0.1, booster=gblinear, base_score=0.75 \n",
      "[CV]  n_estimators=100, min_child_weight=3, max_depth=15, learning_rate=0.1, booster=gblinear, base_score=0.75, score=(train=-17991.173, test=-23807.011), total=   0.2s\n",
      "[CV] n_estimators=100, min_child_weight=3, max_depth=15, learning_rate=0.1, booster=gblinear, base_score=0.75 \n",
      "[CV]  n_estimators=100, min_child_weight=3, max_depth=15, learning_rate=0.1, booster=gblinear, base_score=0.75, score=(train=-18898.437, test=-19380.279), total=   0.3s\n",
      "[CV] n_estimators=100, min_child_weight=3, max_depth=15, learning_rate=0.1, booster=gblinear, base_score=0.75 \n",
      "[CV]  n_estimators=100, min_child_weight=3, max_depth=15, learning_rate=0.1, booster=gblinear, base_score=0.75, score=(train=-17340.692, test=-22524.669), total=   0.3s\n",
      "[CV] n_estimators=1100, min_child_weight=4, max_depth=15, learning_rate=0.1, booster=gbtree, base_score=1 \n",
      "[CV]  n_estimators=1100, min_child_weight=4, max_depth=15, learning_rate=0.1, booster=gbtree, base_score=1, score=(train=-7.148, test=-16347.039), total=  12.2s\n",
      "[CV] n_estimators=1100, min_child_weight=4, max_depth=15, learning_rate=0.1, booster=gbtree, base_score=1 \n",
      "[CV]  n_estimators=1100, min_child_weight=4, max_depth=15, learning_rate=0.1, booster=gbtree, base_score=1, score=(train=-7.144, test=-16934.569), total=  12.3s\n",
      "[CV] n_estimators=1100, min_child_weight=4, max_depth=15, learning_rate=0.1, booster=gbtree, base_score=1 \n",
      "[CV]  n_estimators=1100, min_child_weight=4, max_depth=15, learning_rate=0.1, booster=gbtree, base_score=1, score=(train=-0.146, test=-17893.931), total=  12.1s\n",
      "[CV] n_estimators=1100, min_child_weight=4, max_depth=15, learning_rate=0.1, booster=gbtree, base_score=1 \n",
      "[CV]  n_estimators=1100, min_child_weight=4, max_depth=15, learning_rate=0.1, booster=gbtree, base_score=1, score=(train=-7.153, test=-14564.123), total=  11.9s\n",
      "[CV] n_estimators=1100, min_child_weight=4, max_depth=15, learning_rate=0.1, booster=gbtree, base_score=1 \n",
      "[CV]  n_estimators=1100, min_child_weight=4, max_depth=15, learning_rate=0.1, booster=gbtree, base_score=1, score=(train=-0.247, test=-17252.262), total=  12.0s\n",
      "[CV] n_estimators=1500, min_child_weight=2, max_depth=2, learning_rate=0.1, booster=gbtree, base_score=0.5 \n",
      "[CV]  n_estimators=1500, min_child_weight=2, max_depth=2, learning_rate=0.1, booster=gbtree, base_score=0.5, score=(train=-5048.081, test=-15123.496), total=   3.5s\n",
      "[CV] n_estimators=1500, min_child_weight=2, max_depth=2, learning_rate=0.1, booster=gbtree, base_score=0.5 \n",
      "[CV]  n_estimators=1500, min_child_weight=2, max_depth=2, learning_rate=0.1, booster=gbtree, base_score=0.5, score=(train=-5026.254, test=-16266.734), total=   3.5s\n",
      "[CV] n_estimators=1500, min_child_weight=2, max_depth=2, learning_rate=0.1, booster=gbtree, base_score=0.5 \n"
     ]
    },
    {
     "name": "stdout",
     "output_type": "stream",
     "text": [
      "[CV]  n_estimators=1500, min_child_weight=2, max_depth=2, learning_rate=0.1, booster=gbtree, base_score=0.5, score=(train=-4904.459, test=-16038.338), total=   3.5s\n",
      "[CV] n_estimators=1500, min_child_weight=2, max_depth=2, learning_rate=0.1, booster=gbtree, base_score=0.5 \n",
      "[CV]  n_estimators=1500, min_child_weight=2, max_depth=2, learning_rate=0.1, booster=gbtree, base_score=0.5, score=(train=-5241.861, test=-14270.153), total=   3.5s\n",
      "[CV] n_estimators=1500, min_child_weight=2, max_depth=2, learning_rate=0.1, booster=gbtree, base_score=0.5 \n",
      "[CV]  n_estimators=1500, min_child_weight=2, max_depth=2, learning_rate=0.1, booster=gbtree, base_score=0.5, score=(train=-4732.533, test=-17098.400), total=   3.5s\n",
      "[CV] n_estimators=500, min_child_weight=4, max_depth=2, learning_rate=0.2, booster=gbtree, base_score=0.25 \n",
      "[CV]  n_estimators=500, min_child_weight=4, max_depth=2, learning_rate=0.2, booster=gbtree, base_score=0.25, score=(train=-6446.278, test=-15589.919), total=   1.2s\n",
      "[CV] n_estimators=500, min_child_weight=4, max_depth=2, learning_rate=0.2, booster=gbtree, base_score=0.25 \n",
      "[CV]  n_estimators=500, min_child_weight=4, max_depth=2, learning_rate=0.2, booster=gbtree, base_score=0.25, score=(train=-6536.201, test=-16840.194), total=   1.2s\n",
      "[CV] n_estimators=500, min_child_weight=4, max_depth=2, learning_rate=0.2, booster=gbtree, base_score=0.25 \n",
      "[CV]  n_estimators=500, min_child_weight=4, max_depth=2, learning_rate=0.2, booster=gbtree, base_score=0.25, score=(train=-6426.993, test=-16420.773), total=   1.2s\n",
      "[CV] n_estimators=500, min_child_weight=4, max_depth=2, learning_rate=0.2, booster=gbtree, base_score=0.25 \n",
      "[CV]  n_estimators=500, min_child_weight=4, max_depth=2, learning_rate=0.2, booster=gbtree, base_score=0.25, score=(train=-6583.605, test=-13522.271), total=   1.2s\n",
      "[CV] n_estimators=500, min_child_weight=4, max_depth=2, learning_rate=0.2, booster=gbtree, base_score=0.25 \n",
      "[CV]  n_estimators=500, min_child_weight=4, max_depth=2, learning_rate=0.2, booster=gbtree, base_score=0.25, score=(train=-6160.274, test=-18457.431), total=   1.2s\n",
      "[CV] n_estimators=100, min_child_weight=2, max_depth=5, learning_rate=0.1, booster=gblinear, base_score=0.25 \n",
      "[CV]  n_estimators=100, min_child_weight=2, max_depth=5, learning_rate=0.1, booster=gblinear, base_score=0.25, score=(train=-19146.983, test=-18817.524), total=   0.3s\n",
      "[CV] n_estimators=100, min_child_weight=2, max_depth=5, learning_rate=0.1, booster=gblinear, base_score=0.25 \n",
      "[CV]  n_estimators=100, min_child_weight=2, max_depth=5, learning_rate=0.1, booster=gblinear, base_score=0.25, score=(train=-18333.900, test=-22822.293), total=   0.3s\n",
      "[CV] n_estimators=100, min_child_weight=2, max_depth=5, learning_rate=0.1, booster=gblinear, base_score=0.25 \n",
      "[CV]  n_estimators=100, min_child_weight=2, max_depth=5, learning_rate=0.1, booster=gblinear, base_score=0.25, score=(train=-18003.853, test=-23832.692), total=   0.2s\n",
      "[CV] n_estimators=100, min_child_weight=2, max_depth=5, learning_rate=0.1, booster=gblinear, base_score=0.25 \n",
      "[CV]  n_estimators=100, min_child_weight=2, max_depth=5, learning_rate=0.1, booster=gblinear, base_score=0.25, score=(train=-18941.043, test=-19529.896), total=   0.3s\n",
      "[CV] n_estimators=100, min_child_weight=2, max_depth=5, learning_rate=0.1, booster=gblinear, base_score=0.25 \n",
      "[CV]  n_estimators=100, min_child_weight=2, max_depth=5, learning_rate=0.1, booster=gblinear, base_score=0.25, score=(train=-17380.193, test=-22463.943), total=   0.3s\n",
      "[CV] n_estimators=900, min_child_weight=1, max_depth=10, learning_rate=0.05, booster=gblinear, base_score=0.75 \n",
      "[CV]  n_estimators=900, min_child_weight=1, max_depth=10, learning_rate=0.05, booster=gblinear, base_score=0.75, score=(train=-17873.404, test=-18065.072), total=   2.1s\n",
      "[CV] n_estimators=900, min_child_weight=1, max_depth=10, learning_rate=0.05, booster=gblinear, base_score=0.75 \n",
      "[CV]  n_estimators=900, min_child_weight=1, max_depth=10, learning_rate=0.05, booster=gblinear, base_score=0.75, score=(train=-17006.937, test=-22156.835), total=   2.1s\n",
      "[CV] n_estimators=900, min_child_weight=1, max_depth=10, learning_rate=0.05, booster=gblinear, base_score=0.75 \n",
      "[CV]  n_estimators=900, min_child_weight=1, max_depth=10, learning_rate=0.05, booster=gblinear, base_score=0.75, score=(train=-16687.065, test=-22399.787), total=   2.1s\n",
      "[CV] n_estimators=900, min_child_weight=1, max_depth=10, learning_rate=0.05, booster=gblinear, base_score=0.75 \n",
      "[CV]  n_estimators=900, min_child_weight=1, max_depth=10, learning_rate=0.05, booster=gblinear, base_score=0.75, score=(train=-17715.253, test=-18611.557), total=   2.1s\n",
      "[CV] n_estimators=900, min_child_weight=1, max_depth=10, learning_rate=0.05, booster=gblinear, base_score=0.75 \n",
      "[CV]  n_estimators=900, min_child_weight=1, max_depth=10, learning_rate=0.05, booster=gblinear, base_score=0.75, score=(train=-15727.796, test=-21378.121), total=   2.1s\n",
      "[CV] n_estimators=500, min_child_weight=4, max_depth=15, learning_rate=0.15, booster=gbtree, base_score=1 \n",
      "[CV]  n_estimators=500, min_child_weight=4, max_depth=15, learning_rate=0.15, booster=gbtree, base_score=1, score=(train=-7.249, test=-16195.149), total=   5.4s\n",
      "[CV] n_estimators=500, min_child_weight=4, max_depth=15, learning_rate=0.15, booster=gbtree, base_score=1 \n",
      "[CV]  n_estimators=500, min_child_weight=4, max_depth=15, learning_rate=0.15, booster=gbtree, base_score=1, score=(train=-7.247, test=-18335.477), total=   5.5s\n",
      "[CV] n_estimators=500, min_child_weight=4, max_depth=15, learning_rate=0.15, booster=gbtree, base_score=1 \n",
      "[CV]  n_estimators=500, min_child_weight=4, max_depth=15, learning_rate=0.15, booster=gbtree, base_score=1, score=(train=-1.055, test=-17929.838), total=   5.5s\n",
      "[CV] n_estimators=500, min_child_weight=4, max_depth=15, learning_rate=0.15, booster=gbtree, base_score=1 \n",
      "[CV]  n_estimators=500, min_child_weight=4, max_depth=15, learning_rate=0.15, booster=gbtree, base_score=1, score=(train=-7.261, test=-14684.200), total=   5.5s\n",
      "[CV] n_estimators=500, min_child_weight=4, max_depth=15, learning_rate=0.15, booster=gbtree, base_score=1 \n",
      "[CV]  n_estimators=500, min_child_weight=4, max_depth=15, learning_rate=0.15, booster=gbtree, base_score=1, score=(train=-3.301, test=-16880.693), total=   5.4s\n",
      "[CV] n_estimators=1100, min_child_weight=2, max_depth=5, learning_rate=0.1, booster=gbtree, base_score=0.25 \n",
      "[CV]  n_estimators=1100, min_child_weight=2, max_depth=5, learning_rate=0.1, booster=gbtree, base_score=0.25, score=(train=-87.844, test=-15790.565), total=   4.8s\n",
      "[CV] n_estimators=1100, min_child_weight=2, max_depth=5, learning_rate=0.1, booster=gbtree, base_score=0.25 \n",
      "[CV]  n_estimators=1100, min_child_weight=2, max_depth=5, learning_rate=0.1, booster=gbtree, base_score=0.25, score=(train=-75.532, test=-16423.043), total=   4.8s\n",
      "[CV] n_estimators=1100, min_child_weight=2, max_depth=5, learning_rate=0.1, booster=gbtree, base_score=0.25 \n",
      "[CV]  n_estimators=1100, min_child_weight=2, max_depth=5, learning_rate=0.1, booster=gbtree, base_score=0.25, score=(train=-76.840, test=-17239.406), total=   4.8s\n",
      "[CV] n_estimators=1100, min_child_weight=2, max_depth=5, learning_rate=0.1, booster=gbtree, base_score=0.25 \n",
      "[CV]  n_estimators=1100, min_child_weight=2, max_depth=5, learning_rate=0.1, booster=gbtree, base_score=0.25, score=(train=-104.045, test=-14338.421), total=   4.8s\n",
      "[CV] n_estimators=1100, min_child_weight=2, max_depth=5, learning_rate=0.1, booster=gbtree, base_score=0.25 \n",
      "[CV]  n_estimators=1100, min_child_weight=2, max_depth=5, learning_rate=0.1, booster=gbtree, base_score=0.25, score=(train=-97.038, test=-16577.304), total=   4.8s\n",
      "[CV] n_estimators=1500, min_child_weight=3, max_depth=2, learning_rate=0.15, booster=gbtree, base_score=1 \n",
      "[CV]  n_estimators=1500, min_child_weight=3, max_depth=2, learning_rate=0.15, booster=gbtree, base_score=1, score=(train=-3560.639, test=-16093.244), total=   3.5s\n",
      "[CV] n_estimators=1500, min_child_weight=3, max_depth=2, learning_rate=0.15, booster=gbtree, base_score=1 \n",
      "[CV]  n_estimators=1500, min_child_weight=3, max_depth=2, learning_rate=0.15, booster=gbtree, base_score=1, score=(train=-3498.144, test=-16219.168), total=   3.5s\n",
      "[CV] n_estimators=1500, min_child_weight=3, max_depth=2, learning_rate=0.15, booster=gbtree, base_score=1 \n"
     ]
    },
    {
     "name": "stdout",
     "output_type": "stream",
     "text": [
      "[CV]  n_estimators=1500, min_child_weight=3, max_depth=2, learning_rate=0.15, booster=gbtree, base_score=1, score=(train=-3479.191, test=-16704.200), total=   3.6s\n",
      "[CV] n_estimators=1500, min_child_weight=3, max_depth=2, learning_rate=0.15, booster=gbtree, base_score=1 \n",
      "[CV]  n_estimators=1500, min_child_weight=3, max_depth=2, learning_rate=0.15, booster=gbtree, base_score=1, score=(train=-3648.703, test=-13858.038), total=   3.5s\n",
      "[CV] n_estimators=1500, min_child_weight=3, max_depth=2, learning_rate=0.15, booster=gbtree, base_score=1 \n",
      "[CV]  n_estimators=1500, min_child_weight=3, max_depth=2, learning_rate=0.15, booster=gbtree, base_score=1, score=(train=-3511.870, test=-17846.104), total=   3.5s\n",
      "[CV] n_estimators=500, min_child_weight=3, max_depth=3, learning_rate=0.1, booster=gblinear, base_score=0.75 \n",
      "[CV]  n_estimators=500, min_child_weight=3, max_depth=3, learning_rate=0.1, booster=gblinear, base_score=0.75, score=(train=-17868.953, test=-18007.756), total=   1.2s\n",
      "[CV] n_estimators=500, min_child_weight=3, max_depth=3, learning_rate=0.1, booster=gblinear, base_score=0.75 \n",
      "[CV]  n_estimators=500, min_child_weight=3, max_depth=3, learning_rate=0.1, booster=gblinear, base_score=0.75, score=(train=-16993.343, test=-22198.564), total=   1.1s\n",
      "[CV] n_estimators=500, min_child_weight=3, max_depth=3, learning_rate=0.1, booster=gblinear, base_score=0.75 \n",
      "[CV]  n_estimators=500, min_child_weight=3, max_depth=3, learning_rate=0.1, booster=gblinear, base_score=0.75, score=(train=-16696.415, test=-22463.054), total=   1.2s\n",
      "[CV] n_estimators=500, min_child_weight=3, max_depth=3, learning_rate=0.1, booster=gblinear, base_score=0.75 \n",
      "[CV]  n_estimators=500, min_child_weight=3, max_depth=3, learning_rate=0.1, booster=gblinear, base_score=0.75, score=(train=-17723.269, test=-18611.312), total=   1.1s\n",
      "[CV] n_estimators=500, min_child_weight=3, max_depth=3, learning_rate=0.1, booster=gblinear, base_score=0.75 \n",
      "[CV]  n_estimators=500, min_child_weight=3, max_depth=3, learning_rate=0.1, booster=gblinear, base_score=0.75, score=(train=-15707.426, test=-21356.821), total=   1.2s\n",
      "[CV] n_estimators=100, min_child_weight=2, max_depth=5, learning_rate=0.15, booster=gblinear, base_score=1 \n",
      "[CV]  n_estimators=100, min_child_weight=2, max_depth=5, learning_rate=0.15, booster=gblinear, base_score=1, score=(train=-18865.792, test=-18688.135), total=   0.3s\n",
      "[CV] n_estimators=100, min_child_weight=2, max_depth=5, learning_rate=0.15, booster=gblinear, base_score=1 \n",
      "[CV]  n_estimators=100, min_child_weight=2, max_depth=5, learning_rate=0.15, booster=gblinear, base_score=1, score=(train=-18158.571, test=-22785.872), total=   0.3s\n",
      "[CV] n_estimators=100, min_child_weight=2, max_depth=5, learning_rate=0.15, booster=gblinear, base_score=1 \n",
      "[CV]  n_estimators=100, min_child_weight=2, max_depth=5, learning_rate=0.15, booster=gblinear, base_score=1, score=(train=-17860.644, test=-23858.416), total=   0.3s\n",
      "[CV] n_estimators=100, min_child_weight=2, max_depth=5, learning_rate=0.15, booster=gblinear, base_score=1 \n",
      "[CV]  n_estimators=100, min_child_weight=2, max_depth=5, learning_rate=0.15, booster=gblinear, base_score=1, score=(train=-18787.931, test=-19342.847), total=   0.3s\n",
      "[CV] n_estimators=100, min_child_weight=2, max_depth=5, learning_rate=0.15, booster=gblinear, base_score=1 \n",
      "[CV]  n_estimators=100, min_child_weight=2, max_depth=5, learning_rate=0.15, booster=gblinear, base_score=1, score=(train=-16957.524, test=-22084.944), total=   0.3s\n",
      "[CV] n_estimators=100, min_child_weight=4, max_depth=15, learning_rate=0.1, booster=gbtree, base_score=0.25 \n",
      "[CV]  n_estimators=100, min_child_weight=4, max_depth=15, learning_rate=0.1, booster=gbtree, base_score=0.25, score=(train=-806.669, test=-16271.059), total=   1.1s\n",
      "[CV] n_estimators=100, min_child_weight=4, max_depth=15, learning_rate=0.1, booster=gbtree, base_score=0.25 \n",
      "[CV]  n_estimators=100, min_child_weight=4, max_depth=15, learning_rate=0.1, booster=gbtree, base_score=0.25, score=(train=-1148.496, test=-16975.773), total=   1.1s\n",
      "[CV] n_estimators=100, min_child_weight=4, max_depth=15, learning_rate=0.1, booster=gbtree, base_score=0.25 \n",
      "[CV]  n_estimators=100, min_child_weight=4, max_depth=15, learning_rate=0.1, booster=gbtree, base_score=0.25, score=(train=-982.691, test=-17698.170), total=   1.0s\n",
      "[CV] n_estimators=100, min_child_weight=4, max_depth=15, learning_rate=0.1, booster=gbtree, base_score=0.25 \n",
      "[CV]  n_estimators=100, min_child_weight=4, max_depth=15, learning_rate=0.1, booster=gbtree, base_score=0.25, score=(train=-880.092, test=-15026.206), total=   1.1s\n",
      "[CV] n_estimators=100, min_child_weight=4, max_depth=15, learning_rate=0.1, booster=gbtree, base_score=0.25 \n",
      "[CV]  n_estimators=100, min_child_weight=4, max_depth=15, learning_rate=0.1, booster=gbtree, base_score=0.25, score=(train=-1039.885, test=-17442.608), total=   1.0s\n",
      "[CV] n_estimators=1100, min_child_weight=1, max_depth=10, learning_rate=0.1, booster=gbtree, base_score=0.75 \n",
      "[CV]  n_estimators=1100, min_child_weight=1, max_depth=10, learning_rate=0.1, booster=gbtree, base_score=0.75, score=(train=-7.210, test=-16402.411), total=   8.7s\n",
      "[CV] n_estimators=1100, min_child_weight=1, max_depth=10, learning_rate=0.1, booster=gbtree, base_score=0.75 \n",
      "[CV]  n_estimators=1100, min_child_weight=1, max_depth=10, learning_rate=0.1, booster=gbtree, base_score=0.75, score=(train=-7.209, test=-16621.305), total=   8.7s\n",
      "[CV] n_estimators=1100, min_child_weight=1, max_depth=10, learning_rate=0.1, booster=gbtree, base_score=0.75 \n",
      "[CV]  n_estimators=1100, min_child_weight=1, max_depth=10, learning_rate=0.1, booster=gbtree, base_score=0.75, score=(train=-0.097, test=-17711.308), total=   8.7s\n",
      "[CV] n_estimators=1100, min_child_weight=1, max_depth=10, learning_rate=0.1, booster=gbtree, base_score=0.75 \n",
      "[CV]  n_estimators=1100, min_child_weight=1, max_depth=10, learning_rate=0.1, booster=gbtree, base_score=0.75, score=(train=-7.206, test=-15852.173), total=   8.8s\n",
      "[CV] n_estimators=1100, min_child_weight=1, max_depth=10, learning_rate=0.1, booster=gbtree, base_score=0.75 \n",
      "[CV]  n_estimators=1100, min_child_weight=1, max_depth=10, learning_rate=0.1, booster=gbtree, base_score=0.75, score=(train=-0.070, test=-18278.709), total=   8.7s\n",
      "[CV] n_estimators=1100, min_child_weight=3, max_depth=3, learning_rate=0.2, booster=gblinear, base_score=1 \n",
      "[CV]  n_estimators=1100, min_child_weight=3, max_depth=3, learning_rate=0.2, booster=gblinear, base_score=1, score=(train=-17682.150, test=-18436.714), total=   2.6s\n",
      "[CV] n_estimators=1100, min_child_weight=3, max_depth=3, learning_rate=0.2, booster=gblinear, base_score=1 \n",
      "[CV]  n_estimators=1100, min_child_weight=3, max_depth=3, learning_rate=0.2, booster=gblinear, base_score=1, score=(train=-16889.049, test=-21948.375), total=   2.6s\n",
      "[CV] n_estimators=1100, min_child_weight=3, max_depth=3, learning_rate=0.2, booster=gblinear, base_score=1 \n",
      "[CV]  n_estimators=1100, min_child_weight=3, max_depth=3, learning_rate=0.2, booster=gblinear, base_score=1, score=(train=-16411.361, test=-22266.391), total=   2.6s\n",
      "[CV] n_estimators=1100, min_child_weight=3, max_depth=3, learning_rate=0.2, booster=gblinear, base_score=1 \n",
      "[CV]  n_estimators=1100, min_child_weight=3, max_depth=3, learning_rate=0.2, booster=gblinear, base_score=1, score=(train=-17439.907, test=-19335.996), total=   2.5s\n",
      "[CV] n_estimators=1100, min_child_weight=3, max_depth=3, learning_rate=0.2, booster=gblinear, base_score=1 \n",
      "[CV]  n_estimators=1100, min_child_weight=3, max_depth=3, learning_rate=0.2, booster=gblinear, base_score=1, score=(train=-15487.446, test=-21696.268), total=   2.5s\n",
      "[CV] n_estimators=900, min_child_weight=4, max_depth=3, learning_rate=0.2, booster=gbtree, base_score=1 \n",
      "[CV]  n_estimators=900, min_child_weight=4, max_depth=3, learning_rate=0.2, booster=gbtree, base_score=1, score=(train=-951.578, test=-16157.275), total=   2.6s\n",
      "[CV] n_estimators=900, min_child_weight=4, max_depth=3, learning_rate=0.2, booster=gbtree, base_score=1 \n",
      "[CV]  n_estimators=900, min_child_weight=4, max_depth=3, learning_rate=0.2, booster=gbtree, base_score=1, score=(train=-888.383, test=-17492.458), total=   2.7s\n",
      "[CV] n_estimators=900, min_child_weight=4, max_depth=3, learning_rate=0.2, booster=gbtree, base_score=1 \n"
     ]
    },
    {
     "name": "stdout",
     "output_type": "stream",
     "text": [
      "[CV]  n_estimators=900, min_child_weight=4, max_depth=3, learning_rate=0.2, booster=gbtree, base_score=1, score=(train=-955.171, test=-17785.044), total=   2.7s\n",
      "[CV] n_estimators=900, min_child_weight=4, max_depth=3, learning_rate=0.2, booster=gbtree, base_score=1 \n",
      "[CV]  n_estimators=900, min_child_weight=4, max_depth=3, learning_rate=0.2, booster=gbtree, base_score=1, score=(train=-1015.479, test=-14348.291), total=   2.8s\n",
      "[CV] n_estimators=900, min_child_weight=4, max_depth=3, learning_rate=0.2, booster=gbtree, base_score=1 \n",
      "[CV]  n_estimators=900, min_child_weight=4, max_depth=3, learning_rate=0.2, booster=gbtree, base_score=1, score=(train=-1016.601, test=-18083.745), total=   2.8s\n",
      "[CV] n_estimators=1500, min_child_weight=2, max_depth=5, learning_rate=0.1, booster=gbtree, base_score=1 \n",
      "[CV]  n_estimators=1500, min_child_weight=2, max_depth=5, learning_rate=0.1, booster=gbtree, base_score=1, score=(train=-27.248, test=-15790.281), total=   6.6s\n",
      "[CV] n_estimators=1500, min_child_weight=2, max_depth=5, learning_rate=0.1, booster=gbtree, base_score=1 \n",
      "[CV]  n_estimators=1500, min_child_weight=2, max_depth=5, learning_rate=0.1, booster=gbtree, base_score=1, score=(train=-24.561, test=-16512.781), total=   6.5s\n",
      "[CV] n_estimators=1500, min_child_weight=2, max_depth=5, learning_rate=0.1, booster=gbtree, base_score=1 \n",
      "[CV]  n_estimators=1500, min_child_weight=2, max_depth=5, learning_rate=0.1, booster=gbtree, base_score=1, score=(train=-22.331, test=-17242.593), total=   6.6s\n",
      "[CV] n_estimators=1500, min_child_weight=2, max_depth=5, learning_rate=0.1, booster=gbtree, base_score=1 \n",
      "[CV]  n_estimators=1500, min_child_weight=2, max_depth=5, learning_rate=0.1, booster=gbtree, base_score=1, score=(train=-28.455, test=-14312.471), total=   6.5s\n",
      "[CV] n_estimators=1500, min_child_weight=2, max_depth=5, learning_rate=0.1, booster=gbtree, base_score=1 \n",
      "[CV]  n_estimators=1500, min_child_weight=2, max_depth=5, learning_rate=0.1, booster=gbtree, base_score=1, score=(train=-23.717, test=-16580.870), total=   6.5s\n",
      "[CV] n_estimators=500, min_child_weight=1, max_depth=10, learning_rate=0.2, booster=gblinear, base_score=0.75 \n",
      "[CV]  n_estimators=500, min_child_weight=1, max_depth=10, learning_rate=0.2, booster=gblinear, base_score=0.75, score=(train=-17795.759, test=-18243.626), total=   1.2s\n",
      "[CV] n_estimators=500, min_child_weight=1, max_depth=10, learning_rate=0.2, booster=gblinear, base_score=0.75 \n",
      "[CV]  n_estimators=500, min_child_weight=1, max_depth=10, learning_rate=0.2, booster=gblinear, base_score=0.75, score=(train=-16961.265, test=-22244.394), total=   1.1s\n",
      "[CV] n_estimators=500, min_child_weight=1, max_depth=10, learning_rate=0.2, booster=gblinear, base_score=0.75 \n",
      "[CV]  n_estimators=500, min_child_weight=1, max_depth=10, learning_rate=0.2, booster=gblinear, base_score=0.75, score=(train=-16587.299, test=-22401.452), total=   1.2s\n",
      "[CV] n_estimators=500, min_child_weight=1, max_depth=10, learning_rate=0.2, booster=gblinear, base_score=0.75 \n",
      "[CV]  n_estimators=500, min_child_weight=1, max_depth=10, learning_rate=0.2, booster=gblinear, base_score=0.75, score=(train=-17630.234, test=-18925.550), total=   1.2s\n",
      "[CV] n_estimators=500, min_child_weight=1, max_depth=10, learning_rate=0.2, booster=gblinear, base_score=0.75 \n",
      "[CV]  n_estimators=500, min_child_weight=1, max_depth=10, learning_rate=0.2, booster=gblinear, base_score=0.75, score=(train=-15583.436, test=-21435.234), total=   1.2s\n"
     ]
    },
    {
     "name": "stderr",
     "output_type": "stream",
     "text": [
      "[Parallel(n_jobs=1)]: Done 500 out of 500 | elapsed: 31.1min finished\n"
     ]
    },
    {
     "data": {
      "text/plain": [
       "RandomizedSearchCV(cv=5, error_score=nan,\n",
       "                   estimator=XGBRegressor(base_score=None, booster=None,\n",
       "                                          colsample_bylevel=None,\n",
       "                                          colsample_bynode=None,\n",
       "                                          colsample_bytree=None, gamma=None,\n",
       "                                          gpu_id=None, importance_type='gain',\n",
       "                                          interaction_constraints=None,\n",
       "                                          learning_rate=None,\n",
       "                                          max_delta_step=None, max_depth=None,\n",
       "                                          min_child_weight=None, missing=nan,\n",
       "                                          monotone_constraints=None,\n",
       "                                          n_...\n",
       "                   iid='deprecated', n_iter=100, n_jobs=None,\n",
       "                   param_distributions={'base_score': [0.25, 0.5, 0.75, 1],\n",
       "                                        'booster': ['gbtree', 'gblinear'],\n",
       "                                        'learning_rate': [0.05, 0.1, 0.15, 0.2],\n",
       "                                        'max_depth': [2, 3, 5, 10, 15],\n",
       "                                        'min_child_weight': [1, 2, 3, 4],\n",
       "                                        'n_estimators': [100, 500, 900, 1100,\n",
       "                                                         1500]},\n",
       "                   pre_dispatch='2*n_jobs', random_state=0, refit=True,\n",
       "                   return_train_score=True, scoring='neg_mean_absolute_error',\n",
       "                   verbose=5)"
      ]
     },
     "execution_count": 49,
     "metadata": {},
     "output_type": "execute_result"
    }
   ],
   "source": [
    "\n",
    "random_cv.fit(X_train,y_train)"
   ]
  },
  {
   "cell_type": "code",
   "execution_count": 61,
   "metadata": {},
   "outputs": [
    {
     "data": {
      "text/plain": [
       "XGBRegressor(base_score=0.25, booster='gbtree', colsample_bylevel=1,\n",
       "             colsample_bynode=1, colsample_bytree=1, gamma=0, gpu_id=-1,\n",
       "             importance_type='gain', interaction_constraints=None,\n",
       "             learning_rate=0.05, max_delta_step=0, max_depth=3,\n",
       "             min_child_weight=1, missing=nan, monotone_constraints=None,\n",
       "             n_estimators=900, n_jobs=0, num_parallel_tree=1,\n",
       "             objective='reg:squarederror', random_state=0, reg_alpha=0,\n",
       "             reg_lambda=1, scale_pos_weight=1, subsample=1, tree_method=None,\n",
       "             validate_parameters=False, verbosity=None)"
      ]
     },
     "execution_count": 61,
     "metadata": {},
     "output_type": "execute_result"
    }
   ],
   "source": [
    "\n",
    "random_cv.best_estimator_"
   ]
  },
  {
   "cell_type": "code",
   "execution_count": 62,
   "metadata": {},
   "outputs": [],
   "source": [
    "regressor=xgboost.XGBRegressor(base_score=0.25, booster='gbtree', colsample_bylevel=1,\n",
    "       colsample_bytree=1, gamma=0, learning_rate=0.05, max_delta_step=0,\n",
    "       max_depth=3, min_child_weight=1, missing=None, n_estimators=900,\n",
    "       n_jobs=1, nthread=None, objective='reg:linear', random_state=0,\n",
    "       reg_alpha=0, reg_lambda=1, scale_pos_weight=1, seed=None,\n",
    "       silent=True, subsample=1)"
   ]
  },
  {
   "cell_type": "code",
   "execution_count": 63,
   "metadata": {},
   "outputs": [
    {
     "data": {
      "text/plain": [
       "XGBRegressor(base_score=0.25, booster='gbtree', colsample_bylevel=1,\n",
       "             colsample_bynode=1, colsample_bytree=1, gamma=0, gpu_id=-1,\n",
       "             importance_type='gain', interaction_constraints=None,\n",
       "             learning_rate=0.05, max_delta_step=0, max_depth=3,\n",
       "             min_child_weight=1, missing=nan, monotone_constraints=None,\n",
       "             n_estimators=900, n_jobs=1, nthread=1, num_parallel_tree=1,\n",
       "             objective='reg:linear', random_state=0, reg_alpha=0, reg_lambda=1,\n",
       "             scale_pos_weight=1, seed=0, silent=True, subsample=1,\n",
       "             tree_method=None, validate_parameters=False, verbosity=None)"
      ]
     },
     "execution_count": 63,
     "metadata": {},
     "output_type": "execute_result"
    }
   ],
   "source": [
    "regressor.fit(X_train,y_train)"
   ]
  },
  {
   "cell_type": "code",
   "execution_count": 64,
   "metadata": {},
   "outputs": [],
   "source": [
    "\n",
    "import pickle\n",
    "filename = 'finalized_model.pkl'\n",
    "pickle.dump(classifier, open(filename, 'wb'))"
   ]
  },
  {
   "cell_type": "code",
   "execution_count": 65,
   "metadata": {},
   "outputs": [
    {
     "data": {
      "text/plain": [
       "(1459, 175)"
      ]
     },
     "execution_count": 65,
     "metadata": {},
     "output_type": "execute_result"
    }
   ],
   "source": [
    "df_test.shape"
   ]
  },
  {
   "cell_type": "code",
   "execution_count": 66,
   "metadata": {},
   "outputs": [],
   "source": [
    "\n",
    "y_pred=regressor.predict(df_test)"
   ]
  },
  {
   "cell_type": "code",
   "execution_count": 67,
   "metadata": {},
   "outputs": [
    {
     "data": {
      "text/plain": [
       "array([125687.91 , 155118.95 , 182117.11 , ..., 167596.61 , 119656.195,\n",
       "       244221.23 ], dtype=float32)"
      ]
     },
     "execution_count": 67,
     "metadata": {},
     "output_type": "execute_result"
    }
   ],
   "source": [
    "y_pred"
   ]
  },
  {
   "cell_type": "code",
   "execution_count": 68,
   "metadata": {},
   "outputs": [],
   "source": [
    "pred=pd.DataFrame(y_pred)\n",
    "sub_df=pd.read_csv('sample_submission.csv')\n",
    "datasets=pd.concat([sub_df['Id'],pred],axis=1)\n",
    "datasets.columns=['Id','SalePrice']\n",
    "datasets.to_csv('sample_submission.csv',index=False)"
   ]
  },
  {
   "cell_type": "code",
   "execution_count": null,
   "metadata": {},
   "outputs": [],
   "source": [
    "\n"
   ]
  },
  {
   "cell_type": "code",
   "execution_count": null,
   "metadata": {},
   "outputs": [],
   "source": []
  },
  {
   "cell_type": "code",
   "execution_count": null,
   "metadata": {},
   "outputs": [],
   "source": []
  },
  {
   "cell_type": "code",
   "execution_count": null,
   "metadata": {},
   "outputs": [],
   "source": []
  },
  {
   "cell_type": "code",
   "execution_count": null,
   "metadata": {},
   "outputs": [],
   "source": []
  },
  {
   "cell_type": "code",
   "execution_count": null,
   "metadata": {},
   "outputs": [],
   "source": []
  },
  {
   "cell_type": "code",
   "execution_count": null,
   "metadata": {},
   "outputs": [],
   "source": [
    "\n"
   ]
  },
  {
   "cell_type": "code",
   "execution_count": null,
   "metadata": {},
   "outputs": [],
   "source": []
  },
  {
   "cell_type": "code",
   "execution_count": null,
   "metadata": {},
   "outputs": [],
   "source": []
  },
  {
   "cell_type": "code",
   "execution_count": null,
   "metadata": {},
   "outputs": [],
   "source": []
  },
  {
   "cell_type": "code",
   "execution_count": null,
   "metadata": {},
   "outputs": [],
   "source": []
  },
  {
   "cell_type": "code",
   "execution_count": null,
   "metadata": {},
   "outputs": [],
   "source": []
  },
  {
   "cell_type": "code",
   "execution_count": null,
   "metadata": {},
   "outputs": [],
   "source": []
  },
  {
   "cell_type": "code",
   "execution_count": null,
   "metadata": {},
   "outputs": [],
   "source": []
  },
  {
   "cell_type": "code",
   "execution_count": null,
   "metadata": {},
   "outputs": [],
   "source": []
  },
  {
   "cell_type": "code",
   "execution_count": null,
   "metadata": {},
   "outputs": [],
   "source": []
  },
  {
   "cell_type": "code",
   "execution_count": null,
   "metadata": {},
   "outputs": [],
   "source": []
  },
  {
   "cell_type": "code",
   "execution_count": null,
   "metadata": {},
   "outputs": [],
   "source": []
  }
 ],
 "metadata": {
  "kernelspec": {
   "display_name": "'Python Interactive'",
   "language": "python",
   "name": "d2af85c8-5c8a-40de-b958-2fd1be31e34a"
  },
  "language_info": {
   "codemirror_mode": {
    "name": "ipython",
    "version": 3
   },
   "file_extension": ".py",
   "mimetype": "text/x-python",
   "name": "python",
   "nbconvert_exporter": "python",
   "pygments_lexer": "ipython3",
   "version": "3.7.6"
  }
 },
 "nbformat": 4,
 "nbformat_minor": 4
}
